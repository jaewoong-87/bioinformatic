{
  "nbformat": 4,
  "nbformat_minor": 0,
  "metadata": {
    "colab": {
      "name": "Recommender System.ipynb",
      "provenance": [],
      "collapsed_sections": [],
      "authorship_tag": "ABX9TyPh9G36YKlI0x7g3zq4b8Q1",
      "include_colab_link": true
    },
    "kernelspec": {
      "name": "python3",
      "display_name": "Python 3"
    }
  },
  "cells": [
    {
      "cell_type": "markdown",
      "metadata": {
        "id": "view-in-github",
        "colab_type": "text"
      },
      "source": [
        "<a href=\"https://colab.research.google.com/github/jaewoong-87/machine-learning/blob/main/Recommender_System.ipynb\" target=\"_parent\"><img src=\"https://colab.research.google.com/assets/colab-badge.svg\" alt=\"Open In Colab\"/></a>"
      ]
    },
    {
      "cell_type": "markdown",
      "metadata": {
        "id": "PvLlkJ5HxJsX"
      },
      "source": [
        "- content-based filtering\r\n",
        "- collabrative filtering"
      ]
    },
    {
      "cell_type": "markdown",
      "metadata": {
        "id": "xeFR1GQdxYx_"
      },
      "source": [
        "surprise libarary which provide various model."
      ]
    },
    {
      "cell_type": "code",
      "metadata": {
        "colab": {
          "base_uri": "https://localhost:8080/"
        },
        "id": "A0rjmueyxAd0",
        "outputId": "3c8cf4f0-c290-4c0c-c29f-e2181a06a8d0"
      },
      "source": [
        "!pip install scikit-surprise"
      ],
      "execution_count": null,
      "outputs": [
        {
          "output_type": "stream",
          "text": [
            "Collecting scikit-surprise\n",
            "\u001b[?25l  Downloading https://files.pythonhosted.org/packages/97/37/5d334adaf5ddd65da99fc65f6507e0e4599d092ba048f4302fe8775619e8/scikit-surprise-1.1.1.tar.gz (11.8MB)\n",
            "\u001b[K     |████████████████████████████████| 11.8MB 5.2MB/s \n",
            "\u001b[?25hRequirement already satisfied: joblib>=0.11 in /usr/local/lib/python3.6/dist-packages (from scikit-surprise) (1.0.0)\n",
            "Requirement already satisfied: numpy>=1.11.2 in /usr/local/lib/python3.6/dist-packages (from scikit-surprise) (1.19.5)\n",
            "Requirement already satisfied: scipy>=1.0.0 in /usr/local/lib/python3.6/dist-packages (from scikit-surprise) (1.4.1)\n",
            "Requirement already satisfied: six>=1.10.0 in /usr/local/lib/python3.6/dist-packages (from scikit-surprise) (1.15.0)\n",
            "Building wheels for collected packages: scikit-surprise\n",
            "  Building wheel for scikit-surprise (setup.py) ... \u001b[?25l\u001b[?25hdone\n",
            "  Created wheel for scikit-surprise: filename=scikit_surprise-1.1.1-cp36-cp36m-linux_x86_64.whl size=1618263 sha256=78030e6bfc05776212de4887884afd1dddaf4943d87b8856742febc5cb9e5f9f\n",
            "  Stored in directory: /root/.cache/pip/wheels/78/9c/3d/41b419c9d2aff5b6e2b4c0fc8d25c538202834058f9ed110d0\n",
            "Successfully built scikit-surprise\n",
            "Installing collected packages: scikit-surprise\n",
            "Successfully installed scikit-surprise-1.1.1\n"
          ],
          "name": "stdout"
        }
      ]
    },
    {
      "cell_type": "code",
      "metadata": {
        "id": "HU715zZMxWCm"
      },
      "source": [
        "from surprise import SVD, Dataset\r\n",
        "from surprise.model_selection import cross_validate"
      ],
      "execution_count": null,
      "outputs": []
    },
    {
      "cell_type": "code",
      "metadata": {
        "colab": {
          "base_uri": "https://localhost:8080/"
        },
        "id": "IrOoqtraxWI_",
        "outputId": "abd7694b-50b5-4000-f174-7992f711c1ab"
      },
      "source": [
        "data = Dataset.load_builtin('ml-100k', prompt=False)\r\n",
        "data.raw_ratings[:10]"
      ],
      "execution_count": null,
      "outputs": [
        {
          "output_type": "stream",
          "text": [
            "Trying to download dataset from http://files.grouplens.org/datasets/movielens/ml-100k.zip...\n",
            "Done! Dataset ml-100k has been saved to /root/.surprise_data/ml-100k\n"
          ],
          "name": "stdout"
        },
        {
          "output_type": "execute_result",
          "data": {
            "text/plain": [
              "[('196', '242', 3.0, '881250949'),\n",
              " ('186', '302', 3.0, '891717742'),\n",
              " ('22', '377', 1.0, '878887116'),\n",
              " ('244', '51', 2.0, '880606923'),\n",
              " ('166', '346', 1.0, '886397596'),\n",
              " ('298', '474', 4.0, '884182806'),\n",
              " ('115', '265', 2.0, '881171488'),\n",
              " ('253', '465', 5.0, '891628467'),\n",
              " ('305', '451', 3.0, '886324817'),\n",
              " ('6', '86', 3.0, '883603013')]"
            ]
          },
          "metadata": {
            "tags": []
          },
          "execution_count": 3
        }
      ]
    },
    {
      "cell_type": "code",
      "metadata": {
        "id": "H4w5jStExWPR"
      },
      "source": [
        "model = SVD()"
      ],
      "execution_count": null,
      "outputs": []
    },
    {
      "cell_type": "code",
      "metadata": {
        "colab": {
          "base_uri": "https://localhost:8080/"
        },
        "id": "0S3z8HBVxWUS",
        "outputId": "f6eef74e-843e-461e-d83d-eb30602fb9d3"
      },
      "source": [
        "cross_validate(model, data, measures=['rmse','mae'], cv=5, verbose=True)"
      ],
      "execution_count": null,
      "outputs": [
        {
          "output_type": "stream",
          "text": [
            "Evaluating RMSE, MAE of algorithm SVD on 5 split(s).\n",
            "\n",
            "                  Fold 1  Fold 2  Fold 3  Fold 4  Fold 5  Mean    Std     \n",
            "RMSE (testset)    0.9368  0.9475  0.9270  0.9318  0.9329  0.9352  0.0069  \n",
            "MAE (testset)     0.7382  0.7454  0.7307  0.7363  0.7368  0.7375  0.0047  \n",
            "Fit time          4.97    5.05    4.98    4.99    4.97    5.00    0.03    \n",
            "Test time         0.15    0.23    0.14    0.23    0.15    0.18    0.04    \n"
          ],
          "name": "stdout"
        },
        {
          "output_type": "execute_result",
          "data": {
            "text/plain": [
              "{'fit_time': (4.9744203090667725,\n",
              "  5.054948091506958,\n",
              "  4.981919288635254,\n",
              "  4.9945008754730225,\n",
              "  4.973046064376831),\n",
              " 'test_mae': array([0.73824812, 0.7453662 , 0.73069111, 0.73633312, 0.73675074]),\n",
              " 'test_rmse': array([0.93683619, 0.94746549, 0.92700141, 0.93182452, 0.9328947 ]),\n",
              " 'test_time': (0.14820337295532227,\n",
              "  0.23226022720336914,\n",
              "  0.14212989807128906,\n",
              "  0.22806954383850098,\n",
              "  0.1471257209777832)}"
            ]
          },
          "metadata": {
            "tags": []
          },
          "execution_count": 5
        }
      ]
    },
    {
      "cell_type": "markdown",
      "metadata": {
        "id": "d2bjYtOJydTJ"
      },
      "source": [
        "content based filtering"
      ]
    },
    {
      "cell_type": "code",
      "metadata": {
        "id": "4nC5nnkFxWXf"
      },
      "source": [
        "import numpy as np"
      ],
      "execution_count": null,
      "outputs": []
    },
    {
      "cell_type": "code",
      "metadata": {
        "id": "fGqIjfIhxWa3"
      },
      "source": [
        "data = Dataset.load_builtin('ml-100k', prompt=False)\r\n",
        "raw_data = np.array(data.raw_ratings, dtype=int)"
      ],
      "execution_count": null,
      "outputs": []
    },
    {
      "cell_type": "code",
      "metadata": {
        "id": "_KsTc5D5xWhF"
      },
      "source": [
        "raw_data[:,0] -=1\r\n",
        "raw_data[:,1] -=1"
      ],
      "execution_count": null,
      "outputs": []
    },
    {
      "cell_type": "code",
      "metadata": {
        "colab": {
          "base_uri": "https://localhost:8080/"
        },
        "id": "P01aR6uTxWkO",
        "outputId": "3282945c-52fb-40b4-9abe-3f07dc00b7a9"
      },
      "source": [
        "n_users = np.max(raw_data[:,0])\r\n",
        "n_movies = np.max(raw_data[:,1])\r\n",
        "shape = (n_users + 1, n_movies +1)\r\n",
        "shape"
      ],
      "execution_count": null,
      "outputs": [
        {
          "output_type": "execute_result",
          "data": {
            "text/plain": [
              "(943, 1682)"
            ]
          },
          "metadata": {
            "tags": []
          },
          "execution_count": 9
        }
      ]
    },
    {
      "cell_type": "code",
      "metadata": {
        "id": "Vw_DzbK9xWsl"
      },
      "source": [
        "adj_matrix = np.ndarray(shape, dtype=int)\r\n",
        "for user_id, movie_id, rating, time in raw_data:\r\n",
        "  adj_matrix[user_id][movie_id] =1.\r\n",
        "  adj_matrix"
      ],
      "execution_count": null,
      "outputs": []
    },
    {
      "cell_type": "code",
      "metadata": {
        "colab": {
          "base_uri": "https://localhost:8080/"
        },
        "id": "AOf4HATnzW6o",
        "outputId": "ed78d2a8-4146-4ade-eb08-e11b3b1d2317"
      },
      "source": [
        "my_id, my_vector = 0, adj_matrix[0]\r\n",
        "best_match, best_match_id, best_match_vector = -1, -1, []\r\n",
        "\r\n",
        "for user_id, user_vector in enumerate(adj_matrix):\r\n",
        "  if my_id != user_id:\r\n",
        "    similarity = np.dot(my_vector, user_vector)\r\n",
        "    if similarity> best_match:\r\n",
        "      best_match = similarity\r\n",
        "      best_match_id = user_id\r\n",
        "      best_match_vector = user_vector\r\n",
        "\r\n",
        "print(\"best match:{}, best match id:{}\".format(best_match, best_match_id))"
      ],
      "execution_count": null,
      "outputs": [
        {
          "output_type": "stream",
          "text": [
            "best match:183, best match id:275\n"
          ],
          "name": "stdout"
        }
      ]
    },
    {
      "cell_type": "code",
      "metadata": {
        "colab": {
          "base_uri": "https://localhost:8080/"
        },
        "id": "BdcohgwxzXBZ",
        "outputId": "ae0e732a-8687-44ab-b610-8d3850a05714"
      },
      "source": [
        "recommend_list = []\r\n",
        "for i, log in enumerate(zip(my_vector, best_match_vector)):\r\n",
        "  log1, log2 = log\r\n",
        "  if log1 <1. and log2 >0.:\r\n",
        "    recommend_list.append(i)\r\n",
        "print(recommend_list)"
      ],
      "execution_count": null,
      "outputs": [
        {
          "output_type": "stream",
          "text": [
            "[272, 273, 275, 280, 281, 283, 287, 288, 289, 290, 292, 293, 297, 299, 300, 301, 302, 306, 312, 314, 315, 316, 317, 321, 322, 323, 324, 327, 330, 331, 332, 333, 339, 342, 345, 346, 353, 354, 355, 356, 357, 363, 364, 365, 366, 372, 374, 378, 379, 381, 382, 383, 384, 385, 386, 387, 390, 391, 392, 394, 395, 396, 398, 400, 401, 402, 403, 404, 405, 406, 407, 408, 409, 410, 412, 414, 416, 417, 418, 419, 420, 422, 424, 425, 426, 427, 428, 430, 431, 432, 435, 442, 446, 447, 448, 449, 450, 451, 452, 454, 455, 457, 460, 461, 462, 468, 469, 470, 471, 472, 473, 474, 478, 495, 500, 507, 517, 522, 525, 530, 539, 540, 543, 545, 546, 548, 549, 550, 551, 553, 557, 558, 560, 561, 562, 563, 565, 566, 567, 568, 570, 571, 574, 575, 576, 577, 580, 581, 582, 585, 587, 589, 590, 594, 596, 602, 623, 626, 627, 630, 633, 635, 639, 646, 648, 651, 652, 654, 657, 664, 668, 671, 677, 678, 681, 683, 684, 685, 690, 691, 692, 695, 696, 708, 709, 714, 718, 719, 720, 724, 726, 727, 731, 733, 734, 736, 738, 741, 742, 745, 746, 747, 749, 750, 754, 758, 762, 764, 767, 768, 769, 770, 771, 772, 773, 778, 779, 782, 785, 788, 789, 793, 795, 796, 799, 800, 801, 802, 805, 806, 808, 815, 819, 822, 824, 830, 839, 842, 843, 844, 852, 853, 870, 875, 878, 880, 889, 901, 914, 915, 918, 921, 927, 929, 930, 938, 940, 941, 942, 948, 950, 958, 968, 973, 974, 976, 992, 999, 1005, 1009, 1010, 1012, 1015, 1018, 1027, 1030, 1034, 1035, 1041, 1043, 1045, 1046, 1051, 1055, 1072, 1073, 1078, 1080, 1082, 1088, 1089, 1090, 1094, 1097, 1108, 1109, 1117, 1128, 1130, 1134, 1139, 1140, 1144, 1156, 1169, 1171, 1179, 1193, 1198, 1207, 1209, 1212, 1217, 1219, 1220, 1227, 1231, 1238, 1239, 1243, 1244, 1252, 1266, 1272, 1273, 1300, 1313, 1406, 1412, 1415, 1470, 1477, 1480, 1481, 1482]\n"
          ],
          "name": "stdout"
        }
      ]
    },
    {
      "cell_type": "markdown",
      "metadata": {
        "id": "0su6-MhL29W_"
      },
      "source": [
        "euclidean (measure to distance)"
      ]
    },
    {
      "cell_type": "code",
      "metadata": {
        "colab": {
          "base_uri": "https://localhost:8080/"
        },
        "id": "YMKu8UYQzXEt",
        "outputId": "41fb8f61-a327-4808-a619-44e011655581"
      },
      "source": [
        "my_id, my_vector = 0, adj_matrix[0]\r\n",
        "best_match, best_match_id, best_match_vector = 9999, -1, []\r\n",
        "\r\n",
        "for user_id, user_vector in enumerate(adj_matrix):\r\n",
        "  if my_id != user_id:\r\n",
        "    euclidean_dist = np.sqrt(np.sum(np.square(my_vector - user_vector)))\r\n",
        "    if euclidean_dist < best_match:\r\n",
        "      best_match = euclidean_dist\r\n",
        "      best_match_id = user_id\r\n",
        "      best_match_vector = user_vector\r\n",
        "\r\n",
        "print(\"best match:{}, best match id:{}\".format(best_match, best_match_id))"
      ],
      "execution_count": null,
      "outputs": [
        {
          "output_type": "stream",
          "text": [
            "best match:14.832396974191326, best match id:737\n"
          ],
          "name": "stdout"
        }
      ]
    },
    {
      "cell_type": "code",
      "metadata": {
        "colab": {
          "base_uri": "https://localhost:8080/"
        },
        "id": "SZXCuOvPzXHo",
        "outputId": "3f7fb584-bc1c-4edb-94b0-3628b3cd166f"
      },
      "source": [
        "recommend_list = []\r\n",
        "for i, log in enumerate(zip(my_vector, best_match_vector)):\r\n",
        "  log1, log2 = log\r\n",
        "  if log1 <1. and log2 >0.:\r\n",
        "    recommend_list.append(i)\r\n",
        "print(recommend_list)"
      ],
      "execution_count": null,
      "outputs": [
        {
          "output_type": "stream",
          "text": [
            "[297, 312, 317, 342, 356, 366, 379, 384, 392, 402, 404, 407, 417, 422, 428, 433, 448, 454, 469, 473, 495, 510, 516, 526, 527, 549, 567, 602, 635, 649, 650, 654, 658, 661, 664, 696, 731, 746, 750, 754, 915, 918, 925, 929, 950, 968, 1015, 1046]\n"
          ],
          "name": "stdout"
        }
      ]
    },
    {
      "cell_type": "markdown",
      "metadata": {
        "id": "0VMqRGdj4CnW"
      },
      "source": [
        "cosine similarity"
      ]
    },
    {
      "cell_type": "code",
      "metadata": {
        "id": "gmAOf1z1zXKd"
      },
      "source": [
        "def compute_cos_similarity(v1, v2):\r\n",
        "  norm1 = np.sqrt(np.sum(np.square(v1)))\r\n",
        "  norm2 = np.sqrt(np.sum(np.square(v2)))\r\n",
        "  dot = np.dot(v1, v2)\r\n",
        "  return dot / (norm1 * norm2)"
      ],
      "execution_count": null,
      "outputs": []
    },
    {
      "cell_type": "code",
      "metadata": {
        "colab": {
          "base_uri": "https://localhost:8080/"
        },
        "id": "rk3wOmLuzXNV",
        "outputId": "eddf25c2-a9b4-4c29-f9ec-159fbafacb40"
      },
      "source": [
        "my_id, my_vector = 0, adj_matrix[0]\r\n",
        "best_match, best_match_id, best_match_vector = -1, -1, []\r\n",
        "\r\n",
        "for user_id, user_vector in enumerate(adj_matrix):\r\n",
        "  if my_id != user_id:\r\n",
        "    cos_similarity = compute_cos_similarity(my_vector, user_vector)\r\n",
        "    if cos_similarity > best_match:\r\n",
        "      best_match = cos_similarity \r\n",
        "      best_match_id = user_id\r\n",
        "      best_match_vector = user_vector\r\n",
        "\r\n",
        "print(\"best match:{}, best match id:{}\".format(best_match, best_match_id))"
      ],
      "execution_count": null,
      "outputs": [
        {
          "output_type": "stream",
          "text": [
            "best match:0.5278586163659506, best match id:915\n"
          ],
          "name": "stdout"
        }
      ]
    },
    {
      "cell_type": "code",
      "metadata": {
        "colab": {
          "base_uri": "https://localhost:8080/"
        },
        "id": "0vWLUnDZzXQD",
        "outputId": "2fcd5a36-17f1-412b-d6b7-84022facc17f"
      },
      "source": [
        "recommend_list = []\r\n",
        "for i, log in enumerate(zip(my_vector, best_match_vector)):\r\n",
        "  log1, log2 = log\r\n",
        "  if log1 <1. and log2 >0.:\r\n",
        "    recommend_list.append(i)\r\n",
        "print(recommend_list)"
      ],
      "execution_count": null,
      "outputs": [
        {
          "output_type": "stream",
          "text": [
            "[272, 275, 279, 280, 283, 285, 289, 294, 297, 316, 317, 355, 365, 366, 368, 379, 380, 381, 384, 386, 392, 398, 401, 404, 416, 420, 422, 424, 426, 427, 430, 432, 450, 460, 461, 466, 469, 471, 473, 474, 475, 479, 482, 483, 497, 505, 508, 510, 511, 522, 526, 527, 529, 530, 534, 536, 540, 545, 548, 549, 556, 557, 558, 560, 565, 567, 568, 569, 577, 580, 581, 582, 592, 596, 630, 635, 639, 641, 649, 651, 654, 673, 677, 678, 683, 684, 692, 696, 701, 703, 707, 708, 709, 712, 714, 719, 720, 726, 731, 734, 736, 738, 740, 745, 747, 754, 755, 761, 762, 763, 766, 780, 789, 791, 805, 819, 823, 824, 830, 843, 862, 865, 918, 929, 930, 938, 942, 943, 947, 958, 959, 960, 970, 977, 1004, 1008, 1009, 1010, 1013, 1041, 1045, 1069, 1072, 1073, 1078, 1097, 1100, 1108, 1112, 1118, 1134, 1193, 1205, 1207, 1216, 1219, 1267, 1334, 1400, 1427, 1596, 1681]\n"
          ],
          "name": "stdout"
        }
      ]
    },
    {
      "cell_type": "code",
      "metadata": {
        "colab": {
          "base_uri": "https://localhost:8080/"
        },
        "id": "YaR8c2fnzXTP",
        "outputId": "317a83da-df9d-4eeb-f558-27523ea72809"
      },
      "source": [
        "adj_matrix = np.ndarray(shape, dtype=int)\r\n",
        "for user_id, movie_id, rating, time in raw_data:\r\n",
        "  adj_matrix[user_id][movie_id] = rating\r\n",
        "\r\n",
        "adj_matrix"
      ],
      "execution_count": null,
      "outputs": [
        {
          "output_type": "execute_result",
          "data": {
            "text/plain": [
              "array([[5, 3, 4, ..., 0, 0, 0],\n",
              "       [4, 0, 0, ..., 0, 0, 0],\n",
              "       [0, 0, 0, ..., 0, 0, 0],\n",
              "       ...,\n",
              "       [5, 0, 0, ..., 0, 0, 0],\n",
              "       [0, 0, 0, ..., 0, 0, 0],\n",
              "       [0, 5, 0, ..., 0, 0, 0]])"
            ]
          },
          "metadata": {
            "tags": []
          },
          "execution_count": 25
        }
      ]
    },
    {
      "cell_type": "code",
      "metadata": {
        "colab": {
          "base_uri": "https://localhost:8080/"
        },
        "id": "wU034TVq42gJ",
        "outputId": "f71a19c7-2fb4-4514-fb57-552a86a282fc"
      },
      "source": [
        "my_id, my_vector = 0, adj_matrix[0]\r\n",
        "best_match, best_match_id, best_match_vector = 9999, -1, []\r\n",
        "\r\n",
        "for user_id, user_vector in enumerate(adj_matrix):\r\n",
        "  if my_id != user_id:\r\n",
        "    euclidean_dist = np.sqrt(np.sum(np.square(my_vector - user_vector)))\r\n",
        "    if euclidean_dist < best_match:\r\n",
        "      best_match = euclidean_dist\r\n",
        "      best_match_id = user_id\r\n",
        "      best_match_vector = user_vector\r\n",
        "\r\n",
        "print(\"best match:{}, best match id:{}\".format(best_match, best_match_id))"
      ],
      "execution_count": null,
      "outputs": [
        {
          "output_type": "stream",
          "text": [
            "best match:55.06359959174482, best match id:737\n"
          ],
          "name": "stdout"
        }
      ]
    },
    {
      "cell_type": "code",
      "metadata": {
        "colab": {
          "base_uri": "https://localhost:8080/"
        },
        "id": "6v05uK8X42gc",
        "outputId": "74ea1ea9-5009-40a2-a1e7-db9c044e4cca"
      },
      "source": [
        "my_id, my_vector = 0, adj_matrix[0]\r\n",
        "best_match, best_match_id, best_match_vector = -1, -1, []\r\n",
        "\r\n",
        "for user_id, user_vector in enumerate(adj_matrix):\r\n",
        "  if my_id != user_id:\r\n",
        "    cos_similarity = compute_cos_similarity(my_vector, user_vector)\r\n",
        "    if cos_similarity > best_match:\r\n",
        "      best_match = cos_similarity \r\n",
        "      best_match_id = user_id\r\n",
        "      best_match_vector = user_vector\r\n",
        "\r\n",
        "print(\"best match:{}, best match id:{}\".format(best_match, best_match_id))"
      ],
      "execution_count": null,
      "outputs": [
        {
          "output_type": "stream",
          "text": [
            "best match:0.569065731527988, best match id:915\n"
          ],
          "name": "stdout"
        }
      ]
    },
    {
      "cell_type": "markdown",
      "metadata": {
        "id": "RbgaHUtG5CsF"
      },
      "source": [
        "collaborative Filtering"
      ]
    },
    {
      "cell_type": "code",
      "metadata": {
        "id": "f6ZFp-qa5C5X"
      },
      "source": [
        "from surprise import KNNBasic, SVD, SVDpp, NMF\r\n",
        "from surprise import Dataset\r\n",
        "from surprise.model_selection import cross_validate"
      ],
      "execution_count": null,
      "outputs": []
    },
    {
      "cell_type": "code",
      "metadata": {
        "id": "s8EogZs55DBg"
      },
      "source": [
        "data = Dataset.load_builtin('ml-100k', prompt=False)"
      ],
      "execution_count": null,
      "outputs": []
    },
    {
      "cell_type": "code",
      "metadata": {
        "colab": {
          "base_uri": "https://localhost:8080/"
        },
        "id": "0nGVdf7g5DF1",
        "outputId": "e51a176f-46f4-43ad-9a4e-5c92ce376960"
      },
      "source": [
        "model = KNNBasic()\r\n",
        "cross_validate(model, data, measures=['rmse','mae'], cv=5, n_jobs=4, verbose=True)"
      ],
      "execution_count": null,
      "outputs": [
        {
          "output_type": "stream",
          "text": [
            "Evaluating RMSE, MAE of algorithm KNNBasic on 5 split(s).\n",
            "\n",
            "                  Fold 1  Fold 2  Fold 3  Fold 4  Fold 5  Mean    Std     \n",
            "RMSE (testset)    0.9797  0.9845  0.9714  0.9753  0.9828  0.9787  0.0048  \n",
            "MAE (testset)     0.7743  0.7752  0.7669  0.7723  0.7757  0.7729  0.0032  \n",
            "Fit time          0.52    0.78    1.16    1.13    0.79    0.88    0.24    \n",
            "Test time         7.52    9.50    8.66    6.81    4.83    7.47    1.61    \n"
          ],
          "name": "stdout"
        },
        {
          "output_type": "execute_result",
          "data": {
            "text/plain": [
              "{'fit_time': (0.5157978534698486,\n",
              "  0.7843937873840332,\n",
              "  1.1595568656921387,\n",
              "  1.1321511268615723,\n",
              "  0.7880704402923584),\n",
              " 'test_mae': array([0.77427824, 0.77523623, 0.76686866, 0.77232741, 0.7756895 ]),\n",
              " 'test_rmse': array([0.97967366, 0.9845011 , 0.97136729, 0.97530174, 0.9827979 ]),\n",
              " 'test_time': (7.521811008453369,\n",
              "  9.502220153808594,\n",
              "  8.663697957992554,\n",
              "  6.808681011199951,\n",
              "  4.834568023681641)}"
            ]
          },
          "metadata": {
            "tags": []
          },
          "execution_count": 30
        }
      ]
    },
    {
      "cell_type": "code",
      "metadata": {
        "colab": {
          "base_uri": "https://localhost:8080/"
        },
        "id": "shahNA4o5DIf",
        "outputId": "fb36263d-97f5-4375-b070-806b8a14cac2"
      },
      "source": [
        "model = SVD()\r\n",
        "cross_validate(model, data, measures=['rmse','mae'], cv=5, n_jobs=4, verbose=True)"
      ],
      "execution_count": null,
      "outputs": [
        {
          "output_type": "stream",
          "text": [
            "Evaluating RMSE, MAE of algorithm SVD on 5 split(s).\n",
            "\n",
            "                  Fold 1  Fold 2  Fold 3  Fold 4  Fold 5  Mean    Std     \n",
            "RMSE (testset)    0.9379  0.9432  0.9308  0.9428  0.9290  0.9367  0.0059  \n",
            "MAE (testset)     0.7399  0.7435  0.7301  0.7427  0.7335  0.7380  0.0053  \n",
            "Fit time          14.07   16.70   16.79   14.52   10.23   14.46   2.39    \n",
            "Test time         0.72    0.58    0.37    0.29    0.16    0.42    0.20    \n"
          ],
          "name": "stdout"
        },
        {
          "output_type": "execute_result",
          "data": {
            "text/plain": [
              "{'fit_time': (14.068537712097168,\n",
              "  16.695147275924683,\n",
              "  16.791155099868774,\n",
              "  14.518729448318481,\n",
              "  10.226267576217651),\n",
              " 'test_mae': array([0.73994668, 0.74351612, 0.73012775, 0.74272928, 0.73354277]),\n",
              " 'test_rmse': array([0.93786974, 0.94322471, 0.9308391 , 0.94279079, 0.92895221]),\n",
              " 'test_time': (0.7248988151550293,\n",
              "  0.5773029327392578,\n",
              "  0.36614346504211426,\n",
              "  0.2915635108947754,\n",
              "  0.15936708450317383)}"
            ]
          },
          "metadata": {
            "tags": []
          },
          "execution_count": 31
        }
      ]
    },
    {
      "cell_type": "code",
      "metadata": {
        "colab": {
          "base_uri": "https://localhost:8080/"
        },
        "id": "1qGMuPf25DQc",
        "outputId": "220aaa1b-a092-49ba-c53f-25adbebc9189"
      },
      "source": [
        "model = NMF()\r\n",
        "cross_validate(model, data, measures=['rmse','mae'], cv=5, n_jobs=4, verbose=True)"
      ],
      "execution_count": null,
      "outputs": [
        {
          "output_type": "stream",
          "text": [
            "Evaluating RMSE, MAE of algorithm NMF on 5 split(s).\n",
            "\n",
            "                  Fold 1  Fold 2  Fold 3  Fold 4  Fold 5  Mean    Std     \n",
            "RMSE (testset)    0.9648  0.9595  0.9660  0.9586  0.9675  0.9633  0.0036  \n",
            "MAE (testset)     0.7545  0.7567  0.7611  0.7538  0.7618  0.7576  0.0033  \n",
            "Fit time          13.95   17.04   17.12   14.48   10.30   14.58   2.50    \n",
            "Test time         0.56    0.46    0.31    0.25    0.14    0.35    0.15    \n"
          ],
          "name": "stdout"
        },
        {
          "output_type": "execute_result",
          "data": {
            "text/plain": [
              "{'fit_time': (13.950994729995728,\n",
              "  17.039416313171387,\n",
              "  17.120205402374268,\n",
              "  14.48421335220337,\n",
              "  10.2978196144104),\n",
              " 'test_mae': array([0.75451499, 0.75669315, 0.76110747, 0.75384266, 0.76181658]),\n",
              " 'test_rmse': array([0.96483906, 0.95950549, 0.96601674, 0.95861734, 0.96748284]),\n",
              " 'test_time': (0.5585684776306152,\n",
              "  0.46443605422973633,\n",
              "  0.31482458114624023,\n",
              "  0.2516944408416748,\n",
              "  0.14449620246887207)}"
            ]
          },
          "metadata": {
            "tags": []
          },
          "execution_count": 32
        }
      ]
    },
    {
      "cell_type": "code",
      "metadata": {
        "colab": {
          "base_uri": "https://localhost:8080/",
          "height": 349
        },
        "id": "RR7Lh23g5vaQ",
        "outputId": "32d2335e-4f2c-4d92-db63-ae255f96c67e"
      },
      "source": [
        "model = SVDpp()\r\n",
        "cross_validate(model, data, measures=['rmse','mae'], cv=5, n_jobs=4, verbose=True)"
      ],
      "execution_count": null,
      "outputs": [
        {
          "output_type": "error",
          "ename": "KeyboardInterrupt",
          "evalue": "ignored",
          "traceback": [
            "\u001b[0;31m---------------------------------------------------------------------------\u001b[0m",
            "\u001b[0;31mKeyboardInterrupt\u001b[0m                         Traceback (most recent call last)",
            "\u001b[0;32m<ipython-input-33-f63146a0deae>\u001b[0m in \u001b[0;36m<module>\u001b[0;34m()\u001b[0m\n\u001b[1;32m      1\u001b[0m \u001b[0mmodel\u001b[0m \u001b[0;34m=\u001b[0m \u001b[0mSVDpp\u001b[0m\u001b[0;34m(\u001b[0m\u001b[0;34m)\u001b[0m\u001b[0;34m\u001b[0m\u001b[0;34m\u001b[0m\u001b[0m\n\u001b[0;32m----> 2\u001b[0;31m \u001b[0mcross_validate\u001b[0m\u001b[0;34m(\u001b[0m\u001b[0mmodel\u001b[0m\u001b[0;34m,\u001b[0m \u001b[0mdata\u001b[0m\u001b[0;34m,\u001b[0m \u001b[0mmeasures\u001b[0m\u001b[0;34m=\u001b[0m\u001b[0;34m[\u001b[0m\u001b[0;34m'rmse'\u001b[0m\u001b[0;34m,\u001b[0m\u001b[0;34m'mae'\u001b[0m\u001b[0;34m]\u001b[0m\u001b[0;34m,\u001b[0m \u001b[0mcv\u001b[0m\u001b[0;34m=\u001b[0m\u001b[0;36m5\u001b[0m\u001b[0;34m,\u001b[0m \u001b[0mn_jobs\u001b[0m\u001b[0;34m=\u001b[0m\u001b[0;36m4\u001b[0m\u001b[0;34m,\u001b[0m \u001b[0mverbose\u001b[0m\u001b[0;34m=\u001b[0m\u001b[0;32mTrue\u001b[0m\u001b[0;34m)\u001b[0m\u001b[0;34m\u001b[0m\u001b[0;34m\u001b[0m\u001b[0m\n\u001b[0m",
            "\u001b[0;32m/usr/local/lib/python3.6/dist-packages/surprise/model_selection/validation.py\u001b[0m in \u001b[0;36mcross_validate\u001b[0;34m(algo, data, measures, cv, return_train_measures, n_jobs, pre_dispatch, verbose)\u001b[0m\n\u001b[1;32m    101\u001b[0m                                            return_train_measures)\n\u001b[1;32m    102\u001b[0m                     for (trainset, testset) in cv.split(data))\n\u001b[0;32m--> 103\u001b[0;31m     \u001b[0mout\u001b[0m \u001b[0;34m=\u001b[0m \u001b[0mParallel\u001b[0m\u001b[0;34m(\u001b[0m\u001b[0mn_jobs\u001b[0m\u001b[0;34m=\u001b[0m\u001b[0mn_jobs\u001b[0m\u001b[0;34m,\u001b[0m \u001b[0mpre_dispatch\u001b[0m\u001b[0;34m=\u001b[0m\u001b[0mpre_dispatch\u001b[0m\u001b[0;34m)\u001b[0m\u001b[0;34m(\u001b[0m\u001b[0mdelayed_list\u001b[0m\u001b[0;34m)\u001b[0m\u001b[0;34m\u001b[0m\u001b[0;34m\u001b[0m\u001b[0m\n\u001b[0m\u001b[1;32m    104\u001b[0m \u001b[0;34m\u001b[0m\u001b[0m\n\u001b[1;32m    105\u001b[0m     (test_measures_dicts,\n",
            "\u001b[0;32m/usr/local/lib/python3.6/dist-packages/joblib/parallel.py\u001b[0m in \u001b[0;36m__call__\u001b[0;34m(self, iterable)\u001b[0m\n\u001b[1;32m   1052\u001b[0m \u001b[0;34m\u001b[0m\u001b[0m\n\u001b[1;32m   1053\u001b[0m             \u001b[0;32mwith\u001b[0m \u001b[0mself\u001b[0m\u001b[0;34m.\u001b[0m\u001b[0m_backend\u001b[0m\u001b[0;34m.\u001b[0m\u001b[0mretrieval_context\u001b[0m\u001b[0;34m(\u001b[0m\u001b[0;34m)\u001b[0m\u001b[0;34m:\u001b[0m\u001b[0;34m\u001b[0m\u001b[0;34m\u001b[0m\u001b[0m\n\u001b[0;32m-> 1054\u001b[0;31m                 \u001b[0mself\u001b[0m\u001b[0;34m.\u001b[0m\u001b[0mretrieve\u001b[0m\u001b[0;34m(\u001b[0m\u001b[0;34m)\u001b[0m\u001b[0;34m\u001b[0m\u001b[0;34m\u001b[0m\u001b[0m\n\u001b[0m\u001b[1;32m   1055\u001b[0m             \u001b[0;31m# Make sure that we get a last message telling us we are done\u001b[0m\u001b[0;34m\u001b[0m\u001b[0;34m\u001b[0m\u001b[0;34m\u001b[0m\u001b[0m\n\u001b[1;32m   1056\u001b[0m             \u001b[0melapsed_time\u001b[0m \u001b[0;34m=\u001b[0m \u001b[0mtime\u001b[0m\u001b[0;34m.\u001b[0m\u001b[0mtime\u001b[0m\u001b[0;34m(\u001b[0m\u001b[0;34m)\u001b[0m \u001b[0;34m-\u001b[0m \u001b[0mself\u001b[0m\u001b[0;34m.\u001b[0m\u001b[0m_start_time\u001b[0m\u001b[0;34m\u001b[0m\u001b[0;34m\u001b[0m\u001b[0m\n",
            "\u001b[0;32m/usr/local/lib/python3.6/dist-packages/joblib/parallel.py\u001b[0m in \u001b[0;36mretrieve\u001b[0;34m(self)\u001b[0m\n\u001b[1;32m    931\u001b[0m             \u001b[0;32mtry\u001b[0m\u001b[0;34m:\u001b[0m\u001b[0;34m\u001b[0m\u001b[0;34m\u001b[0m\u001b[0m\n\u001b[1;32m    932\u001b[0m                 \u001b[0;32mif\u001b[0m \u001b[0mgetattr\u001b[0m\u001b[0;34m(\u001b[0m\u001b[0mself\u001b[0m\u001b[0;34m.\u001b[0m\u001b[0m_backend\u001b[0m\u001b[0;34m,\u001b[0m \u001b[0;34m'supports_timeout'\u001b[0m\u001b[0;34m,\u001b[0m \u001b[0;32mFalse\u001b[0m\u001b[0;34m)\u001b[0m\u001b[0;34m:\u001b[0m\u001b[0;34m\u001b[0m\u001b[0;34m\u001b[0m\u001b[0m\n\u001b[0;32m--> 933\u001b[0;31m                     \u001b[0mself\u001b[0m\u001b[0;34m.\u001b[0m\u001b[0m_output\u001b[0m\u001b[0;34m.\u001b[0m\u001b[0mextend\u001b[0m\u001b[0;34m(\u001b[0m\u001b[0mjob\u001b[0m\u001b[0;34m.\u001b[0m\u001b[0mget\u001b[0m\u001b[0;34m(\u001b[0m\u001b[0mtimeout\u001b[0m\u001b[0;34m=\u001b[0m\u001b[0mself\u001b[0m\u001b[0;34m.\u001b[0m\u001b[0mtimeout\u001b[0m\u001b[0;34m)\u001b[0m\u001b[0;34m)\u001b[0m\u001b[0;34m\u001b[0m\u001b[0;34m\u001b[0m\u001b[0m\n\u001b[0m\u001b[1;32m    934\u001b[0m                 \u001b[0;32melse\u001b[0m\u001b[0;34m:\u001b[0m\u001b[0;34m\u001b[0m\u001b[0;34m\u001b[0m\u001b[0m\n\u001b[1;32m    935\u001b[0m                     \u001b[0mself\u001b[0m\u001b[0;34m.\u001b[0m\u001b[0m_output\u001b[0m\u001b[0;34m.\u001b[0m\u001b[0mextend\u001b[0m\u001b[0;34m(\u001b[0m\u001b[0mjob\u001b[0m\u001b[0;34m.\u001b[0m\u001b[0mget\u001b[0m\u001b[0;34m(\u001b[0m\u001b[0;34m)\u001b[0m\u001b[0;34m)\u001b[0m\u001b[0;34m\u001b[0m\u001b[0;34m\u001b[0m\u001b[0m\n",
            "\u001b[0;32m/usr/local/lib/python3.6/dist-packages/joblib/_parallel_backends.py\u001b[0m in \u001b[0;36mwrap_future_result\u001b[0;34m(future, timeout)\u001b[0m\n\u001b[1;32m    540\u001b[0m         AsyncResults.get from multiprocessing.\"\"\"\n\u001b[1;32m    541\u001b[0m         \u001b[0;32mtry\u001b[0m\u001b[0;34m:\u001b[0m\u001b[0;34m\u001b[0m\u001b[0;34m\u001b[0m\u001b[0m\n\u001b[0;32m--> 542\u001b[0;31m             \u001b[0;32mreturn\u001b[0m \u001b[0mfuture\u001b[0m\u001b[0;34m.\u001b[0m\u001b[0mresult\u001b[0m\u001b[0;34m(\u001b[0m\u001b[0mtimeout\u001b[0m\u001b[0;34m=\u001b[0m\u001b[0mtimeout\u001b[0m\u001b[0;34m)\u001b[0m\u001b[0;34m\u001b[0m\u001b[0;34m\u001b[0m\u001b[0m\n\u001b[0m\u001b[1;32m    543\u001b[0m         \u001b[0;32mexcept\u001b[0m \u001b[0mCfTimeoutError\u001b[0m \u001b[0;32mas\u001b[0m \u001b[0me\u001b[0m\u001b[0;34m:\u001b[0m\u001b[0;34m\u001b[0m\u001b[0;34m\u001b[0m\u001b[0m\n\u001b[1;32m    544\u001b[0m             \u001b[0;32mraise\u001b[0m \u001b[0mTimeoutError\u001b[0m \u001b[0;32mfrom\u001b[0m \u001b[0me\u001b[0m\u001b[0;34m\u001b[0m\u001b[0;34m\u001b[0m\u001b[0m\n",
            "\u001b[0;32m/usr/lib/python3.6/concurrent/futures/_base.py\u001b[0m in \u001b[0;36mresult\u001b[0;34m(self, timeout)\u001b[0m\n\u001b[1;32m    425\u001b[0m                 \u001b[0;32mreturn\u001b[0m \u001b[0mself\u001b[0m\u001b[0;34m.\u001b[0m\u001b[0m__get_result\u001b[0m\u001b[0;34m(\u001b[0m\u001b[0;34m)\u001b[0m\u001b[0;34m\u001b[0m\u001b[0;34m\u001b[0m\u001b[0m\n\u001b[1;32m    426\u001b[0m \u001b[0;34m\u001b[0m\u001b[0m\n\u001b[0;32m--> 427\u001b[0;31m             \u001b[0mself\u001b[0m\u001b[0;34m.\u001b[0m\u001b[0m_condition\u001b[0m\u001b[0;34m.\u001b[0m\u001b[0mwait\u001b[0m\u001b[0;34m(\u001b[0m\u001b[0mtimeout\u001b[0m\u001b[0;34m)\u001b[0m\u001b[0;34m\u001b[0m\u001b[0;34m\u001b[0m\u001b[0m\n\u001b[0m\u001b[1;32m    428\u001b[0m \u001b[0;34m\u001b[0m\u001b[0m\n\u001b[1;32m    429\u001b[0m             \u001b[0;32mif\u001b[0m \u001b[0mself\u001b[0m\u001b[0;34m.\u001b[0m\u001b[0m_state\u001b[0m \u001b[0;32min\u001b[0m \u001b[0;34m[\u001b[0m\u001b[0mCANCELLED\u001b[0m\u001b[0;34m,\u001b[0m \u001b[0mCANCELLED_AND_NOTIFIED\u001b[0m\u001b[0;34m]\u001b[0m\u001b[0;34m:\u001b[0m\u001b[0;34m\u001b[0m\u001b[0;34m\u001b[0m\u001b[0m\n",
            "\u001b[0;32m/usr/lib/python3.6/threading.py\u001b[0m in \u001b[0;36mwait\u001b[0;34m(self, timeout)\u001b[0m\n\u001b[1;32m    293\u001b[0m         \u001b[0;32mtry\u001b[0m\u001b[0;34m:\u001b[0m    \u001b[0;31m# restore state no matter what (e.g., KeyboardInterrupt)\u001b[0m\u001b[0;34m\u001b[0m\u001b[0;34m\u001b[0m\u001b[0m\n\u001b[1;32m    294\u001b[0m             \u001b[0;32mif\u001b[0m \u001b[0mtimeout\u001b[0m \u001b[0;32mis\u001b[0m \u001b[0;32mNone\u001b[0m\u001b[0;34m:\u001b[0m\u001b[0;34m\u001b[0m\u001b[0;34m\u001b[0m\u001b[0m\n\u001b[0;32m--> 295\u001b[0;31m                 \u001b[0mwaiter\u001b[0m\u001b[0;34m.\u001b[0m\u001b[0macquire\u001b[0m\u001b[0;34m(\u001b[0m\u001b[0;34m)\u001b[0m\u001b[0;34m\u001b[0m\u001b[0;34m\u001b[0m\u001b[0m\n\u001b[0m\u001b[1;32m    296\u001b[0m                 \u001b[0mgotit\u001b[0m \u001b[0;34m=\u001b[0m \u001b[0;32mTrue\u001b[0m\u001b[0;34m\u001b[0m\u001b[0;34m\u001b[0m\u001b[0m\n\u001b[1;32m    297\u001b[0m             \u001b[0;32melse\u001b[0m\u001b[0;34m:\u001b[0m\u001b[0;34m\u001b[0m\u001b[0;34m\u001b[0m\u001b[0m\n",
            "\u001b[0;31mKeyboardInterrupt\u001b[0m: "
          ]
        }
      ]
    },
    {
      "cell_type": "markdown",
      "metadata": {
        "id": "U2ULpYYH6QKy"
      },
      "source": [
        "hybrid"
      ]
    },
    {
      "cell_type": "code",
      "metadata": {
        "id": "X9_kVTAF6Rcj"
      },
      "source": [
        "import numpy as np\r\n",
        "from sklearn.decomposition import randomized_svd, non_negative_factorization\r\n",
        "from surprise import Dataset"
      ],
      "execution_count": null,
      "outputs": []
    },
    {
      "cell_type": "code",
      "metadata": {
        "id": "tjO7LzC_6Rjj"
      },
      "source": [
        "data = Dataset.load_builtin('ml-100k', prompt=False)\r\n",
        "raw_data = np.array(data.raw_ratings, dtype=int)\r\n",
        "raw_data[:,0] -=1\r\n",
        "raw_data[:,1] -=1"
      ],
      "execution_count": null,
      "outputs": []
    },
    {
      "cell_type": "code",
      "metadata": {
        "colab": {
          "base_uri": "https://localhost:8080/"
        },
        "id": "b_feX9Y_6RqV",
        "outputId": "e30da156-4471-4ef9-f1c5-8786aad6a5f4"
      },
      "source": [
        "adj_matrix = np.ndarray(shape, dtype=int)\r\n",
        "for user_id, movie_id, rating, time in raw_data:\r\n",
        "  adj_matrix[user_id][movie_id] = rating\r\n",
        "\r\n",
        "adj_matrix"
      ],
      "execution_count": null,
      "outputs": [
        {
          "output_type": "execute_result",
          "data": {
            "text/plain": [
              "array([[              5,               3,               4, ...,\n",
              "        139973405508808, 139973362844560, 139973362842184],\n",
              "       [              4, 139973362844624, 139973362842248, ...,\n",
              "        139973362915464, 139973400204744, 139973362917904],\n",
              "       [139973362915528, 139973400120456, 139973362917968, ...,\n",
              "        139973362466896, 139973362464520, 139973400311240],\n",
              "       ...,\n",
              "       [              5,               0,               0, ...,\n",
              "                      0,               0,               0],\n",
              "       [              0,               0,               0, ...,\n",
              "                      0,               0,               0],\n",
              "       [              0,               5,               0, ...,\n",
              "                      0,               0,               0]])"
            ]
          },
          "metadata": {
            "tags": []
          },
          "execution_count": 38
        }
      ]
    },
    {
      "cell_type": "code",
      "metadata": {
        "id": "zbnXkoaQ6RyT"
      },
      "source": [
        "U, S, V = randomized_svd(adj_matrix, n_components=2)\r\n",
        "S = np.diag(S)"
      ],
      "execution_count": null,
      "outputs": []
    },
    {
      "cell_type": "code",
      "metadata": {
        "colab": {
          "base_uri": "https://localhost:8080/"
        },
        "id": "MOpTdkH_6R5K",
        "outputId": "c5749cd1-cf63-42c6-e8ac-39c184f9265d"
      },
      "source": [
        "print(U.shape)\r\n",
        "print(S.shape)\r\n",
        "print(V.shape)"
      ],
      "execution_count": null,
      "outputs": [
        {
          "output_type": "stream",
          "text": [
            "(943, 2)\n",
            "(2, 2)\n",
            "(2, 1682)\n"
          ],
          "name": "stdout"
        }
      ]
    },
    {
      "cell_type": "code",
      "metadata": {
        "id": "itgtp8Qu6SAu"
      },
      "source": [
        ""
      ],
      "execution_count": null,
      "outputs": []
    },
    {
      "cell_type": "code",
      "metadata": {
        "id": "Tqlf8q-b6SLi"
      },
      "source": [
        ""
      ],
      "execution_count": null,
      "outputs": []
    }
  ]
}