{
  "nbformat": 4,
  "nbformat_minor": 0,
  "metadata": {
    "colab": {
      "name": "python basic exercise.ipynb",
      "provenance": [],
      "collapsed_sections": [],
      "authorship_tag": "ABX9TyPOhEWpGYqFkz+d3SEMvVXe",
      "include_colab_link": true
    },
    "kernelspec": {
      "name": "python3",
      "display_name": "Python 3"
    }
  },
  "cells": [
    {
      "cell_type": "markdown",
      "metadata": {
        "id": "view-in-github",
        "colab_type": "text"
      },
      "source": [
        "<a href=\"https://colab.research.google.com/github/jaewoong-87/machine-learning/blob/main/python_basic_exercise.ipynb\" target=\"_parent\"><img src=\"https://colab.research.google.com/assets/colab-badge.svg\" alt=\"Open In Colab\"/></a>"
      ]
    },
    {
      "cell_type": "code",
      "metadata": {
        "id": "Qoqwp_M-QeEH"
      },
      "source": [
        "def gogo(x, y):\r\n",
        "    a = x^2 + y\r\n",
        "    if a > 5:\r\n",
        "      print(\"a is too big\")\r\n",
        "    else:\r\n",
        "      print(\"a is too small\")\r\n",
        "    print(a)\r\n",
        "  \r\n",
        "  \r\n"
      ],
      "execution_count": null,
      "outputs": []
    },
    {
      "cell_type": "code",
      "metadata": {
        "colab": {
          "base_uri": "https://localhost:8080/"
        },
        "id": "r1_Rvm6_UrfM",
        "outputId": "2550604d-c09f-4bad-c053-3acbcd103fd0"
      },
      "source": [
        "gogo(x=2,y=3)\r\n",
        "\r\n",
        "\r\n"
      ],
      "execution_count": null,
      "outputs": [
        {
          "output_type": "stream",
          "text": [
            "a is too big\n",
            "7\n"
          ],
          "name": "stdout"
        }
      ]
    },
    {
      "cell_type": "code",
      "metadata": {
        "colab": {
          "base_uri": "https://localhost:8080/"
        },
        "id": "Zz-qzU9WWCTJ",
        "outputId": "ffd17edf-0ced-469a-953d-f146909ac832"
      },
      "source": [
        "text=\"python is really good program for me\"\r\n",
        "text.count(\"p\")"
      ],
      "execution_count": null,
      "outputs": [
        {
          "output_type": "execute_result",
          "data": {
            "text/plain": [
              "2"
            ]
          },
          "metadata": {
            "tags": []
          },
          "execution_count": 58
        }
      ]
    },
    {
      "cell_type": "code",
      "metadata": {
        "colab": {
          "base_uri": "https://localhost:8080/"
        },
        "id": "LJJ2EJXmWP_K",
        "outputId": "1b0e32c6-4858-4d39-fd68-0aa477833262"
      },
      "source": [
        "a=[]\r\n",
        "i=0\r\n",
        "while i < 50:\r\n",
        "  i+=1\r\n",
        "  a.append(i)\r\n",
        "  if i >= 50:\r\n",
        "    print(a)\r\n",
        "\r\n"
      ],
      "execution_count": null,
      "outputs": [
        {
          "output_type": "stream",
          "text": [
            "[1, 2, 3, 4, 5, 6, 7, 8, 9, 10, 11, 12, 13, 14, 15, 16, 17, 18, 19, 20, 21, 22, 23, 24, 25, 26, 27, 28, 29, 30, 31, 32, 33, 34, 35, 36, 37, 38, 39, 40, 41, 42, 43, 44, 45, 46, 47, 48, 49, 50]\n"
          ],
          "name": "stdout"
        }
      ]
    },
    {
      "cell_type": "code",
      "metadata": {
        "colab": {
          "base_uri": "https://localhost:8080/"
        },
        "id": "2puk7TT6WQHh",
        "outputId": "31323913-81e1-4afb-9556-045bf36d0dc2"
      },
      "source": [
        "print(a.count(3))\r\n",
        "\r\n",
        "for i in range(10):\r\n",
        "   b=a[i]\r\n",
        "   print(b)\r\n"
      ],
      "execution_count": null,
      "outputs": [
        {
          "output_type": "stream",
          "text": [
            "1\n",
            "1\n",
            "2\n",
            "3\n",
            "4\n",
            "5\n",
            "6\n",
            "7\n",
            "8\n",
            "9\n",
            "10\n"
          ],
          "name": "stdout"
        }
      ]
    },
    {
      "cell_type": "code",
      "metadata": {
        "colab": {
          "base_uri": "https://localhost:8080/"
        },
        "id": "kvwsWIK4agXe",
        "outputId": "ccbb26cd-f97c-4242-b6f1-8b78d0538a85"
      },
      "source": [
        "len(a)"
      ],
      "execution_count": null,
      "outputs": [
        {
          "output_type": "execute_result",
          "data": {
            "text/plain": [
              "50"
            ]
          },
          "metadata": {
            "tags": []
          },
          "execution_count": 89
        }
      ]
    },
    {
      "cell_type": "code",
      "metadata": {
        "colab": {
          "base_uri": "https://localhost:8080/"
        },
        "id": "l-emDP_JbIcT",
        "outputId": "02214274-22df-4185-cbf0-b98f48718e7f"
      },
      "source": [
        "set_1 = {1,3,5,7,9}\r\n",
        "set_2 = {3,5,9,10}\r\n",
        "a=set_1 & set_2\r\n",
        "print(a)\r\n",
        "print(\"------\")\r\n",
        "set_1 | set_2"
      ],
      "execution_count": null,
      "outputs": [
        {
          "output_type": "stream",
          "text": [
            "{9, 3, 5}\n",
            "------\n"
          ],
          "name": "stdout"
        },
        {
          "output_type": "execute_result",
          "data": {
            "text/plain": [
              "{1, 3, 5, 7, 9, 10}"
            ]
          },
          "metadata": {
            "tags": []
          },
          "execution_count": 95
        }
      ]
    },
    {
      "cell_type": "code",
      "metadata": {
        "colab": {
          "base_uri": "https://localhost:8080/"
        },
        "id": "MNxP0AHZbvLZ",
        "outputId": "bf5a92d8-c449-4983-ce1c-6186ec92cf75"
      },
      "source": [
        "contury={\"korea\":5, \"norway\":5, \"usa\":3, \"china\":2}\r\n",
        "contury\r\n",
        "contury.values()\r\n",
        "contury.keys()\r\n",
        "print(contury.items())"
      ],
      "execution_count": null,
      "outputs": [
        {
          "output_type": "stream",
          "text": [
            "dict_items([('korea', 5), ('norway', 5), ('usa', 3), ('china', 2)])\n"
          ],
          "name": "stdout"
        }
      ]
    },
    {
      "cell_type": "markdown",
      "metadata": {
        "id": "WYKbHSv-dGy7"
      },
      "source": [
        "conditional phrase."
      ]
    },
    {
      "cell_type": "code",
      "metadata": {
        "colab": {
          "base_uri": "https://localhost:8080/"
        },
        "id": "HjqXuJ7Fc2HP",
        "outputId": "3b85ccbb-ef15-4443-dd42-ad051e0f5854"
      },
      "source": [
        "if 'one' is 'one':\r\n",
        "  print('one')\r\n",
        "\r\n",
        "if 'one' is not 'two':\r\n",
        "  print('one is not two')\r\n",
        "  "
      ],
      "execution_count": null,
      "outputs": [
        {
          "output_type": "stream",
          "text": [
            "one\n",
            "one is not two\n"
          ],
          "name": "stdout"
        }
      ]
    },
    {
      "cell_type": "code",
      "metadata": {
        "id": "fTbxJeMMc2QM"
      },
      "source": [
        "i = 1\r\n",
        "sum = 0\r\n",
        "while i <= 10:\r\n",
        "  sum += i\r\n",
        "  i += 1"
      ],
      "execution_count": null,
      "outputs": []
    },
    {
      "cell_type": "code",
      "metadata": {
        "colab": {
          "base_uri": "https://localhost:8080/"
        },
        "id": "s5dLc5ZOgh7O",
        "outputId": "c926e16f-4172-4446-e22e-9de334984ed5"
      },
      "source": [
        "print(sum)"
      ],
      "execution_count": null,
      "outputs": [
        {
          "output_type": "stream",
          "text": [
            "55\n"
          ],
          "name": "stdout"
        }
      ]
    },
    {
      "cell_type": "code",
      "metadata": {
        "colab": {
          "base_uri": "https://localhost:8080/"
        },
        "id": "hFomZFjBguWC",
        "outputId": "9fae3543-476f-4e9b-a104-72834b579568"
      },
      "source": [
        "list = ['ab','bc','cd']\r\n",
        "for i in list:\r\n",
        "    print(i)"
      ],
      "execution_count": null,
      "outputs": [
        {
          "output_type": "stream",
          "text": [
            "ab\n",
            "bc\n",
            "cd\n"
          ],
          "name": "stdout"
        }
      ]
    },
    {
      "cell_type": "code",
      "metadata": {
        "colab": {
          "base_uri": "https://localhost:8080/"
        },
        "id": "duS7pszYgugr",
        "outputId": "f747812f-206a-43e5-e1fd-0a68e2c99427"
      },
      "source": [
        "for i in range(5):\r\n",
        "  for j in range(4):\r\n",
        "    print(i,j)"
      ],
      "execution_count": null,
      "outputs": [
        {
          "output_type": "stream",
          "text": [
            "0 0\n",
            "0 1\n",
            "0 2\n",
            "0 3\n",
            "1 0\n",
            "1 1\n",
            "1 2\n",
            "1 3\n",
            "2 0\n",
            "2 1\n",
            "2 2\n",
            "2 3\n",
            "3 0\n",
            "3 1\n",
            "3 2\n",
            "3 3\n",
            "4 0\n",
            "4 1\n",
            "4 2\n",
            "4 3\n"
          ],
          "name": "stdout"
        }
      ]
    },
    {
      "cell_type": "code",
      "metadata": {
        "colab": {
          "base_uri": "https://localhost:8080/"
        },
        "id": "CNeF6W0Yh6b3",
        "outputId": "b9804e73-ce9b-4bfe-e995-61081a2bae29"
      },
      "source": [
        "i = 0\r\n",
        "while i <10:\r\n",
        "  i+= 1\r\n",
        "  if i%2 ==0:\r\n",
        "    continue\r\n",
        "  print(i)"
      ],
      "execution_count": null,
      "outputs": [
        {
          "output_type": "stream",
          "text": [
            "1\n",
            "3\n",
            "5\n",
            "7\n",
            "9\n"
          ],
          "name": "stdout"
        }
      ]
    },
    {
      "cell_type": "code",
      "metadata": {
        "colab": {
          "base_uri": "https://localhost:8080/"
        },
        "id": "RoDKdW--iy7h",
        "outputId": "f5408c75-aff8-4040-d727-15eeff07f7c8"
      },
      "source": [
        "good=\"jaewoong is good student and do his best\"\r\n",
        "reverse=\"\"\r\n",
        "\r\n",
        "for c in good:\r\n",
        "  reverse = c + reverse\r\n",
        "\r\n",
        "\r\n",
        "print(good)\r\n",
        "print(reverse)"
      ],
      "execution_count": null,
      "outputs": [
        {
          "output_type": "stream",
          "text": [
            "jaewoong is good student and do his best\n",
            "tseb sih od dna tneduts doog si gnooweaj\n"
          ],
          "name": "stdout"
        }
      ]
    },
    {
      "cell_type": "markdown",
      "metadata": {
        "id": "1BvSJJOBjxt3"
      },
      "source": [
        "standard input/output"
      ]
    },
    {
      "cell_type": "code",
      "metadata": {
        "colab": {
          "base_uri": "https://localhost:8080/"
        },
        "id": "Taa_BOBVjynF",
        "outputId": "1669f43b-39fc-45da-fd82-a4d30d3f6459"
      },
      "source": [
        "name=input(\"what is your name?\")\r\n",
        "print(name)"
      ],
      "execution_count": null,
      "outputs": [
        {
          "output_type": "stream",
          "text": [
            "what is your name?jaewoong\n",
            "jaewoong\n"
          ],
          "name": "stdout"
        }
      ]
    },
    {
      "cell_type": "code",
      "metadata": {
        "colab": {
          "base_uri": "https://localhost:8080/"
        },
        "id": "FyXIaKoIjqmT",
        "outputId": "4d83856c-6ebc-4894-d79f-66a3a629b746"
      },
      "source": [
        "print(\"hi {} long time no see\".format(name))"
      ],
      "execution_count": null,
      "outputs": [
        {
          "output_type": "stream",
          "text": [
            "hi jaewoong long time no see\n"
          ],
          "name": "stdout"
        }
      ]
    },
    {
      "cell_type": "code",
      "metadata": {
        "colab": {
          "base_uri": "https://localhost:8080/"
        },
        "id": "b0s9XB5ajqdO",
        "outputId": "bf2a6057-1a7d-4e8c-efc7-ae3be7b56f50"
      },
      "source": [
        "f= open(\"file.txt\", 'w')\r\n",
        "f= open(\"file.txt\",'r')\r\n",
        "f.close"
      ],
      "execution_count": null,
      "outputs": [
        {
          "output_type": "execute_result",
          "data": {
            "text/plain": [
              "<function TextIOWrapper.close>"
            ]
          },
          "metadata": {
            "tags": []
          },
          "execution_count": 135
        }
      ]
    },
    {
      "cell_type": "code",
      "metadata": {
        "colab": {
          "base_uri": "https://localhost:8080/"
        },
        "id": "wmfOT2wxlGPO",
        "outputId": "09ed5a2c-9368-4912-c051-3ff247db7a62"
      },
      "source": [
        "!ls file.txt"
      ],
      "execution_count": null,
      "outputs": [
        {
          "output_type": "stream",
          "text": [
            "file.txt\n"
          ],
          "name": "stdout"
        }
      ]
    },
    {
      "cell_type": "code",
      "metadata": {
        "colab": {
          "base_uri": "https://localhost:8080/"
        },
        "id": "aZpdT4SMlGZK",
        "outputId": "c36a6014-2de7-4688-979c-870b056478e0"
      },
      "source": [
        "f=open(\"file.txt\", 'w')\r\n",
        "f.write(\"hello python\")\r\n",
        "f.close"
      ],
      "execution_count": null,
      "outputs": [
        {
          "output_type": "execute_result",
          "data": {
            "text/plain": [
              "<function TextIOWrapper.close>"
            ]
          },
          "metadata": {
            "tags": []
          },
          "execution_count": 137
        }
      ]
    },
    {
      "cell_type": "code",
      "metadata": {
        "id": "uozA16YzlsGl"
      },
      "source": [
        "!cat file.txt\r\n",
        "#show what file.txt have"
      ],
      "execution_count": null,
      "outputs": []
    },
    {
      "cell_type": "code",
      "metadata": {
        "id": "gIHD_voKlsOg"
      },
      "source": [
        "!echo \"good to see you\" >helot.txt\r\n",
        "!echo \"how have you been?\" >>helot.txt"
      ],
      "execution_count": null,
      "outputs": []
    },
    {
      "cell_type": "code",
      "metadata": {
        "colab": {
          "base_uri": "https://localhost:8080/"
        },
        "id": "Te0k_CDCmWm_",
        "outputId": "20f6f9e0-f254-42bc-c3a3-cd451774805b"
      },
      "source": [
        "f=open('helot.txt','r')\r\n",
        "while True:\r\n",
        "  f.tell()\r\n",
        "  line =f.readline()\r\n",
        "  if not line : break\r\n",
        "  f.tell()\r\n",
        "  print(line)\r\n",
        "\r\n",
        "f.close()"
      ],
      "execution_count": null,
      "outputs": [
        {
          "output_type": "stream",
          "text": [
            "good to see you\n",
            "\n",
            "how have you been?\n",
            "\n"
          ],
          "name": "stdout"
        }
      ]
    },
    {
      "cell_type": "code",
      "metadata": {
        "colab": {
          "base_uri": "https://localhost:8080/"
        },
        "id": "-IgEPzvTmpBn",
        "outputId": "23f01724-e427-4c04-8d87-e16d8e3bedd5"
      },
      "source": [
        "f=open('helot.txt','r')\r\n",
        "print(f.seek(12))\r\n",
        "f.close()\r\n"
      ],
      "execution_count": null,
      "outputs": [
        {
          "output_type": "stream",
          "text": [
            "12\n"
          ],
          "name": "stdout"
        }
      ]
    },
    {
      "cell_type": "code",
      "metadata": {
        "id": "-fTZx0UunUOu"
      },
      "source": [
        "with open(\"file.txt\",'w') as f:\r\n",
        "  f.write(\"hello word\")"
      ],
      "execution_count": null,
      "outputs": []
    },
    {
      "cell_type": "code",
      "metadata": {
        "colab": {
          "base_uri": "https://localhost:8080/"
        },
        "id": "dCiUsJ58nUW-",
        "outputId": "84919396-2575-44b7-90eb-59622e650789"
      },
      "source": [
        "!cat \"file.txt\""
      ],
      "execution_count": null,
      "outputs": [
        {
          "output_type": "stream",
          "text": [
            "hello word"
          ],
          "name": "stdout"
        }
      ]
    },
    {
      "cell_type": "code",
      "metadata": {
        "id": "pER3cRHfmpJ4"
      },
      "source": [
        "import os\r\n",
        "import shutil\r\n",
        "os.mkdir('test/1')\r\n",
        "os.mkdir('test/2')"
      ],
      "execution_count": null,
      "outputs": []
    },
    {
      "cell_type": "code",
      "metadata": {
        "colab": {
          "base_uri": "https://localhost:8080/"
        },
        "id": "t2AyJMSAnquA",
        "outputId": "e2846f97-2295-47ac-964a-0f88e1d58298"
      },
      "source": [
        "!ls"
      ],
      "execution_count": null,
      "outputs": [
        {
          "output_type": "stream",
          "text": [
            "file.txt  helot.txt  sample_data  test\n"
          ],
          "name": "stdout"
        }
      ]
    },
    {
      "cell_type": "code",
      "metadata": {
        "colab": {
          "base_uri": "https://localhost:8080/",
          "height": 349
        },
        "id": "0VmIE1w-nq0y",
        "outputId": "fe565dc8-0905-464d-8f47-b62dd88e66d5"
      },
      "source": [
        "import shutil\r\n",
        "shutil.copy('unnamed.jpg','unnamed_copy2.jpg')"
      ],
      "execution_count": null,
      "outputs": [
        {
          "output_type": "error",
          "ename": "FileNotFoundError",
          "evalue": "ignored",
          "traceback": [
            "\u001b[0;31m---------------------------------------------------------------------------\u001b[0m",
            "\u001b[0;31mFileNotFoundError\u001b[0m                         Traceback (most recent call last)",
            "\u001b[0;32m<ipython-input-155-74bccfe45dca>\u001b[0m in \u001b[0;36m<module>\u001b[0;34m()\u001b[0m\n\u001b[1;32m      1\u001b[0m \u001b[0;32mimport\u001b[0m \u001b[0mshutil\u001b[0m\u001b[0;34m\u001b[0m\u001b[0;34m\u001b[0m\u001b[0m\n\u001b[0;32m----> 2\u001b[0;31m \u001b[0mshutil\u001b[0m\u001b[0;34m.\u001b[0m\u001b[0mcopy\u001b[0m\u001b[0;34m(\u001b[0m\u001b[0;34m'unnamed.jpg'\u001b[0m\u001b[0;34m,\u001b[0m\u001b[0;34m'unnamed_copy2.jpg'\u001b[0m\u001b[0;34m)\u001b[0m\u001b[0;34m\u001b[0m\u001b[0;34m\u001b[0m\u001b[0m\n\u001b[0m",
            "\u001b[0;32m/usr/lib/python3.6/shutil.py\u001b[0m in \u001b[0;36mcopy\u001b[0;34m(src, dst, follow_symlinks)\u001b[0m\n\u001b[1;32m    243\u001b[0m     \u001b[0;32mif\u001b[0m \u001b[0mos\u001b[0m\u001b[0;34m.\u001b[0m\u001b[0mpath\u001b[0m\u001b[0;34m.\u001b[0m\u001b[0misdir\u001b[0m\u001b[0;34m(\u001b[0m\u001b[0mdst\u001b[0m\u001b[0;34m)\u001b[0m\u001b[0;34m:\u001b[0m\u001b[0;34m\u001b[0m\u001b[0;34m\u001b[0m\u001b[0m\n\u001b[1;32m    244\u001b[0m         \u001b[0mdst\u001b[0m \u001b[0;34m=\u001b[0m \u001b[0mos\u001b[0m\u001b[0;34m.\u001b[0m\u001b[0mpath\u001b[0m\u001b[0;34m.\u001b[0m\u001b[0mjoin\u001b[0m\u001b[0;34m(\u001b[0m\u001b[0mdst\u001b[0m\u001b[0;34m,\u001b[0m \u001b[0mos\u001b[0m\u001b[0;34m.\u001b[0m\u001b[0mpath\u001b[0m\u001b[0;34m.\u001b[0m\u001b[0mbasename\u001b[0m\u001b[0;34m(\u001b[0m\u001b[0msrc\u001b[0m\u001b[0;34m)\u001b[0m\u001b[0;34m)\u001b[0m\u001b[0;34m\u001b[0m\u001b[0;34m\u001b[0m\u001b[0m\n\u001b[0;32m--> 245\u001b[0;31m     \u001b[0mcopyfile\u001b[0m\u001b[0;34m(\u001b[0m\u001b[0msrc\u001b[0m\u001b[0;34m,\u001b[0m \u001b[0mdst\u001b[0m\u001b[0;34m,\u001b[0m \u001b[0mfollow_symlinks\u001b[0m\u001b[0;34m=\u001b[0m\u001b[0mfollow_symlinks\u001b[0m\u001b[0;34m)\u001b[0m\u001b[0;34m\u001b[0m\u001b[0;34m\u001b[0m\u001b[0m\n\u001b[0m\u001b[1;32m    246\u001b[0m     \u001b[0mcopymode\u001b[0m\u001b[0;34m(\u001b[0m\u001b[0msrc\u001b[0m\u001b[0;34m,\u001b[0m \u001b[0mdst\u001b[0m\u001b[0;34m,\u001b[0m \u001b[0mfollow_symlinks\u001b[0m\u001b[0;34m=\u001b[0m\u001b[0mfollow_symlinks\u001b[0m\u001b[0;34m)\u001b[0m\u001b[0;34m\u001b[0m\u001b[0;34m\u001b[0m\u001b[0m\n\u001b[1;32m    247\u001b[0m     \u001b[0;32mreturn\u001b[0m \u001b[0mdst\u001b[0m\u001b[0;34m\u001b[0m\u001b[0;34m\u001b[0m\u001b[0m\n",
            "\u001b[0;32m/usr/lib/python3.6/shutil.py\u001b[0m in \u001b[0;36mcopyfile\u001b[0;34m(src, dst, follow_symlinks)\u001b[0m\n\u001b[1;32m    118\u001b[0m         \u001b[0mos\u001b[0m\u001b[0;34m.\u001b[0m\u001b[0msymlink\u001b[0m\u001b[0;34m(\u001b[0m\u001b[0mos\u001b[0m\u001b[0;34m.\u001b[0m\u001b[0mreadlink\u001b[0m\u001b[0;34m(\u001b[0m\u001b[0msrc\u001b[0m\u001b[0;34m)\u001b[0m\u001b[0;34m,\u001b[0m \u001b[0mdst\u001b[0m\u001b[0;34m)\u001b[0m\u001b[0;34m\u001b[0m\u001b[0;34m\u001b[0m\u001b[0m\n\u001b[1;32m    119\u001b[0m     \u001b[0;32melse\u001b[0m\u001b[0;34m:\u001b[0m\u001b[0;34m\u001b[0m\u001b[0;34m\u001b[0m\u001b[0m\n\u001b[0;32m--> 120\u001b[0;31m         \u001b[0;32mwith\u001b[0m \u001b[0mopen\u001b[0m\u001b[0;34m(\u001b[0m\u001b[0msrc\u001b[0m\u001b[0;34m,\u001b[0m \u001b[0;34m'rb'\u001b[0m\u001b[0;34m)\u001b[0m \u001b[0;32mas\u001b[0m \u001b[0mfsrc\u001b[0m\u001b[0;34m:\u001b[0m\u001b[0;34m\u001b[0m\u001b[0;34m\u001b[0m\u001b[0m\n\u001b[0m\u001b[1;32m    121\u001b[0m             \u001b[0;32mwith\u001b[0m \u001b[0mopen\u001b[0m\u001b[0;34m(\u001b[0m\u001b[0mdst\u001b[0m\u001b[0;34m,\u001b[0m \u001b[0;34m'wb'\u001b[0m\u001b[0;34m)\u001b[0m \u001b[0;32mas\u001b[0m \u001b[0mfdst\u001b[0m\u001b[0;34m:\u001b[0m\u001b[0;34m\u001b[0m\u001b[0;34m\u001b[0m\u001b[0m\n\u001b[1;32m    122\u001b[0m                 \u001b[0mcopyfileobj\u001b[0m\u001b[0;34m(\u001b[0m\u001b[0mfsrc\u001b[0m\u001b[0;34m,\u001b[0m \u001b[0mfdst\u001b[0m\u001b[0;34m)\u001b[0m\u001b[0;34m\u001b[0m\u001b[0;34m\u001b[0m\u001b[0m\n",
            "\u001b[0;31mFileNotFoundError\u001b[0m: [Errno 2] No such file or directory: 'unnamed.jpg'"
          ]
        }
      ]
    },
    {
      "cell_type": "code",
      "metadata": {
        "colab": {
          "base_uri": "https://localhost:8080/"
        },
        "id": "xqNI70QQoTGN",
        "outputId": "4bc74508-e1bf-49ad-a717-6ea2a891fb3a"
      },
      "source": [
        "import os.path\r\n",
        "print(os.path.isdir('test'))"
      ],
      "execution_count": null,
      "outputs": [
        {
          "output_type": "stream",
          "text": [
            "True\n"
          ],
          "name": "stdout"
        }
      ]
    },
    {
      "cell_type": "code",
      "metadata": {
        "colab": {
          "base_uri": "https://localhost:8080/"
        },
        "id": "hZt1UbAyopzM",
        "outputId": "a6543a54-c8d8-4856-9249-97cc2e6df06c"
      },
      "source": [
        "import os\r\n",
        "for dir_name, dir_list, file_names in os.walk('./'):\r\n",
        "  for file_name in file_names:\r\n",
        "    print(os.path.join(dir_name, file_name))"
      ],
      "execution_count": null,
      "outputs": [
        {
          "output_type": "stream",
          "text": [
            "./helot.txt\n",
            "./file.txt\n",
            "./.config/.last_opt_in_prompt.yaml\n",
            "./.config/active_config\n",
            "./.config/config_sentinel\n",
            "./.config/gce\n",
            "./.config/.last_survey_prompt.yaml\n",
            "./.config/.last_update_check.json\n",
            "./.config/.metricsUUID\n",
            "./.config/configurations/config_default\n",
            "./.config/logs/2021.02.10/14.39.57.772599.log\n",
            "./.config/logs/2021.02.10/14.39.19.909585.log\n",
            "./.config/logs/2021.02.10/14.39.39.983140.log\n",
            "./.config/logs/2021.02.10/14.39.00.593738.log\n",
            "./.config/logs/2021.02.10/14.39.34.534641.log\n",
            "./.config/logs/2021.02.10/14.39.57.182632.log\n",
            "./sample_data/README.md\n",
            "./sample_data/anscombe.json\n",
            "./sample_data/california_housing_test.csv\n",
            "./sample_data/mnist_train_small.csv\n",
            "./sample_data/mnist_test.csv\n",
            "./sample_data/california_housing_train.csv\n"
          ],
          "name": "stdout"
        }
      ]
    },
    {
      "cell_type": "code",
      "metadata": {
        "colab": {
          "base_uri": "https://localhost:8080/"
        },
        "id": "NV-5lBQW7KDs",
        "outputId": "f1f730c3-39e2-4261-a173-94bcb4c5dd79"
      },
      "source": [
        "def square(num):\r\n",
        "  return num*num\r\n",
        "\r\n",
        "square(3)"
      ],
      "execution_count": null,
      "outputs": [
        {
          "output_type": "execute_result",
          "data": {
            "text/plain": [
              "9"
            ]
          },
          "metadata": {
            "tags": []
          },
          "execution_count": 158
        }
      ]
    },
    {
      "cell_type": "code",
      "metadata": {
        "colab": {
          "base_uri": "https://localhost:8080/"
        },
        "id": "x4IkIH3u7KQz",
        "outputId": "44e27124-8b3d-46cf-ef19-1890b2ad45d7"
      },
      "source": [
        "def add(n1, n2):\r\n",
        "  return n1 + n2\r\n",
        "\r\n",
        "add(5,8)\r\n"
      ],
      "execution_count": null,
      "outputs": [
        {
          "output_type": "execute_result",
          "data": {
            "text/plain": [
              "13"
            ]
          },
          "metadata": {
            "tags": []
          },
          "execution_count": 159
        }
      ]
    },
    {
      "cell_type": "code",
      "metadata": {
        "colab": {
          "base_uri": "https://localhost:8080/"
        },
        "id": "ScbVKxmP7KZX",
        "outputId": "87c57094-2233-46a9-cab9-a933942f79e1"
      },
      "source": [
        "def sum(*args):\r\n",
        "  result = 0\r\n",
        "  for i in args:\r\n",
        "    result = result + i\r\n",
        "  return result\r\n",
        "\r\n",
        "print(sum(1,2,3))"
      ],
      "execution_count": null,
      "outputs": [
        {
          "output_type": "stream",
          "text": [
            "6\n"
          ],
          "name": "stdout"
        }
      ]
    },
    {
      "cell_type": "markdown",
      "metadata": {
        "id": "zzmyPw618yXo"
      },
      "source": [
        "keyword variable."
      ]
    },
    {
      "cell_type": "code",
      "metadata": {
        "colab": {
          "base_uri": "https://localhost:8080/"
        },
        "id": "Y_tWwF-V75gT",
        "outputId": "e9b1566f-8a7e-4151-c1a0-d051a3b2c40c"
      },
      "source": [
        "def print_kwargs(**kwargs):\r\n",
        "  print(kwargs)\r\n",
        "\r\n",
        "print_kwargs(n1=5, n2=8)\r\n",
        "print_kwargs(id=\"jaewoong\",pw=\"1234\")"
      ],
      "execution_count": null,
      "outputs": [
        {
          "output_type": "stream",
          "text": [
            "{'n1': 5, 'n2': 8}\n",
            "{'id': 'jaewoong', 'pw': '1234'}\n"
          ],
          "name": "stdout"
        }
      ]
    },
    {
      "cell_type": "code",
      "metadata": {
        "id": "eJm4yzT375oH"
      },
      "source": [
        "def calc(op, n1, n2):\r\n",
        "  result = 0\r\n",
        "  if op == '+':\r\n",
        "    result = n1+n2\r\n",
        "  elif op =='-':\r\n",
        "    result = n1-n2\r\n",
        "  elif op== '*':\r\n",
        "    result = n1*n2\r\n",
        "  elif op =='/':\r\n",
        "    result =n1/n2\r\n",
        "\r\n",
        "  return result"
      ],
      "execution_count": null,
      "outputs": []
    },
    {
      "cell_type": "code",
      "metadata": {
        "colab": {
          "base_uri": "https://localhost:8080/"
        },
        "id": "LKRBERso75vE",
        "outputId": "cfe4e3c7-8575-4f4d-d6a9-0032dfab5a86"
      },
      "source": [
        "print(calc('+',8,5))"
      ],
      "execution_count": null,
      "outputs": [
        {
          "output_type": "stream",
          "text": [
            "13\n"
          ],
          "name": "stdout"
        }
      ]
    },
    {
      "cell_type": "code",
      "metadata": {
        "colab": {
          "base_uri": "https://localhost:8080/",
          "height": 232
        },
        "id": "hKAkKcvH962x",
        "outputId": "2b7bf423-0556-4bd7-ecb0-ab174b6e3c85"
      },
      "source": [
        "def func1(n1, n2):\r\n",
        "  def func2(num1, num2):\r\n",
        "    return num1 +num2\r\n",
        "  return func2(n1, n2)\r\n",
        "\r\n",
        "print(func1(5,8))\r\n",
        "print(func2(5,8))"
      ],
      "execution_count": null,
      "outputs": [
        {
          "output_type": "stream",
          "text": [
            "13\n"
          ],
          "name": "stdout"
        },
        {
          "output_type": "error",
          "ename": "NameError",
          "evalue": "ignored",
          "traceback": [
            "\u001b[0;31m---------------------------------------------------------------------------\u001b[0m",
            "\u001b[0;31mNameError\u001b[0m                                 Traceback (most recent call last)",
            "\u001b[0;32m<ipython-input-165-38f0cf79ce28>\u001b[0m in \u001b[0;36m<module>\u001b[0;34m()\u001b[0m\n\u001b[1;32m      5\u001b[0m \u001b[0;34m\u001b[0m\u001b[0m\n\u001b[1;32m      6\u001b[0m \u001b[0mprint\u001b[0m\u001b[0;34m(\u001b[0m\u001b[0mfunc1\u001b[0m\u001b[0;34m(\u001b[0m\u001b[0;36m5\u001b[0m\u001b[0;34m,\u001b[0m\u001b[0;36m8\u001b[0m\u001b[0;34m)\u001b[0m\u001b[0;34m)\u001b[0m\u001b[0;34m\u001b[0m\u001b[0;34m\u001b[0m\u001b[0m\n\u001b[0;32m----> 7\u001b[0;31m \u001b[0mprint\u001b[0m\u001b[0;34m(\u001b[0m\u001b[0mfunc2\u001b[0m\u001b[0;34m(\u001b[0m\u001b[0;36m5\u001b[0m\u001b[0;34m,\u001b[0m\u001b[0;36m8\u001b[0m\u001b[0;34m)\u001b[0m\u001b[0;34m)\u001b[0m\u001b[0;34m\u001b[0m\u001b[0;34m\u001b[0m\u001b[0m\n\u001b[0m",
            "\u001b[0;31mNameError\u001b[0m: name 'func2' is not defined"
          ]
        }
      ]
    },
    {
      "cell_type": "markdown",
      "metadata": {
        "id": "KUEk0yWH_ZGx"
      },
      "source": [
        "recursive F"
      ]
    },
    {
      "cell_type": "code",
      "metadata": {
        "id": "YUHj2B1m97AX"
      },
      "source": [
        "def count(n):\r\n",
        "  if n >=1:\r\n",
        "    print(n, end=' ')\r\n",
        "    count(n-1)\r\n",
        "  else:\r\n",
        "    return"
      ],
      "execution_count": null,
      "outputs": []
    },
    {
      "cell_type": "code",
      "metadata": {
        "colab": {
          "base_uri": "https://localhost:8080/"
        },
        "id": "zpIDzEUI97H1",
        "outputId": "d81b4bb4-1a63-4279-baf2-d73cd01ac400"
      },
      "source": [
        "count(10)"
      ],
      "execution_count": null,
      "outputs": [
        {
          "output_type": "stream",
          "text": [
            "10 9 8 7 6 5 4 3 2 1 "
          ],
          "name": "stdout"
        }
      ]
    },
    {
      "cell_type": "markdown",
      "metadata": {
        "id": "scPb88wh_01c"
      },
      "source": [
        "map()"
      ]
    },
    {
      "cell_type": "code",
      "metadata": {
        "colab": {
          "base_uri": "https://localhost:8080/",
          "height": 232
        },
        "id": "7T-e0RLS_zi9",
        "outputId": "8f0bc05f-1670-44fd-ccd2-988658340b11"
      },
      "source": [
        "li = [1,2,3,4,5]\r\n",
        "square = lambda n : n * name\r\n",
        "li =list(map(square, li))\r\n",
        "print(li)"
      ],
      "execution_count": null,
      "outputs": [
        {
          "output_type": "error",
          "ename": "TypeError",
          "evalue": "ignored",
          "traceback": [
            "\u001b[0;31m---------------------------------------------------------------------------\u001b[0m",
            "\u001b[0;31mTypeError\u001b[0m                                 Traceback (most recent call last)",
            "\u001b[0;32m<ipython-input-172-1a4f7ad43cd3>\u001b[0m in \u001b[0;36m<module>\u001b[0;34m()\u001b[0m\n\u001b[1;32m      1\u001b[0m \u001b[0mli\u001b[0m \u001b[0;34m=\u001b[0m \u001b[0;34m[\u001b[0m\u001b[0;36m1\u001b[0m\u001b[0;34m,\u001b[0m\u001b[0;36m2\u001b[0m\u001b[0;34m,\u001b[0m\u001b[0;36m3\u001b[0m\u001b[0;34m,\u001b[0m\u001b[0;36m4\u001b[0m\u001b[0;34m,\u001b[0m\u001b[0;36m5\u001b[0m\u001b[0;34m]\u001b[0m\u001b[0;34m\u001b[0m\u001b[0;34m\u001b[0m\u001b[0m\n\u001b[1;32m      2\u001b[0m \u001b[0msquare\u001b[0m \u001b[0;34m=\u001b[0m \u001b[0;32mlambda\u001b[0m \u001b[0mn\u001b[0m \u001b[0;34m:\u001b[0m \u001b[0mn\u001b[0m \u001b[0;34m*\u001b[0m \u001b[0mname\u001b[0m\u001b[0;34m\u001b[0m\u001b[0;34m\u001b[0m\u001b[0m\n\u001b[0;32m----> 3\u001b[0;31m \u001b[0mli\u001b[0m \u001b[0;34m=\u001b[0m\u001b[0mlist\u001b[0m\u001b[0;34m(\u001b[0m\u001b[0mmap\u001b[0m\u001b[0;34m(\u001b[0m\u001b[0msquare\u001b[0m\u001b[0;34m,\u001b[0m \u001b[0mli\u001b[0m\u001b[0;34m)\u001b[0m\u001b[0;34m)\u001b[0m\u001b[0;34m\u001b[0m\u001b[0;34m\u001b[0m\u001b[0m\n\u001b[0m\u001b[1;32m      4\u001b[0m \u001b[0mprint\u001b[0m\u001b[0;34m(\u001b[0m\u001b[0mli\u001b[0m\u001b[0;34m)\u001b[0m\u001b[0;34m\u001b[0m\u001b[0;34m\u001b[0m\u001b[0m\n",
            "\u001b[0;31mTypeError\u001b[0m: 'list' object is not callable"
          ]
        }
      ]
    },
    {
      "cell_type": "markdown",
      "metadata": {
        "id": "j0k6tzg8B7v3"
      },
      "source": [
        "filter()"
      ]
    },
    {
      "cell_type": "code",
      "metadata": {
        "colab": {
          "base_uri": "https://localhost:8080/"
        },
        "id": "-Ib9wxNqB6BY",
        "outputId": "6ed8f200-d6f4-45a4-fb19-e21ba839ff40"
      },
      "source": [
        "li = list(range(10))\r\n",
        "print(li)\r\n",
        "evens = filter(lambda n: n % 2 is 0, li)\r\n",
        "print(list(evens))"
      ],
      "execution_count": null,
      "outputs": [
        {
          "output_type": "stream",
          "text": [
            "[0, 1, 2, 3, 4, 5, 6, 7, 8, 9]\n",
            "[0, 2, 4, 6, 8]\n"
          ],
          "name": "stdout"
        }
      ]
    },
    {
      "cell_type": "markdown",
      "metadata": {
        "id": "qFND6JqPCWsn"
      },
      "source": [
        "reduce()"
      ]
    },
    {
      "cell_type": "code",
      "metadata": {
        "colab": {
          "base_uri": "https://localhost:8080/"
        },
        "id": "RdUszoDVCTc0",
        "outputId": "8426a1f7-6f81-45b1-f32f-d9bca84e86c8"
      },
      "source": [
        "import functools\r\n",
        "li = list(range(10))\r\n",
        "li\r\n",
        "sum = functools.reduce(lambda x, y: x+y, li)\r\n",
        "sum"
      ],
      "execution_count": null,
      "outputs": [
        {
          "output_type": "execute_result",
          "data": {
            "text/plain": [
              "45"
            ]
          },
          "metadata": {
            "tags": []
          },
          "execution_count": 2
        }
      ]
    },
    {
      "cell_type": "markdown",
      "metadata": {
        "id": "pRhiOcspCzcc"
      },
      "source": [
        "generator and yield"
      ]
    },
    {
      "cell_type": "code",
      "metadata": {
        "colab": {
          "base_uri": "https://localhost:8080/"
        },
        "id": "PZTUXDdhCzLh",
        "outputId": "9c242f35-8b20-41f8-b517-cac0995db6b3"
      },
      "source": [
        "def gen():\r\n",
        "  yield 1\r\n",
        "  yield 2\r\n",
        "  yield 3\r\n",
        "\r\n",
        "print(gen())\r\n",
        "print(list(gen()))"
      ],
      "execution_count": null,
      "outputs": [
        {
          "output_type": "stream",
          "text": [
            "<generator object gen at 0x7fdbd1793888>\n",
            "[1, 2, 3]\n"
          ],
          "name": "stdout"
        }
      ]
    },
    {
      "cell_type": "code",
      "metadata": {
        "colab": {
          "base_uri": "https://localhost:8080/"
        },
        "id": "8-RDYChhC_sZ",
        "outputId": "5dcac717-9b3f-4efa-f6c6-c307d355bef6"
      },
      "source": [
        "for i in gen():\r\n",
        "  print(i)"
      ],
      "execution_count": null,
      "outputs": [
        {
          "output_type": "stream",
          "text": [
            "1\n",
            "2\n",
            "3\n"
          ],
          "name": "stdout"
        }
      ]
    },
    {
      "cell_type": "markdown",
      "metadata": {
        "id": "7VsT-D2ZyBgt"
      },
      "source": [
        "class"
      ]
    },
    {
      "cell_type": "code",
      "metadata": {
        "id": "_7gPMEjHC_2s"
      },
      "source": [
        "class Book(object):\r\n",
        "  author =\"\"\r\n",
        "  title =\"\"\r\n",
        "  publisher=\"\"\r\n",
        "  date=\"\"\r\n",
        "  count = 0\r\n",
        "\r\n",
        "  def print_info(self):\r\n",
        "    print(\"Author:\", self.author)\r\n",
        "    print(\"title:\", self.title)\r\n",
        "    print(\"publisher:\",self.publisher)\r\n",
        "    print(\"date:\",self.date)"
      ],
      "execution_count": 1,
      "outputs": []
    },
    {
      "cell_type": "code",
      "metadata": {
        "colab": {
          "base_uri": "https://localhost:8080/"
        },
        "id": "7_7tjzydu5OQ",
        "outputId": "06d6910c-321b-43f5-9db9-422520487899"
      },
      "source": [
        "book = Book()\r\n",
        "book.author =\"jaewoong\"\r\n",
        "print(book.author)\r\n",
        "book.title=\"python is funny\"\r\n",
        "print(book.title)\r\n",
        "print(book.print_info())"
      ],
      "execution_count": 6,
      "outputs": [
        {
          "output_type": "stream",
          "text": [
            "jaewoong\n",
            "python is funny\n",
            "Author: jaewoong\n",
            "title: python is funny\n",
            "None\n"
          ],
          "name": "stdout"
        }
      ]
    },
    {
      "cell_type": "code",
      "metadata": {
        "colab": {
          "base_uri": "https://localhost:8080/"
        },
        "id": "PxXM2MpPvQ0s",
        "outputId": "617d4657-0b6a-40ae-c22c-a113583e60e8"
      },
      "source": [
        "b1 = Book()\r\n",
        "Book.count +=1\r\n",
        "b1.author=\"soyoung\"\r\n",
        "b1.title=\"dog and cat\"\r\n",
        "b1.publisher=\"korea\"\r\n",
        "b1.date=\"2021\"\r\n",
        "b1.print_info()\r\n",
        "print(\"the number of book\", str(Book.count))"
      ],
      "execution_count": 3,
      "outputs": [
        {
          "output_type": "stream",
          "text": [
            "Author: soyoung\n",
            "title: dog and cat\n",
            "publisher: korea\n",
            "date: 2021\n",
            "the number of book 2\n"
          ],
          "name": "stdout"
        }
      ]
    },
    {
      "cell_type": "markdown",
      "metadata": {
        "id": "xW0e3X7VyQgJ"
      },
      "source": [
        "'''__init__()'''\r\n",
        "\r\n",
        "```\r\n",
        "# 코드로 형식 지정됨\r\n",
        "```\r\n",
        "\r\n"
      ]
    },
    {
      "cell_type": "code",
      "metadata": {
        "id": "hFidM6xfyP0s"
      },
      "source": [
        "class Book(object):\r\n",
        "  count = 0\r\n",
        "\r\n",
        "  def __init__(self, author, title, publisher, date):\r\n",
        "    self.author = author\r\n",
        "    self.title = title\r\n",
        "    self.publisher =publisher\r\n",
        "    self.date =date\r\n",
        "    Book.count += 1\r\n",
        "  \r\n",
        "  def __str__(self):\r\n",
        "    return(\"Author:\", self.author + \\\r\n",
        "           \"\\ntitle:\", self.title + \\\r\n",
        "           \"\\npublisher:\", self.publishe + \\\r\n",
        "           \"\\ndate:\", self.date)\r\n",
        "\r\n"
      ],
      "execution_count": 26,
      "outputs": []
    },
    {
      "cell_type": "code",
      "metadata": {
        "id": "jqlX6xXrww23"
      },
      "source": [
        "class Line(object):\r\n",
        "  length = 0\r\n",
        "\r\n",
        "  def __init__(self, length):\r\n",
        "    self.length = length\r\n",
        "    print(self.length, \"length production\")\r\n",
        "\r\n",
        "  def __del__(self):\r\n",
        "    print(self.length, \"remove length\")\r\n",
        "\r\n",
        "  def __repr__(self):\r\n",
        "    return str(self.length)\r\n",
        "\r\n",
        "  def __add__(self, other):\r\n",
        "    return self.length +other.length\r\n",
        "  \r\n",
        "  def __lt__(self, other):\r\n",
        "    return self.length < other.length\r\n",
        "\r\n",
        "  def __le__(self, other):\r\n",
        "    return self.length <= other.length\r\n",
        "  "
      ],
      "execution_count": 29,
      "outputs": []
    },
    {
      "cell_type": "code",
      "metadata": {
        "colab": {
          "base_uri": "https://localhost:8080/",
          "height": 475
        },
        "id": "0aHai0GVwxET",
        "outputId": "acb73cc2-d121-48a5-dd81-0a292aaf95b9"
      },
      "source": [
        "l1 = Line(10)\r\n",
        "print(l1)\r\n",
        "\r\n",
        "l2 = Line(20)\r\n",
        "print(l2)\r\n",
        "\r\n",
        "print(\"sum of lines:\", l1+l2)\r\n",
        "\r\n",
        "if l1 < l2:\r\n",
        "  print(l1, '<', l2)\r\n",
        "elif l1 <= l2:\r\n",
        "  print(l1, '<=', l2)\r\n",
        "else:\r\n",
        "  pass\r\n"
      ],
      "execution_count": 28,
      "outputs": [
        {
          "output_type": "stream",
          "text": [
            "10 length production\n",
            "10\n",
            "20 length production\n",
            "20\n",
            "sum of lines: 30\n"
          ],
          "name": "stdout"
        },
        {
          "output_type": "error",
          "ename": "NameError",
          "evalue": "ignored",
          "traceback": [
            "\u001b[0;31m---------------------------------------------------------------------------\u001b[0m",
            "\u001b[0;31mNameError\u001b[0m                                 Traceback (most recent call last)",
            "\u001b[0;32m<ipython-input-28-4f35375b254a>\u001b[0m in \u001b[0;36m<module>\u001b[0;34m()\u001b[0m\n\u001b[1;32m      7\u001b[0m \u001b[0mprint\u001b[0m\u001b[0;34m(\u001b[0m\u001b[0;34m\"sum of lines:\"\u001b[0m\u001b[0;34m,\u001b[0m \u001b[0ml1\u001b[0m\u001b[0;34m+\u001b[0m\u001b[0ml2\u001b[0m\u001b[0;34m)\u001b[0m\u001b[0;34m\u001b[0m\u001b[0;34m\u001b[0m\u001b[0m\n\u001b[1;32m      8\u001b[0m \u001b[0;34m\u001b[0m\u001b[0m\n\u001b[0;32m----> 9\u001b[0;31m \u001b[0;32mif\u001b[0m \u001b[0ml1\u001b[0m \u001b[0;34m<\u001b[0m \u001b[0ml2\u001b[0m\u001b[0;34m:\u001b[0m\u001b[0;34m\u001b[0m\u001b[0;34m\u001b[0m\u001b[0m\n\u001b[0m\u001b[1;32m     10\u001b[0m   \u001b[0mprint\u001b[0m\u001b[0;34m(\u001b[0m\u001b[0ml1\u001b[0m\u001b[0;34m,\u001b[0m \u001b[0;34m'<'\u001b[0m\u001b[0;34m,\u001b[0m \u001b[0ml2\u001b[0m\u001b[0;34m)\u001b[0m\u001b[0;34m\u001b[0m\u001b[0;34m\u001b[0m\u001b[0m\n\u001b[1;32m     11\u001b[0m \u001b[0;32melif\u001b[0m \u001b[0ml1\u001b[0m \u001b[0;34m<=\u001b[0m \u001b[0ml2\u001b[0m\u001b[0;34m:\u001b[0m\u001b[0;34m\u001b[0m\u001b[0;34m\u001b[0m\u001b[0m\n",
            "\u001b[0;32m<ipython-input-27-893e103b37fb>\u001b[0m in \u001b[0;36m__lt__\u001b[0;34m(self, other)\u001b[0m\n\u001b[1;32m     16\u001b[0m \u001b[0;34m\u001b[0m\u001b[0m\n\u001b[1;32m     17\u001b[0m   \u001b[0;32mdef\u001b[0m \u001b[0m__lt__\u001b[0m\u001b[0;34m(\u001b[0m\u001b[0mself\u001b[0m\u001b[0;34m,\u001b[0m \u001b[0mother\u001b[0m\u001b[0;34m)\u001b[0m\u001b[0;34m:\u001b[0m\u001b[0;34m\u001b[0m\u001b[0;34m\u001b[0m\u001b[0m\n\u001b[0;32m---> 18\u001b[0;31m     \u001b[0;32mreturn\u001b[0m \u001b[0mself\u001b[0m\u001b[0;34m.\u001b[0m\u001b[0mlength\u001b[0m \u001b[0;34m<\u001b[0m \u001b[0motehr\u001b[0m\u001b[0;34m.\u001b[0m\u001b[0mlength\u001b[0m\u001b[0;34m\u001b[0m\u001b[0;34m\u001b[0m\u001b[0m\n\u001b[0m\u001b[1;32m     19\u001b[0m \u001b[0;34m\u001b[0m\u001b[0m\n\u001b[1;32m     20\u001b[0m   \u001b[0;32mdef\u001b[0m \u001b[0m__le__\u001b[0m\u001b[0;34m(\u001b[0m\u001b[0mself\u001b[0m\u001b[0;34m,\u001b[0m \u001b[0mother\u001b[0m\u001b[0;34m)\u001b[0m\u001b[0;34m:\u001b[0m\u001b[0;34m\u001b[0m\u001b[0;34m\u001b[0m\u001b[0m\n",
            "\u001b[0;31mNameError\u001b[0m: name 'otehr' is not defined"
          ]
        }
      ]
    },
    {
      "cell_type": "code",
      "metadata": {
        "id": "OkHagqtvwxTQ"
      },
      "source": [
        "class Box(object):\r\n",
        "  def __init__(self, name):\r\n",
        "    self.name = name\r\n",
        "    self.__items =[]\r\n",
        "\r\n",
        "  def add_item(self, item):\r\n",
        "    self.__items.append(item)\r\n",
        "    print(\"add item\")\r\n",
        "\r\n",
        "  def get_number_of_items(self):\r\n",
        "    return len(self.__itmes)\r\n",
        "  "
      ],
      "execution_count": 31,
      "outputs": []
    },
    {
      "cell_type": "code",
      "metadata": {
        "colab": {
          "base_uri": "https://localhost:8080/"
        },
        "id": "NCGxPccD2wvw",
        "outputId": "38a50167-12af-4045-df90-70eba0474bb9"
      },
      "source": [
        "box = Box(\"Box\")\r\n",
        "box.add_item(\"item1\")\r\n",
        "box.add_item(\"item2\")\r\n",
        "print(box.name)\r\n",
        "#print(box.get_number_of_items())"
      ],
      "execution_count": 33,
      "outputs": [
        {
          "output_type": "stream",
          "text": [
            "add item\n",
            "add item\n",
            "Box\n"
          ],
          "name": "stdout"
        }
      ]
    },
    {
      "cell_type": "markdown",
      "metadata": {
        "id": "ARg7eyLq3hbL"
      },
      "source": [
        "class inheritance"
      ]
    },
    {
      "cell_type": "code",
      "metadata": {
        "id": "bhPt5nmL3gj8"
      },
      "source": [
        "class SuperClass(object):\r\n",
        "  pass\r\n",
        "\r\n",
        "class SubClass(SuperClass):\r\n",
        "  pass"
      ],
      "execution_count": 34,
      "outputs": []
    },
    {
      "cell_type": "markdown",
      "metadata": {
        "id": "JHuYiKyw34e-"
      },
      "source": [
        "method overriding"
      ]
    },
    {
      "cell_type": "code",
      "metadata": {
        "id": "JARzbqZ03vFJ"
      },
      "source": [
        "class SuperClass(object):\r\n",
        "  def method(self):\r\n",
        "   pass\r\n",
        "\r\n",
        "class SubClass1(SuperClass):\r\n",
        "  def method(self):\r\n",
        "    print(\"method overriding\")\r\n",
        "\r\n",
        "class SubClass2(SuperClass):\r\n",
        "  pass"
      ],
      "execution_count": 36,
      "outputs": []
    },
    {
      "cell_type": "code",
      "metadata": {
        "colab": {
          "base_uri": "https://localhost:8080/"
        },
        "id": "T02oMYH-3vM3",
        "outputId": "04d23cbb-8c89-4489-b3c6-c16d5d7ef4a1"
      },
      "source": [
        "sub1 = SubClass1()\r\n",
        "sub2 = SubClass2()\r\n",
        "\r\n",
        "sub1.method()\r\n",
        "sub2.method()"
      ],
      "execution_count": 37,
      "outputs": [
        {
          "output_type": "stream",
          "text": [
            "method overriding\n"
          ],
          "name": "stdout"
        }
      ]
    },
    {
      "cell_type": "code",
      "metadata": {
        "id": "EDWYUB804hm0"
      },
      "source": [
        "class Vehicle(object):\r\n",
        "  speed = 0\r\n",
        "  def up_speed(self, value):\r\n",
        "    self.speed += value\r\n",
        "  \r\n",
        "  def down_speed(self, value):\r\n",
        "    self.speed -= value\r\n",
        "  \r\n",
        "  def print_speed(self):\r\n",
        "    print(\"speed:\", str(self.speed))\r\n",
        "\r\n",
        "class Car(Vehicle):\r\n",
        "  def up_speed(self, value):\r\n",
        "    self.speed += value\r\n",
        "    if self.speed > 240: self.speed = 240\r\n",
        "\r\n",
        "class Truck(Vehicle):\r\n",
        "  def up_speed(self, value):\r\n",
        "    self.speed += value\r\n",
        "    if self.speed > 180: self.speed = 180\r\n"
      ],
      "execution_count": 38,
      "outputs": []
    },
    {
      "cell_type": "code",
      "metadata": {
        "colab": {
          "base_uri": "https://localhost:8080/"
        },
        "id": "i-bhuqK14yvs",
        "outputId": "3909192f-63ac-403a-89cf-615ca9d97413"
      },
      "source": [
        "car = Car()\r\n",
        "car.up_speed(300)\r\n",
        "car.print_speed()\r\n",
        "\r\n",
        "truck = Truck()\r\n",
        "truck.up_speed(300)\r\n",
        "truck.print_speed()"
      ],
      "execution_count": 40,
      "outputs": [
        {
          "output_type": "stream",
          "text": [
            "speed: 240\n",
            "speed: 180\n"
          ],
          "name": "stdout"
        }
      ]
    },
    {
      "cell_type": "markdown",
      "metadata": {
        "id": "ZETWnrrd5wf4"
      },
      "source": [
        "module and package"
      ]
    },
    {
      "cell_type": "code",
      "metadata": {
        "colab": {
          "base_uri": "https://localhost:8080/"
        },
        "id": "-z_B4odB5vdt",
        "outputId": "a03f74df-6585-4746-dc26-0601ae515849"
      },
      "source": [
        "%%writefile Module.py\r\n",
        "def func1():\r\n",
        "  print(\"module.py:func1()\")"
      ],
      "execution_count": 41,
      "outputs": [
        {
          "output_type": "stream",
          "text": [
            "Writing Module.py\n"
          ],
          "name": "stdout"
        }
      ]
    },
    {
      "cell_type": "code",
      "metadata": {
        "colab": {
          "base_uri": "https://localhost:8080/"
        },
        "id": "RTJPSiEX5v2e",
        "outputId": "c4e6cef6-8436-4f41-fa06-e0c83370fa18"
      },
      "source": [
        "!ls"
      ],
      "execution_count": 42,
      "outputs": [
        {
          "output_type": "stream",
          "text": [
            "Module.py  sample_data\n"
          ],
          "name": "stdout"
        }
      ]
    },
    {
      "cell_type": "code",
      "metadata": {
        "id": "eTEu1bb18WDH"
      },
      "source": [
        "%load Module.py"
      ],
      "execution_count": 44,
      "outputs": []
    },
    {
      "cell_type": "code",
      "metadata": {
        "id": "lBUtwMs78Whi"
      },
      "source": [
        "%run Module.py"
      ],
      "execution_count": 45,
      "outputs": []
    },
    {
      "cell_type": "code",
      "metadata": {
        "colab": {
          "base_uri": "https://localhost:8080/"
        },
        "id": "ArldKsvQ8d97",
        "outputId": "3a1a6569-595b-43b3-9315-c560fccd6e46"
      },
      "source": [
        "import Module\r\n",
        "\r\n",
        "Module.func1()"
      ],
      "execution_count": 46,
      "outputs": [
        {
          "output_type": "stream",
          "text": [
            "module.py:func1()\n"
          ],
          "name": "stdout"
        }
      ]
    },
    {
      "cell_type": "code",
      "metadata": {
        "colab": {
          "base_uri": "https://localhost:8080/"
        },
        "id": "jEZAcd0B8eHP",
        "outputId": "b2d2950f-a8c9-4801-9fb1-0c7473829831"
      },
      "source": [
        "from Module import *\r\n",
        "func1()"
      ],
      "execution_count": 48,
      "outputs": [
        {
          "output_type": "stream",
          "text": [
            "module.py:func1()\n"
          ],
          "name": "stdout"
        }
      ]
    },
    {
      "cell_type": "code",
      "metadata": {
        "colab": {
          "base_uri": "https://localhost:8080/"
        },
        "id": "aRt1XXra8eQg",
        "outputId": "6c60265c-95fc-4ee5-a6ec-7d82222731d8"
      },
      "source": [
        "import sys\r\n",
        "print(sys.builtin_module_names)"
      ],
      "execution_count": 49,
      "outputs": [
        {
          "output_type": "stream",
          "text": [
            "('_ast', '_bisect', '_blake2', '_codecs', '_collections', '_datetime', '_elementtree', '_functools', '_heapq', '_imp', '_io', '_locale', '_md5', '_operator', '_pickle', '_posixsubprocess', '_random', '_sha1', '_sha256', '_sha3', '_sha512', '_signal', '_socket', '_sre', '_stat', '_string', '_struct', '_symtable', '_thread', '_tracemalloc', '_warnings', '_weakref', 'array', 'atexit', 'binascii', 'builtins', 'cmath', 'errno', 'faulthandler', 'fcntl', 'gc', 'grp', 'itertools', 'marshal', 'math', 'posix', 'pwd', 'pyexpat', 'select', 'spwd', 'sys', 'syslog', 'time', 'unicodedata', 'xxsubtype', 'zipimport', 'zlib')\n"
          ],
          "name": "stdout"
        }
      ]
    },
    {
      "cell_type": "code",
      "metadata": {
        "colab": {
          "base_uri": "https://localhost:8080/"
        },
        "id": "JQiqarN68wZ2",
        "outputId": "adce4c45-4c0c-4ec3-ee56-9eaea6e7516d"
      },
      "source": [
        "print(dir(__builtins__))"
      ],
      "execution_count": 50,
      "outputs": [
        {
          "output_type": "stream",
          "text": [
            "['ArithmeticError', 'AssertionError', 'AttributeError', 'BaseException', 'BlockingIOError', 'BrokenPipeError', 'BufferError', 'BytesWarning', 'ChildProcessError', 'ConnectionAbortedError', 'ConnectionError', 'ConnectionRefusedError', 'ConnectionResetError', 'DeprecationWarning', 'EOFError', 'Ellipsis', 'EnvironmentError', 'Exception', 'False', 'FileExistsError', 'FileNotFoundError', 'FloatingPointError', 'FutureWarning', 'GeneratorExit', 'IOError', 'ImportError', 'ImportWarning', 'IndentationError', 'IndexError', 'InterruptedError', 'IsADirectoryError', 'KeyError', 'KeyboardInterrupt', 'LookupError', 'MemoryError', 'ModuleNotFoundError', 'NameError', 'None', 'NotADirectoryError', 'NotImplemented', 'NotImplementedError', 'OSError', 'OverflowError', 'PendingDeprecationWarning', 'PermissionError', 'ProcessLookupError', 'RecursionError', 'ReferenceError', 'ResourceWarning', 'RuntimeError', 'RuntimeWarning', 'StopAsyncIteration', 'StopIteration', 'SyntaxError', 'SyntaxWarning', 'SystemError', 'SystemExit', 'TabError', 'TimeoutError', 'True', 'TypeError', 'UnboundLocalError', 'UnicodeDecodeError', 'UnicodeEncodeError', 'UnicodeError', 'UnicodeTranslateError', 'UnicodeWarning', 'UserWarning', 'ValueError', 'Warning', 'ZeroDivisionError', '__IPYTHON__', '__build_class__', '__debug__', '__doc__', '__import__', '__loader__', '__name__', '__package__', '__spec__', 'abs', 'all', 'any', 'ascii', 'bin', 'bool', 'bytearray', 'bytes', 'callable', 'chr', 'classmethod', 'compile', 'complex', 'copyright', 'credits', 'delattr', 'dict', 'dir', 'display', 'divmod', 'dreload', 'enumerate', 'eval', 'exec', 'filter', 'float', 'format', 'frozenset', 'get_ipython', 'getattr', 'globals', 'hasattr', 'hash', 'help', 'hex', 'id', 'input', 'int', 'isinstance', 'issubclass', 'iter', 'len', 'license', 'list', 'locals', 'map', 'max', 'memoryview', 'min', 'next', 'object', 'oct', 'open', 'ord', 'pow', 'print', 'property', 'range', 'repr', 'reversed', 'round', 'set', 'setattr', 'slice', 'sorted', 'staticmethod', 'str', 'sum', 'super', 'tuple', 'type', 'vars', 'zip']\n"
          ],
          "name": "stdout"
        }
      ]
    },
    {
      "cell_type": "code",
      "metadata": {
        "colab": {
          "base_uri": "https://localhost:8080/"
        },
        "id": "NsmRvLqb8wjA",
        "outputId": "ad08e14d-a82b-43c1-a4ab-6cedfd0ec694"
      },
      "source": [
        "import time\r\n",
        "print(time)\r\n",
        "print(time.time())\r\n",
        "\r\n",
        "now = time.gmtime(time.time())\r\n",
        "print(now)"
      ],
      "execution_count": 52,
      "outputs": [
        {
          "output_type": "stream",
          "text": [
            "<module 'time' (built-in)>\n",
            "1613480905.3854394\n",
            "time.struct_time(tm_year=2021, tm_mon=2, tm_mday=16, tm_hour=13, tm_min=8, tm_sec=25, tm_wday=1, tm_yday=47, tm_isdst=0)\n"
          ],
          "name": "stdout"
        }
      ]
    },
    {
      "cell_type": "code",
      "metadata": {
        "colab": {
          "base_uri": "https://localhost:8080/"
        },
        "id": "V_62hObN8wtz",
        "outputId": "8c53bdb5-0088-4503-d3b2-dde734920950"
      },
      "source": [
        "import math\r\n",
        "\r\n",
        "print(math.factorial(3))\r\n",
        "print(math.gcd(12,24))\r\n",
        "print(math.pow(2,10))\r\n",
        "print(math.sqrt(2))"
      ],
      "execution_count": 53,
      "outputs": [
        {
          "output_type": "stream",
          "text": [
            "6\n",
            "12\n",
            "1024.0\n",
            "1.4142135623730951\n"
          ],
          "name": "stdout"
        }
      ]
    },
    {
      "cell_type": "code",
      "metadata": {
        "colab": {
          "base_uri": "https://localhost:8080/"
        },
        "id": "qI8lKLPQ9Ye9",
        "outputId": "d0e77288-3aad-49a1-bb55-2245c9f5b703"
      },
      "source": [
        "import itertools\r\n",
        "\r\n",
        "list_1=['a','b','c']\r\n",
        "print(list_1)\r\n",
        "list_2=[1,2]\r\n",
        "print(list_2)\r\n",
        "list_cp=list(itertools.product(list_1, list_2))\r\n",
        "print(list_cp)\r\n",
        "list_p=list(itertools.permutations(list_1,2))\r\n",
        "print(list_p)"
      ],
      "execution_count": 55,
      "outputs": [
        {
          "output_type": "stream",
          "text": [
            "['a', 'b', 'c']\n",
            "[1, 2]\n",
            "[('a', 1), ('a', 2), ('b', 1), ('b', 2), ('c', 1), ('c', 2)]\n",
            "[('a', 'b'), ('a', 'c'), ('b', 'a'), ('b', 'c'), ('c', 'a'), ('c', 'b')]\n"
          ],
          "name": "stdout"
        }
      ]
    },
    {
      "cell_type": "markdown",
      "metadata": {
        "id": "Ec1yFMXD-MHU"
      },
      "source": [
        "statistics"
      ]
    },
    {
      "cell_type": "code",
      "metadata": {
        "colab": {
          "base_uri": "https://localhost:8080/"
        },
        "id": "xI7q4sY89Ynj",
        "outputId": "6d0e523c-e041-4773-f03d-ecba0146a257"
      },
      "source": [
        "import statistics\r\n",
        "values = [45,232, 25, 22, 74, 27]\r\n",
        "print(statistics.median(values))\r\n",
        "print(statistics.mean(values))\r\n",
        "print(statistics.harmonic_mean(values))\r\n",
        "print(statistics.stdev(values))\r\n",
        "print(statistics.variance(values))"
      ],
      "execution_count": 57,
      "outputs": [
        {
          "output_type": "stream",
          "text": [
            "36.0\n",
            "70.83333333333333\n",
            "36.91452114685092\n",
            "81.31277062470978\n",
            "6611.766666666667\n"
          ],
          "name": "stdout"
        }
      ]
    },
    {
      "cell_type": "markdown",
      "metadata": {
        "id": "O311S8Ie-k3B"
      },
      "source": [
        "random"
      ]
    },
    {
      "cell_type": "code",
      "metadata": {
        "colab": {
          "base_uri": "https://localhost:8080/"
        },
        "id": "OIo707EC-im8",
        "outputId": "ece61a63-b384-4aa0-ff42-d4ed5c7ab04b"
      },
      "source": [
        "import random\r\n",
        "\r\n",
        "print(random.random())\r\n",
        "print(random.randint(1,10))\r\n",
        "print(random.randrange(0,10,2))"
      ],
      "execution_count": 58,
      "outputs": [
        {
          "output_type": "stream",
          "text": [
            "0.09915110623605572\n",
            "4\n",
            "4\n"
          ],
          "name": "stdout"
        }
      ]
    },
    {
      "cell_type": "code",
      "metadata": {
        "colab": {
          "base_uri": "https://localhost:8080/"
        },
        "id": "Ef3iymgu-iwp",
        "outputId": "bedec585-b2fc-45db-a9e3-bd481b809583"
      },
      "source": [
        "li=[10,20,30,40,50]\r\n",
        "print(li)\r\n",
        "print(random.choice(li))\r\n",
        "print(random.sample(li, 2))\r\n",
        "print(random.shuffle(li))"
      ],
      "execution_count": 61,
      "outputs": [
        {
          "output_type": "stream",
          "text": [
            "[10, 20, 30, 40, 50]\n",
            "20\n",
            "[10, 30]\n",
            "None\n"
          ],
          "name": "stdout"
        }
      ]
    },
    {
      "cell_type": "markdown",
      "metadata": {
        "id": "pXytxH4e_HNI"
      },
      "source": [
        "name space"
      ]
    },
    {
      "cell_type": "code",
      "metadata": {
        "colab": {
          "base_uri": "https://localhost:8080/"
        },
        "id": "ZheRT_6H-i4W",
        "outputId": "c350615d-ef6c-47f9-c92d-e97a6928a6eb"
      },
      "source": [
        "import random as rd\r\n",
        "\r\n",
        "print(rd.random())\r\n",
        "print(rd.randint(1,10))\r\n",
        "print(rd.randrange(0,10,2))"
      ],
      "execution_count": 62,
      "outputs": [
        {
          "output_type": "stream",
          "text": [
            "0.8384472510386907\n",
            "3\n",
            "8\n"
          ],
          "name": "stdout"
        }
      ]
    },
    {
      "cell_type": "markdown",
      "metadata": {
        "id": "SO5WINx5_SXt"
      },
      "source": [
        "package(various of module)"
      ]
    },
    {
      "cell_type": "code",
      "metadata": {
        "id": "EbL7_bdE_Pmp"
      },
      "source": [
        "!mkdir package\r\n",
        "!mkdir package/sub_package_1"
      ],
      "execution_count": 63,
      "outputs": []
    },
    {
      "cell_type": "code",
      "metadata": {
        "colab": {
          "base_uri": "https://localhost:8080/"
        },
        "id": "C0ncxi_o_Pvf",
        "outputId": "37ab9083-6435-47dc-f537-80f8d8570665"
      },
      "source": [
        "!ls package"
      ],
      "execution_count": 65,
      "outputs": [
        {
          "output_type": "stream",
          "text": [
            "sub_package_1\n"
          ],
          "name": "stdout"
        }
      ]
    },
    {
      "cell_type": "code",
      "metadata": {
        "colab": {
          "base_uri": "https://localhost:8080/"
        },
        "id": "vT0mmMb9_P5a",
        "outputId": "d0261006-67d8-4e6d-ee1d-50a698763254"
      },
      "source": [
        "%%writefile package/sub_package_1/sub1_module_1.py\r\n",
        "def print_module():\r\n",
        "  print(\"sub_package_1/sub1_moudle_1\")"
      ],
      "execution_count": 67,
      "outputs": [
        {
          "output_type": "stream",
          "text": [
            "Writing package/sub_package_1/sub1_module_1.py\n"
          ],
          "name": "stdout"
        }
      ]
    },
    {
      "cell_type": "code",
      "metadata": {
        "colab": {
          "base_uri": "https://localhost:8080/"
        },
        "id": "zhRBgTEK_s4x",
        "outputId": "626071c7-b8d8-438f-b357-22f313ee0eda"
      },
      "source": [
        "!more package/sub_package_1/sub1_module_1.py"
      ],
      "execution_count": 69,
      "outputs": [
        {
          "output_type": "stream",
          "text": [
            "def print_module():\n",
            "  print(\"sub_package_1/sub1_moudle_1\")\n"
          ],
          "name": "stdout"
        }
      ]
    },
    {
      "cell_type": "markdown",
      "metadata": {
        "id": "gAoRd-4XAOaH"
      },
      "source": [
        "package composition file(__init__.py) under python version 3.3"
      ]
    },
    {
      "cell_type": "code",
      "metadata": {
        "colab": {
          "base_uri": "https://localhost:8080/",
          "height": 139
        },
        "id": "Cxnk1sf3_s-f",
        "outputId": "7ee35945-454b-4fd2-f246-80154a4ce418"
      },
      "source": [
        "git hub https://github.com/jaewoong-87/python.git"
      ],
      "execution_count": 70,
      "outputs": [
        {
          "output_type": "error",
          "ename": "SyntaxError",
          "evalue": "ignored",
          "traceback": [
            "\u001b[0;36m  File \u001b[0;32m\"<ipython-input-70-866b06b4000a>\"\u001b[0;36m, line \u001b[0;32m1\u001b[0m\n\u001b[0;31m    git hub https://github.com/jaewoong-87/python.git\u001b[0m\n\u001b[0m          ^\u001b[0m\n\u001b[0;31mSyntaxError\u001b[0m\u001b[0;31m:\u001b[0m invalid syntax\n"
          ]
        }
      ]
    },
    {
      "cell_type": "code",
      "metadata": {
        "id": "Sa8NTxNpCF9P"
      },
      "source": [
        ""
      ],
      "execution_count": null,
      "outputs": []
    },
    {
      "cell_type": "code",
      "metadata": {
        "id": "oXS-GCuD_tLd"
      },
      "source": [
        ""
      ],
      "execution_count": null,
      "outputs": []
    }
  ]
}