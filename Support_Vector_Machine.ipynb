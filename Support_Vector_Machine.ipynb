{
  "nbformat": 4,
  "nbformat_minor": 0,
  "metadata": {
    "colab": {
      "name": "Support Vector Machine.ipynb",
      "provenance": [],
      "collapsed_sections": [],
      "authorship_tag": "ABX9TyOmlnuE4cBIQUx7pin888xN",
      "include_colab_link": true
    },
    "kernelspec": {
      "name": "python3",
      "display_name": "Python 3"
    }
  },
  "cells": [
    {
      "cell_type": "markdown",
      "metadata": {
        "id": "view-in-github",
        "colab_type": "text"
      },
      "source": [
        "<a href=\"https://colab.research.google.com/github/jaewoong-87/machine-learning/blob/main/Support_Vector_Machine.ipynb\" target=\"_parent\"><img src=\"https://colab.research.google.com/assets/colab-badge.svg\" alt=\"Open In Colab\"/></a>"
      ]
    },
    {
      "cell_type": "markdown",
      "metadata": {
        "id": "w7RMdBmxMb3m"
      },
      "source": [
        "SVM\r\n",
        "\r\n",
        "for regrssion, classifier, detecting adnormal values. "
      ]
    },
    {
      "cell_type": "code",
      "metadata": {
        "id": "sJNYyDj2I6FC"
      },
      "source": [
        "import multiprocessing\r\n",
        "import pandas as pd\r\n",
        "import numpy as np\r\n",
        "import matplotlib.pyplot as plt\r\n",
        "plt.style.use(['seaborn-whitegrid'])"
      ],
      "execution_count": null,
      "outputs": []
    },
    {
      "cell_type": "code",
      "metadata": {
        "id": "3fMelzV3M9Dc"
      },
      "source": [
        "from sklearn.svm import SVR, SVC\r\n",
        "from sklearn.datasets import load_boston, load_diabetes, load_breast_cancer, load_iris, load_wine\r\n",
        "from sklearn.pipeline import make_pipeline, Pipeline\r\n",
        "from sklearn.model_selection import train_test_split, cross_validate, GridSearchCV\r\n",
        "from sklearn.preprocessing import StandardScaler, MinMaxScaler\r\n",
        "from sklearn.manifold import TSNE"
      ],
      "execution_count": null,
      "outputs": []
    },
    {
      "cell_type": "markdown",
      "metadata": {
        "id": "9O-U14YzNrOO"
      },
      "source": [
        "SVR"
      ]
    },
    {
      "cell_type": "code",
      "metadata": {
        "colab": {
          "base_uri": "https://localhost:8080/"
        },
        "id": "MHoIhugYNuMp",
        "outputId": "34772703-49f9-425e-a01d-9816477b0660"
      },
      "source": [
        "X, y = load_boston(return_X_y=True)\r\n",
        "X_train, X_test, y_train, y_test = train_test_split(X, y, random_state=123)\r\n",
        "\r\n",
        "model = SVR()\r\n",
        "model.fit(X_train, y_train)\r\n",
        "\r\n",
        "print(\"learning data score:{}\".format(model.score(X_train, y_train)))\r\n",
        "print(\"estimate data score:{}\".format(model.score(X_test, y_test)))"
      ],
      "execution_count": null,
      "outputs": [
        {
          "output_type": "stream",
          "text": [
            "learning data score:0.2177283706374875\n",
            "estimate data score:0.13544178468518187\n"
          ],
          "name": "stdout"
        }
      ]
    },
    {
      "cell_type": "markdown",
      "metadata": {
        "id": "i3YcGgJoOJG2"
      },
      "source": [
        "SVC"
      ]
    },
    {
      "cell_type": "code",
      "metadata": {
        "colab": {
          "base_uri": "https://localhost:8080/"
        },
        "id": "xYpjr3nVOKUg",
        "outputId": "d9faa152-d577-4f84-acf5-85b9ca6fa5b2"
      },
      "source": [
        "X, y = load_breast_cancer(return_X_y=True)\r\n",
        "X_train, X_test, y_train, y_test = train_test_split(X, y, random_state=123)\r\n",
        "\r\n",
        "model = SVC()\r\n",
        "model.fit(X_train, y_train)\r\n",
        "\r\n",
        "print(\"learning data score:{}\".format(model.score(X_train, y_train)))\r\n",
        "print(\"estimate data score:{}\".format(model.score(X_test, y_test)))"
      ],
      "execution_count": null,
      "outputs": [
        {
          "output_type": "stream",
          "text": [
            "learning data score:0.9014084507042254\n",
            "estimate data score:0.9230769230769231\n"
          ],
          "name": "stdout"
        }
      ]
    },
    {
      "cell_type": "markdown",
      "metadata": {
        "id": "iQJqLnx_ORa4"
      },
      "source": [
        "Kernel - in multi dimension, use non linear line to study."
      ]
    },
    {
      "cell_type": "code",
      "metadata": {
        "colab": {
          "base_uri": "https://localhost:8080/"
        },
        "id": "bvKEBCjbOThl",
        "outputId": "21ee6e9c-71b3-4091-8e50-ea65dcdd2c0d"
      },
      "source": [
        "X, y = load_boston(return_X_y=True)\r\n",
        "X_train, X_test, y_train, y_test = train_test_split(X, y, random_state=123)\r\n",
        "\r\n",
        "linear_svr = SVR(kernel='linear')\r\n",
        "linear_svr.fit(X_train, y_train)\r\n",
        "\r\n",
        "print(\"linear SVR learning date score:{}\".format(linear_svr.score(X_train, y_train)))\r\n",
        "print(\"linear SVR estiamte date score:{}\".format(linear_svr.score(X_test, y_test)))\r\n",
        "\r\n",
        "polinomial_svr = SVR(kernel='poly')\r\n",
        "polinomial_svr.fit(X_train, y_train)\r\n",
        "\r\n",
        "print(\"polinomial_svr learning date score:{}\".format(polinomial_svr.score(X_train, y_train)))\r\n",
        "print(\"polinomial_svr estiamte date score:{}\".format(polinomial_svr.score(X_test, y_test)))\r\n",
        "\r\n",
        "rbf_svr = SVR(kernel='rbf')\r\n",
        "rbf_svr.fit(X_train, y_train)\r\n",
        "\r\n",
        "print(\"rbf SVR learning date score:{}\".format(rbf_svr.score(X_train, y_train)))\r\n",
        "print(\"rbf SVR estiamte date score:{}\".format(rbf_svr.score(X_test, y_test)))"
      ],
      "execution_count": null,
      "outputs": [
        {
          "output_type": "stream",
          "text": [
            "linear SVR learning date score:0.715506620496448\n",
            "linear SVR estiamte date score:0.6380398541506058\n",
            "polinomial_svr learning date score:0.2024454261446289\n",
            "polinomial_svr estiamte date score:0.133668450367462\n",
            "rbf SVR learning date score:0.2177283706374875\n",
            "rbf SVR estiamte date score:0.13544178468518187\n"
          ],
          "name": "stdout"
        }
      ]
    },
    {
      "cell_type": "markdown",
      "metadata": {
        "id": "_mt4V0QsTfpP"
      },
      "source": [
        "above data, linear is the best for boston housing."
      ]
    },
    {
      "cell_type": "code",
      "metadata": {
        "colab": {
          "base_uri": "https://localhost:8080/"
        },
        "id": "cC-sGCbySWjw",
        "outputId": "3b64b50a-7643-4cd0-ed68-1dafaaed4faf"
      },
      "source": [
        "X, y = load_breast_cancer(return_X_y=True)\r\n",
        "X_train, X_test, y_train, y_test = train_test_split(X, y, random_state=123)\r\n",
        "\r\n",
        "linear_svc = SVC(kernel='linear')\r\n",
        "linear_svc.fit(X_train, y_train)\r\n",
        "\r\n",
        "print(\"linear SVC learning date score:{}\".format(linear_svc.score(X_train, y_train)))\r\n",
        "print(\"linear SVC estiamte date score:{}\".format(linear_svc.score(X_test, y_test)))\r\n",
        "\r\n",
        "polinomial_svc = SVC(kernel='poly')\r\n",
        "polinomial_svc.fit(X_train, y_train)\r\n",
        "\r\n",
        "print(\"polinomial_svc learning date score:{}\".format(polinomial_svc.score(X_train, y_train)))\r\n",
        "print(\"polinomial_svc estiamte date score:{}\".format(polinomial_svc.score(X_test, y_test)))\r\n",
        "\r\n",
        "rbf_svc = SVC(kernel='rbf')\r\n",
        "rbf_svc.fit(X_train, y_train)\r\n",
        "\r\n",
        "print(\"rbf SVC learning date score:{}\".format(rbf_svc.score(X_train, y_train)))\r\n",
        "print(\"rbf SVC estiamte date score:{}\".format(rbf_svc.score(X_test, y_test)))"
      ],
      "execution_count": null,
      "outputs": [
        {
          "output_type": "stream",
          "text": [
            "linear SVC learning date score:0.960093896713615\n",
            "linear SVC estiamte date score:0.986013986013986\n",
            "polinomial_svc learning date score:0.9014084507042254\n",
            "polinomial_svc estiamte date score:0.9230769230769231\n",
            "rbf SVC learning date score:0.9014084507042254\n",
            "rbf SVC estiamte date score:0.9230769230769231\n"
          ],
          "name": "stdout"
        }
      ]
    },
    {
      "cell_type": "markdown",
      "metadata": {
        "id": "kanvzSt9UQqI"
      },
      "source": [
        "Linear is the best for this."
      ]
    },
    {
      "cell_type": "markdown",
      "metadata": {
        "id": "0mLEEsNHUVuM"
      },
      "source": [
        "SVM 매개변수 튜닝"
      ]
    },
    {
      "cell_type": "code",
      "metadata": {
        "id": "ToMAeIAgUZKQ"
      },
      "source": [
        "X, y = load_breast_cancer(return_X_y=True)\r\n",
        "X_train, X_test, y_train, y_test = train_test_split(X, y, random_state=123)"
      ],
      "execution_count": null,
      "outputs": []
    },
    {
      "cell_type": "code",
      "metadata": {
        "colab": {
          "base_uri": "https://localhost:8080/"
        },
        "id": "9ecF0Lf4UhAn",
        "outputId": "36157745-b998-45d6-93dd-7358e9c31fac"
      },
      "source": [
        "polynomial_svc = SVC(kernel='poly', degree=2, C=0.1, gamma='auto')\r\n",
        "polynomial_svc.fit(X_train, y_train)\r\n",
        "\r\n",
        "print(\"kernel=poly, degree={}, C={}, gamma={}\".format(2, 0.1, 'auto'))\r\n",
        "print(\"polinomial_svc learning date score:{}\".format(polinomial_svc.score(X_train, y_train)))\r\n",
        "print(\"polinomial_svc estiamte date score:{}\".format(polinomial_svc.score(X_test, y_test)))\r\n"
      ],
      "execution_count": null,
      "outputs": [
        {
          "output_type": "stream",
          "text": [
            "kernel=poly, degree=2, C=0.1, gamma=auto\n",
            "polinomial_svc learning date score:0.9014084507042254\n",
            "polinomial_svc estiamte date score:0.9230769230769231\n"
          ],
          "name": "stdout"
        }
      ]
    },
    {
      "cell_type": "code",
      "metadata": {
        "colab": {
          "base_uri": "https://localhost:8080/"
        },
        "id": "j0OEhz62VEWo",
        "outputId": "1be1031b-e222-43a0-8fa7-d23a43534a14"
      },
      "source": [
        "rbf_svc = SVC(kernel='rbf', C=2.0, gamma='scale')\r\n",
        "rbf_svc.fit(X_train, y_train)\r\n",
        "\r\n",
        "print(\"kernel=poly, C={}, gamma={}\".format(2.0,'scale'))\r\n",
        "print(\"rbf SVC learning date score:{}\".format(rbf_svc.score(X_train, y_train)))\r\n",
        "print(\"rbf SVC estiamte date score:{}\".format(rbf_svc.score(X_test, y_test)))"
      ],
      "execution_count": null,
      "outputs": [
        {
          "output_type": "stream",
          "text": [
            "kernel=poly, C=2.0, gamma=scale\n",
            "rbf SVC learning date score:0.9154929577464789\n",
            "rbf SVC estiamte date score:0.9370629370629371\n"
          ],
          "name": "stdout"
        }
      ]
    },
    {
      "cell_type": "markdown",
      "metadata": {
        "id": "bW4fOqlhVe_4"
      },
      "source": [
        "data preprocessing"
      ]
    },
    {
      "cell_type": "code",
      "metadata": {
        "id": "3JwbScSuVeio"
      },
      "source": [
        "X, y = load_breast_cancer(return_X_y=True)\r\n",
        "X_train, X_test, y_train, y_test = train_test_split(X, y, random_state=123)"
      ],
      "execution_count": null,
      "outputs": []
    },
    {
      "cell_type": "code",
      "metadata": {
        "colab": {
          "base_uri": "https://localhost:8080/"
        },
        "id": "EJQLTJfXV4TG",
        "outputId": "e8e5cd8c-2b61-4c52-9e06-28e38991cab6"
      },
      "source": [
        "model = SVC()\r\n",
        "model.fit(X_train, y_train)\r\n",
        "\r\n",
        "print(\"SVC learning date score:{}\".format(model.score(X_train, y_train)))\r\n",
        "print(\"SVC estiamte date score:{}\".format(model.score(X_test, y_test)))"
      ],
      "execution_count": null,
      "outputs": [
        {
          "output_type": "stream",
          "text": [
            "SVC learning date score:0.9014084507042254\n",
            "SVC estiamte date score:0.9230769230769231\n"
          ],
          "name": "stdout"
        }
      ]
    },
    {
      "cell_type": "code",
      "metadata": {
        "id": "QqH7c1cOV4is"
      },
      "source": [
        "scaler = StandardScaler()\r\n",
        "X_train = scaler.fit_transform(X_train)\r\n",
        "X_test = scaler.transform(X_test)"
      ],
      "execution_count": null,
      "outputs": []
    },
    {
      "cell_type": "code",
      "metadata": {
        "colab": {
          "base_uri": "https://localhost:8080/"
        },
        "id": "CJi3ii-zV4qe",
        "outputId": "cb68189f-20d2-4650-99a2-8db4a1994471"
      },
      "source": [
        "model = SVC()\r\n",
        "model.fit(X_train, y_train)\r\n",
        "\r\n",
        "print(\"SVC learning date score:{}\".format(model.score(X_train, y_train)))\r\n",
        "print(\"SVC estiamte date score:{}\".format(model.score(X_test, y_test)))"
      ],
      "execution_count": null,
      "outputs": [
        {
          "output_type": "stream",
          "text": [
            "SVC learning date score:0.9835680751173709\n",
            "SVC estiamte date score:0.986013986013986\n"
          ],
          "name": "stdout"
        }
      ]
    },
    {
      "cell_type": "markdown",
      "metadata": {
        "id": "MBya-qDvWfeg"
      },
      "source": [
        "preprocessing could enhance efficiency"
      ]
    },
    {
      "cell_type": "code",
      "metadata": {
        "id": "cklxAb6nV4yD"
      },
      "source": [
        "scaler = MinMaxScaler()\r\n",
        "X_train = scaler.fit_transform(X_train)\r\n",
        "X_test = scaler.transform(X_test)"
      ],
      "execution_count": null,
      "outputs": []
    },
    {
      "cell_type": "code",
      "metadata": {
        "colab": {
          "base_uri": "https://localhost:8080/"
        },
        "id": "PELMkoyPWomK",
        "outputId": "574cd27c-e770-4484-ab54-fb6917f008a5"
      },
      "source": [
        "model = SVC()\r\n",
        "model.fit(X_train, y_train)\r\n",
        "\r\n",
        "print(\"SVC learning date score:{}\".format(model.score(X_train, y_train)))\r\n",
        "print(\"SVC estiamte date score:{}\".format(model.score(X_test, y_test)))"
      ],
      "execution_count": null,
      "outputs": [
        {
          "output_type": "stream",
          "text": [
            "SVC learning date score:0.9812206572769953\n",
            "SVC estiamte date score:0.986013986013986\n"
          ],
          "name": "stdout"
        }
      ]
    },
    {
      "cell_type": "markdown",
      "metadata": {
        "id": "RT0nNYaYWtEf"
      },
      "source": [
        "Linear SVR"
      ]
    },
    {
      "cell_type": "markdown",
      "metadata": {
        "id": "p45Hrog-Z6N3"
      },
      "source": [
        "Boston housing price"
      ]
    },
    {
      "cell_type": "code",
      "metadata": {
        "id": "lXxVFgtXZ6ni"
      },
      "source": [
        "X, y = load_boston(return_X_y=True)\r\n",
        "X_train, X_test, y_train, y_test = train_test_split(X, y, test_size=0.2)"
      ],
      "execution_count": null,
      "outputs": []
    },
    {
      "cell_type": "code",
      "metadata": {
        "id": "-JifXGlAaI90"
      },
      "source": [
        "scaler = StandardScaler()\r\n",
        "scaler.fit(X_train)\r\n",
        "X_train = scaler.transform(X_train)\r\n",
        "X_test = scaler.transform(X_test)"
      ],
      "execution_count": null,
      "outputs": []
    },
    {
      "cell_type": "code",
      "metadata": {
        "colab": {
          "base_uri": "https://localhost:8080/"
        },
        "id": "k9FfzKWiaJPQ",
        "outputId": "d17595bc-c7a0-4fb1-c6e8-7e9edefa761b"
      },
      "source": [
        "model = SVR(kernel='linear')\r\n",
        "model.fit(X_train, y_train)\r\n"
      ],
      "execution_count": null,
      "outputs": [
        {
          "output_type": "execute_result",
          "data": {
            "text/plain": [
              "SVR(C=1.0, cache_size=200, coef0=0.0, degree=3, epsilon=0.1, gamma='scale',\n",
              "    kernel='linear', max_iter=-1, shrinking=True, tol=0.001, verbose=False)"
            ]
          },
          "metadata": {
            "tags": []
          },
          "execution_count": 33
        }
      ]
    },
    {
      "cell_type": "code",
      "metadata": {
        "colab": {
          "base_uri": "https://localhost:8080/"
        },
        "id": "YSPtq-d9aJsk",
        "outputId": "3ed95190-960c-4cce-c3c2-10195df4f673"
      },
      "source": [
        "print(\"learning date score:{}\".format(model.score(X_train, y_train)))\r\n",
        "print(\"estiamte date score:{}\".format(model.score(X_test, y_test)))"
      ],
      "execution_count": null,
      "outputs": [
        {
          "output_type": "stream",
          "text": [
            "learning date score:0.7538954114838905\n",
            "estiamte date score:0.45878568380761087\n"
          ],
          "name": "stdout"
        }
      ]
    },
    {
      "cell_type": "code",
      "metadata": {
        "colab": {
          "base_uri": "https://localhost:8080/",
          "height": 262
        },
        "id": "tMcFgwFWa0uV",
        "outputId": "9bfc67ec-5075-4288-f4c9-a12ee8596afd"
      },
      "source": [
        "X_comp =TSNE(n_components=1).fit_transform(X)\r\n",
        "plt.scatter(X_comp, y);"
      ],
      "execution_count": null,
      "outputs": [
        {
          "output_type": "display_data",
          "data": {
            "image/png": "[encoded data removed]",
            "text/plain": [
              "<Figure size 432x288 with 1 Axes>"
            ]
          },
          "metadata": {
            "tags": [],
            "needs_background": "light"
          }
        }
      ]
    },
    {
      "cell_type": "code",
      "metadata": {
        "colab": {
          "base_uri": "https://localhost:8080/",
          "height": 281
        },
        "id": "Noy2UHrQa1A2",
        "outputId": "72c6c80a-99eb-4349-9892-be2d96f0ed82"
      },
      "source": [
        "model.fit(X_comp, y)\r\n",
        "predict = model.predict(X_comp)\r\n",
        "plt.scatter(X_comp, y)\r\n",
        "plt.scatter(X_comp, predict, color='r')"
      ],
      "execution_count": null,
      "outputs": [
        {
          "output_type": "execute_result",
          "data": {
            "text/plain": [
              "<matplotlib.collections.PathCollection at 0x7f6601f6ccf8>"
            ]
          },
          "metadata": {
            "tags": []
          },
          "execution_count": 36
        },
        {
          "output_type": "display_data",
          "data": {
            "image/png": "[encoded data removed]",
            "text/plain": [
              "<Figure size 432x288 with 1 Axes>"
            ]
          },
          "metadata": {
            "tags": [],
            "needs_background": "light"
          }
        }
      ]
    },
    {
      "cell_type": "code",
      "metadata": {
        "colab": {
          "base_uri": "https://localhost:8080/"
        },
        "id": "DN7PTlZxbUCJ",
        "outputId": "91a9c0f3-bdf8-42e5-a085-89aa62a0414d"
      },
      "source": [
        "estimator = make_pipeline(StandardScaler(), SVR(kernel='linear'))\r\n",
        "\r\n",
        "cross_validate(\r\n",
        "    estimator=estimator,\r\n",
        "    X=X, y=y,\r\n",
        "    cv=5,\r\n",
        "    n_jobs=multiprocessing.cpu_count(),\r\n",
        "    verbose=True\r\n",
        ")"
      ],
      "execution_count": null,
      "outputs": [
        {
          "output_type": "stream",
          "text": [
            "[Parallel(n_jobs=2)]: Using backend LokyBackend with 2 concurrent workers.\n",
            "[Parallel(n_jobs=2)]: Done   5 out of   5 | elapsed:    1.2s finished\n"
          ],
          "name": "stderr"
        },
        {
          "output_type": "execute_result",
          "data": {
            "text/plain": [
              "{'fit_time': array([0.02860522, 0.02860665, 0.02645016, 0.02685571, 0.02236485]),\n",
              " 'score_time': array([0.0023222 , 0.00231361, 0.00220394, 0.00216722, 0.00140524]),\n",
              " 'test_score': array([0.76908568, 0.72180141, 0.56428426, 0.14083339, 0.07810211])}"
            ]
          },
          "metadata": {
            "tags": []
          },
          "execution_count": 37
        }
      ]
    },
    {
      "cell_type": "code",
      "metadata": {
        "colab": {
          "base_uri": "https://localhost:8080/"
        },
        "id": "rKGFdS70bUZ5",
        "outputId": "8c9039dc-4658-4d31-ea8b-9a60a003bef5"
      },
      "source": [
        "pipe = Pipeline([('scaler', StandardScaler()),\r\n",
        "                 ('model', SVR(kernel='linear'))])\r\n",
        "\r\n",
        "param_grid = [{'model__gamma': ['scale','auto'],\r\n",
        "               'model__C':[1.0, 0.1, 0.01],\r\n",
        "               'model__epsilon':[1.0, 0.1, 0.01]}]\r\n",
        "\r\n",
        "gs = GridSearchCV(\r\n",
        "    estimator=pipe,\r\n",
        "    param_grid=param_grid,\r\n",
        "    n_jobs=multiprocessing.cpu_count(),\r\n",
        "    cv=5,\r\n",
        "    verbose=True\r\n",
        ")\r\n",
        "\r\n",
        "gs.fit(X, y)"
      ],
      "execution_count": null,
      "outputs": [
        {
          "output_type": "stream",
          "text": [
            "Fitting 5 folds for each of 18 candidates, totalling 90 fits\n"
          ],
          "name": "stdout"
        },
        {
          "output_type": "stream",
          "text": [
            "[Parallel(n_jobs=2)]: Using backend LokyBackend with 2 concurrent workers.\n",
            "[Parallel(n_jobs=2)]: Done  90 out of  90 | elapsed:    1.0s finished\n"
          ],
          "name": "stderr"
        },
        {
          "output_type": "execute_result",
          "data": {
            "text/plain": [
              "GridSearchCV(cv=5, error_score=nan,\n",
              "             estimator=Pipeline(memory=None,\n",
              "                                steps=[('scaler',\n",
              "                                        StandardScaler(copy=True,\n",
              "                                                       with_mean=True,\n",
              "                                                       with_std=True)),\n",
              "                                       ('model',\n",
              "                                        SVR(C=1.0, cache_size=200, coef0=0.0,\n",
              "                                            degree=3, epsilon=0.1,\n",
              "                                            gamma='scale', kernel='linear',\n",
              "                                            max_iter=-1, shrinking=True,\n",
              "                                            tol=0.001, verbose=False))],\n",
              "                                verbose=False),\n",
              "             iid='deprecated', n_jobs=2,\n",
              "             param_grid=[{'model__C': [1.0, 0.1, 0.01],\n",
              "                          'model__epsilon': [1.0, 0.1, 0.01],\n",
              "                          'model__gamma': ['scale', 'auto']}],\n",
              "             pre_dispatch='2*n_jobs', refit=True, return_train_score=False,\n",
              "             scoring=None, verbose=True)"
            ]
          },
          "metadata": {
            "tags": []
          },
          "execution_count": 39
        }
      ]
    },
    {
      "cell_type": "code",
      "metadata": {
        "colab": {
          "base_uri": "https://localhost:8080/"
        },
        "id": "qHW5ypvJbUhc",
        "outputId": "29afbafd-59e5-47b3-ee45-816cf8f0a003"
      },
      "source": [
        "gs.best_estimator_"
      ],
      "execution_count": null,
      "outputs": [
        {
          "output_type": "execute_result",
          "data": {
            "text/plain": [
              "Pipeline(memory=None,\n",
              "         steps=[('scaler',\n",
              "                 StandardScaler(copy=True, with_mean=True, with_std=True)),\n",
              "                ('model',\n",
              "                 SVR(C=0.1, cache_size=200, coef0=0.0, degree=3, epsilon=1.0,\n",
              "                     gamma='scale', kernel='linear', max_iter=-1,\n",
              "                     shrinking=True, tol=0.001, verbose=False))],\n",
              "         verbose=False)"
            ]
          },
          "metadata": {
            "tags": []
          },
          "execution_count": 40
        }
      ]
    },
    {
      "cell_type": "markdown",
      "metadata": {
        "id": "qxsImShFkJ_Y"
      },
      "source": [
        "SVR(C=0.1, cache_size=200, coef0=0.0, degree=3, epsilon=1.0,\r\n",
        "                     gamma='scale', kernel='linear', max_iter=-1 is best for running"
      ]
    },
    {
      "cell_type": "markdown",
      "metadata": {
        "id": "GhcACn1NioOM"
      },
      "source": [
        "diabetes"
      ]
    },
    {
      "cell_type": "code",
      "metadata": {
        "id": "f-mb5SBokjZZ"
      },
      "source": [
        "X, y = load_diabetes(return_X_y=True)\r\n",
        "X_train, X_test, y_train, y_test = train_test_split(X, y, test_size=0.2)"
      ],
      "execution_count": null,
      "outputs": []
    },
    {
      "cell_type": "code",
      "metadata": {
        "id": "IRQhTRFxkjZm"
      },
      "source": [
        "scaler = StandardScaler()\r\n",
        "scaler.fit(X_train)\r\n",
        "X_train = scaler.transform(X_train)\r\n",
        "X_test = scaler.transform(X_test)"
      ],
      "execution_count": null,
      "outputs": []
    },
    {
      "cell_type": "code",
      "metadata": {
        "colab": {
          "base_uri": "https://localhost:8080/"
        },
        "id": "vPhU102skjZn",
        "outputId": "3432b024-8505-4749-bc52-b706681cde0f"
      },
      "source": [
        "model = SVR(kernel='linear')\r\n",
        "model.fit(X_train, y_train)\r\n"
      ],
      "execution_count": null,
      "outputs": [
        {
          "output_type": "execute_result",
          "data": {
            "text/plain": [
              "SVR(C=1.0, cache_size=200, coef0=0.0, degree=3, epsilon=0.1, gamma='scale',\n",
              "    kernel='linear', max_iter=-1, shrinking=True, tol=0.001, verbose=False)"
            ]
          },
          "metadata": {
            "tags": []
          },
          "execution_count": 43
        }
      ]
    },
    {
      "cell_type": "code",
      "metadata": {
        "colab": {
          "base_uri": "https://localhost:8080/"
        },
        "id": "NCHiYxqokjZo",
        "outputId": "d895d6ea-f117-4c37-fe53-f9c1be156989"
      },
      "source": [
        "print(\"learning date score:{}\".format(model.score(X_train, y_train)))\r\n",
        "print(\"estiamte date score:{}\".format(model.score(X_test, y_test)))"
      ],
      "execution_count": null,
      "outputs": [
        {
          "output_type": "stream",
          "text": [
            "learning date score:0.5166210110488189\n",
            "estiamte date score:0.44253172132308327\n"
          ],
          "name": "stdout"
        }
      ]
    },
    {
      "cell_type": "code",
      "metadata": {
        "colab": {
          "base_uri": "https://localhost:8080/",
          "height": 262
        },
        "id": "F06vb5mskjZo",
        "outputId": "be46be39-2d54-42aa-d518-b5efb969dfcb"
      },
      "source": [
        "X_comp =TSNE(n_components=1).fit_transform(X)\r\n",
        "plt.scatter(X_comp, y);"
      ],
      "execution_count": null,
      "outputs": [
        {
          "output_type": "display_data",
          "data": {
            "image/png": "[encoded data removed]",
            "text/plain": [
              "<Figure size 432x288 with 1 Axes>"
            ]
          },
          "metadata": {
            "tags": [],
            "needs_background": "light"
          }
        }
      ]
    },
    {
      "cell_type": "code",
      "metadata": {
        "colab": {
          "base_uri": "https://localhost:8080/",
          "height": 281
        },
        "id": "UBQluS__k25x",
        "outputId": "e5673124-2104-4be7-8f17-d15d583d7c2e"
      },
      "source": [
        "model.fit(X_comp, y)\r\n",
        "predict = model.predict(X_comp)\r\n",
        "plt.scatter(X_comp, y)\r\n",
        "plt.scatter(X_comp, predict, color='r')"
      ],
      "execution_count": null,
      "outputs": [
        {
          "output_type": "execute_result",
          "data": {
            "text/plain": [
              "<matplotlib.collections.PathCollection at 0x7f6601a16a90>"
            ]
          },
          "metadata": {
            "tags": []
          },
          "execution_count": 46
        },
        {
          "output_type": "display_data",
          "data": {
            "image/png": "[encoded data removed]",
            "text/plain": [
              "<Figure size 432x288 with 1 Axes>"
            ]
          },
          "metadata": {
            "tags": [],
            "needs_background": "light"
          }
        }
      ]
    },
    {
      "cell_type": "code",
      "metadata": {
        "colab": {
          "base_uri": "https://localhost:8080/"
        },
        "id": "BjFbe53-k251",
        "outputId": "2be94414-9c76-43bf-d6a4-eca8ccfe7d66"
      },
      "source": [
        "estimator = make_pipeline(StandardScaler(), SVR(kernel='linear'))\r\n",
        "\r\n",
        "cross_validate(\r\n",
        "    estimator=estimator,\r\n",
        "    X=X, y=y,\r\n",
        "    cv=5,\r\n",
        "    n_jobs=multiprocessing.cpu_count(),\r\n",
        "    verbose=True\r\n",
        ")"
      ],
      "execution_count": null,
      "outputs": [
        {
          "output_type": "stream",
          "text": [
            "[Parallel(n_jobs=2)]: Using backend LokyBackend with 2 concurrent workers.\n",
            "[Parallel(n_jobs=2)]: Done   5 out of   5 | elapsed:    0.1s finished\n"
          ],
          "name": "stderr"
        },
        {
          "output_type": "execute_result",
          "data": {
            "text/plain": [
              "{'fit_time': array([0.0339849 , 0.01558828, 0.013901  , 0.01131678, 0.01253033]),\n",
              " 'score_time': array([0.00243235, 0.00220776, 0.00200605, 0.00168729, 0.00130224]),\n",
              " 'test_score': array([0.43037242, 0.51653341, 0.48275332, 0.42247202, 0.53076481])}"
            ]
          },
          "metadata": {
            "tags": []
          },
          "execution_count": 47
        }
      ]
    },
    {
      "cell_type": "code",
      "metadata": {
        "colab": {
          "base_uri": "https://localhost:8080/"
        },
        "id": "gnd5JKq7k251",
        "outputId": "2e461db4-fefe-4e5f-e90c-088ea2033277"
      },
      "source": [
        "pipe = Pipeline([('scaler', StandardScaler()),\r\n",
        "                 ('model', SVR(kernel='linear'))])\r\n",
        "\r\n",
        "param_grid = [{'model__gamma': ['scale','auto'],\r\n",
        "               'model__C':[1.0, 0.1, 0.01],\r\n",
        "               'model__epsilon':[1.0, 0.1, 0.01]}]\r\n",
        "\r\n",
        "gs = GridSearchCV(\r\n",
        "    estimator=pipe,\r\n",
        "    param_grid=param_grid,\r\n",
        "    n_jobs=multiprocessing.cpu_count(),\r\n",
        "    cv=5,\r\n",
        "    verbose=True\r\n",
        ")\r\n",
        "\r\n",
        "gs.fit(X, y)"
      ],
      "execution_count": null,
      "outputs": [
        {
          "output_type": "stream",
          "text": [
            "Fitting 5 folds for each of 18 candidates, totalling 90 fits\n"
          ],
          "name": "stdout"
        },
        {
          "output_type": "stream",
          "text": [
            "[Parallel(n_jobs=2)]: Using backend LokyBackend with 2 concurrent workers.\n",
            "[Parallel(n_jobs=2)]: Done  90 out of  90 | elapsed:    0.7s finished\n"
          ],
          "name": "stderr"
        },
        {
          "output_type": "execute_result",
          "data": {
            "text/plain": [
              "GridSearchCV(cv=5, error_score=nan,\n",
              "             estimator=Pipeline(memory=None,\n",
              "                                steps=[('scaler',\n",
              "                                        StandardScaler(copy=True,\n",
              "                                                       with_mean=True,\n",
              "                                                       with_std=True)),\n",
              "                                       ('model',\n",
              "                                        SVR(C=1.0, cache_size=200, coef0=0.0,\n",
              "                                            degree=3, epsilon=0.1,\n",
              "                                            gamma='scale', kernel='linear',\n",
              "                                            max_iter=-1, shrinking=True,\n",
              "                                            tol=0.001, verbose=False))],\n",
              "                                verbose=False),\n",
              "             iid='deprecated', n_jobs=2,\n",
              "             param_grid=[{'model__C': [1.0, 0.1, 0.01],\n",
              "                          'model__epsilon': [1.0, 0.1, 0.01],\n",
              "                          'model__gamma': ['scale', 'auto']}],\n",
              "             pre_dispatch='2*n_jobs', refit=True, return_train_score=False,\n",
              "             scoring=None, verbose=True)"
            ]
          },
          "metadata": {
            "tags": []
          },
          "execution_count": 49
        }
      ]
    },
    {
      "cell_type": "code",
      "metadata": {
        "colab": {
          "base_uri": "https://localhost:8080/"
        },
        "id": "jW01SHsTlEh_",
        "outputId": "12fa30c2-eaab-4c4a-d2d6-d101f099c99e"
      },
      "source": [
        "gs.best_estimator_"
      ],
      "execution_count": null,
      "outputs": [
        {
          "output_type": "execute_result",
          "data": {
            "text/plain": [
              "Pipeline(memory=None,\n",
              "         steps=[('scaler',\n",
              "                 StandardScaler(copy=True, with_mean=True, with_std=True)),\n",
              "                ('model',\n",
              "                 SVR(C=1.0, cache_size=200, coef0=0.0, degree=3, epsilon=1.0,\n",
              "                     gamma='scale', kernel='linear', max_iter=-1,\n",
              "                     shrinking=True, tol=0.001, verbose=False))],\n",
              "         verbose=False)"
            ]
          },
          "metadata": {
            "tags": []
          },
          "execution_count": 50
        }
      ]
    },
    {
      "cell_type": "markdown",
      "metadata": {
        "id": "MoX4EVSRlOgy"
      },
      "source": [
        "kernel SVR"
      ]
    },
    {
      "cell_type": "code",
      "metadata": {
        "id": "-yYE1zoOlbc6"
      },
      "source": [
        "X, y = load_boston(return_X_y=True)\r\n",
        "X_train, X_test, y_train, y_test = train_test_split(X, y, test_size=0.2)"
      ],
      "execution_count": null,
      "outputs": []
    },
    {
      "cell_type": "code",
      "metadata": {
        "id": "a-TpgUFGlbdK"
      },
      "source": [
        "scaler = StandardScaler()\r\n",
        "scaler.fit(X_train)\r\n",
        "X_train = scaler.transform(X_train)\r\n",
        "X_test = scaler.transform(X_test)"
      ],
      "execution_count": null,
      "outputs": []
    },
    {
      "cell_type": "code",
      "metadata": {
        "colab": {
          "base_uri": "https://localhost:8080/"
        },
        "id": "-ut7UGFblbdM",
        "outputId": "a37ddec0-5d55-477a-aaef-8522fcb80010"
      },
      "source": [
        "model = SVR(kernel='rbf')\r\n",
        "model.fit(X_train, y_train)\r\n"
      ],
      "execution_count": null,
      "outputs": [
        {
          "output_type": "execute_result",
          "data": {
            "text/plain": [
              "SVR(C=1.0, cache_size=200, coef0=0.0, degree=3, epsilon=0.1, gamma='scale',\n",
              "    kernel='rbf', max_iter=-1, shrinking=True, tol=0.001, verbose=False)"
            ]
          },
          "metadata": {
            "tags": []
          },
          "execution_count": 55
        }
      ]
    },
    {
      "cell_type": "code",
      "metadata": {
        "colab": {
          "base_uri": "https://localhost:8080/"
        },
        "id": "RwqQJSd5lbdO",
        "outputId": "1e962468-910f-451c-e0be-adbfcc58b9ad"
      },
      "source": [
        "print(\"learning date score:{}\".format(model.score(X_train, y_train)))\r\n",
        "print(\"estiamte date score:{}\".format(model.score(X_test, y_test)))"
      ],
      "execution_count": null,
      "outputs": [
        {
          "output_type": "stream",
          "text": [
            "learning date score:0.6505258728436629\n",
            "estiamte date score:0.664567216455358\n"
          ],
          "name": "stdout"
        }
      ]
    },
    {
      "cell_type": "code",
      "metadata": {
        "colab": {
          "base_uri": "https://localhost:8080/",
          "height": 262
        },
        "id": "o-JR30CVlbdP",
        "outputId": "fab749b4-33cc-42b5-b321-3fc329d825c8"
      },
      "source": [
        "X_comp =TSNE(n_components=1).fit_transform(X)\r\n",
        "plt.scatter(X_comp, y);"
      ],
      "execution_count": null,
      "outputs": [
        {
          "output_type": "display_data",
          "data": {
            "image/png": "[encoded data removed]",
            "text/plain": [
              "<Figure size 432x288 with 1 Axes>"
            ]
          },
          "metadata": {
            "tags": [],
            "needs_background": "light"
          }
        }
      ]
    },
    {
      "cell_type": "code",
      "metadata": {
        "colab": {
          "base_uri": "https://localhost:8080/",
          "height": 281
        },
        "id": "LNtTrjWclbdP",
        "outputId": "97de5f9d-5ab2-4fa3-efc2-54a8722340a8"
      },
      "source": [
        "model.fit(X_comp, y)\r\n",
        "predict = model.predict(X_comp)\r\n",
        "plt.scatter(X_comp, y)\r\n",
        "plt.scatter(X_comp, predict, color='r')"
      ],
      "execution_count": null,
      "outputs": [
        {
          "output_type": "execute_result",
          "data": {
            "text/plain": [
              "<matplotlib.collections.PathCollection at 0x7f65f93e2860>"
            ]
          },
          "metadata": {
            "tags": []
          },
          "execution_count": 58
        },
        {
          "output_type": "display_data",
          "data": {
            "image/png": "[encoded data removed]",
            "text/plain": [
              "<Figure size 432x288 with 1 Axes>"
            ]
          },
          "metadata": {
            "tags": [],
            "needs_background": "light"
          }
        }
      ]
    },
    {
      "cell_type": "markdown",
      "metadata": {
        "id": "N-ZT1STol1p-"
      },
      "source": [
        "it is not linear, so that it shows curved line"
      ]
    },
    {
      "cell_type": "code",
      "metadata": {
        "colab": {
          "base_uri": "https://localhost:8080/"
        },
        "id": "EmdL7rVplbdQ",
        "outputId": "a95d5a37-023e-460d-b359-f757dd0a6151"
      },
      "source": [
        "estimator = make_pipeline(StandardScaler(), SVR(kernel='rbf'))\r\n",
        "\r\n",
        "cross_validate(\r\n",
        "    estimator=estimator,\r\n",
        "    X=X, y=y,\r\n",
        "    cv=5,\r\n",
        "    n_jobs=multiprocessing.cpu_count(),\r\n",
        "    verbose=True\r\n",
        ")"
      ],
      "execution_count": null,
      "outputs": [
        {
          "output_type": "stream",
          "text": [
            "[Parallel(n_jobs=2)]: Using backend LokyBackend with 2 concurrent workers.\n",
            "[Parallel(n_jobs=2)]: Done   5 out of   5 | elapsed:    0.1s finished\n"
          ],
          "name": "stderr"
        },
        {
          "output_type": "execute_result",
          "data": {
            "text/plain": [
              "{'fit_time': array([0.02947426, 0.02530575, 0.02031541, 0.02121186, 0.01621628]),\n",
              " 'score_time': array([0.00370693, 0.00427055, 0.0035038 , 0.00361323, 0.00230885]),\n",
              " 'test_score': array([ 0.75781445,  0.50211018,  0.04310107,  0.33851703, -0.75997942])}"
            ]
          },
          "metadata": {
            "tags": []
          },
          "execution_count": 59
        }
      ]
    },
    {
      "cell_type": "code",
      "metadata": {
        "colab": {
          "base_uri": "https://localhost:8080/"
        },
        "id": "XxRHHP6llbdQ",
        "outputId": "53f30215-9f61-4163-e31a-dce0e913b60f"
      },
      "source": [
        "pipe = Pipeline([('scaler', StandardScaler()),\r\n",
        "                 ('model', SVR(kernel='rbf'))])\r\n",
        "\r\n",
        "param_grid = [{'model__kernel': ['rbf','polynomial','sigmoid']}]\r\n",
        "\r\n",
        "gs = GridSearchCV(\r\n",
        "    estimator=pipe,\r\n",
        "    param_grid=param_grid,\r\n",
        "    n_jobs=multiprocessing.cpu_count(),\r\n",
        "    cv=5,\r\n",
        "    verbose=True\r\n",
        ")\r\n",
        "\r\n",
        "gs.fit(X, y)"
      ],
      "execution_count": null,
      "outputs": [
        {
          "output_type": "stream",
          "text": [
            "Fitting 5 folds for each of 3 candidates, totalling 15 fits\n"
          ],
          "name": "stdout"
        },
        {
          "output_type": "stream",
          "text": [
            "[Parallel(n_jobs=2)]: Using backend LokyBackend with 2 concurrent workers.\n",
            "[Parallel(n_jobs=2)]: Done  15 out of  15 | elapsed:    0.2s finished\n"
          ],
          "name": "stderr"
        },
        {
          "output_type": "execute_result",
          "data": {
            "text/plain": [
              "GridSearchCV(cv=5, error_score=nan,\n",
              "             estimator=Pipeline(memory=None,\n",
              "                                steps=[('scaler',\n",
              "                                        StandardScaler(copy=True,\n",
              "                                                       with_mean=True,\n",
              "                                                       with_std=True)),\n",
              "                                       ('model',\n",
              "                                        SVR(C=1.0, cache_size=200, coef0=0.0,\n",
              "                                            degree=3, epsilon=0.1,\n",
              "                                            gamma='scale', kernel='rbf',\n",
              "                                            max_iter=-1, shrinking=True,\n",
              "                                            tol=0.001, verbose=False))],\n",
              "                                verbose=False),\n",
              "             iid='deprecated', n_jobs=2,\n",
              "             param_grid=[{'model__kernel': ['rbf', 'polynomial', 'sigmoid']}],\n",
              "             pre_dispatch='2*n_jobs', refit=True, return_train_score=False,\n",
              "             scoring=None, verbose=True)"
            ]
          },
          "metadata": {
            "tags": []
          },
          "execution_count": 61
        }
      ]
    },
    {
      "cell_type": "code",
      "metadata": {
        "colab": {
          "base_uri": "https://localhost:8080/"
        },
        "id": "i3HUBrZtlJlK",
        "outputId": "95bb9924-0cae-482e-a57d-2c6611039281"
      },
      "source": [
        "gs.best_estimator_"
      ],
      "execution_count": null,
      "outputs": [
        {
          "output_type": "execute_result",
          "data": {
            "text/plain": [
              "Pipeline(memory=None,\n",
              "         steps=[('scaler',\n",
              "                 StandardScaler(copy=True, with_mean=True, with_std=True)),\n",
              "                ('model',\n",
              "                 SVR(C=1.0, cache_size=200, coef0=0.0, degree=3, epsilon=0.1,\n",
              "                     gamma='scale', kernel='rbf', max_iter=-1, shrinking=True,\n",
              "                     tol=0.001, verbose=False))],\n",
              "         verbose=False)"
            ]
          },
          "metadata": {
            "tags": []
          },
          "execution_count": 62
        }
      ]
    },
    {
      "cell_type": "code",
      "metadata": {
        "colab": {
          "base_uri": "https://localhost:8080/"
        },
        "id": "xvgjyR3IlJwZ",
        "outputId": "31bd620f-b713-4d3c-ce90-78dd6eb85b64"
      },
      "source": [
        "pipe = Pipeline([('scaler', StandardScaler()),\r\n",
        "                 ('model', SVR(kernel='rbf'))])\r\n",
        "\r\n",
        "param_grid = [{'model__gamma': ['scale','auto'],\r\n",
        "               'model__C':[1.0, 0.1, 0.01],\r\n",
        "               'model__epsilon':[1.0, 0.1, 0.01]}]\r\n",
        "\r\n",
        "gs = GridSearchCV(\r\n",
        "    estimator=pipe,\r\n",
        "    param_grid=param_grid,\r\n",
        "    n_jobs=multiprocessing.cpu_count(),\r\n",
        "    cv=5,\r\n",
        "    verbose=True\r\n",
        ")\r\n",
        "\r\n",
        "gs.fit(X, y)"
      ],
      "execution_count": null,
      "outputs": [
        {
          "output_type": "stream",
          "text": [
            "Fitting 5 folds for each of 18 candidates, totalling 90 fits\n"
          ],
          "name": "stdout"
        },
        {
          "output_type": "stream",
          "text": [
            "[Parallel(n_jobs=2)]: Using backend LokyBackend with 2 concurrent workers.\n",
            "[Parallel(n_jobs=2)]: Done  90 out of  90 | elapsed:    1.1s finished\n"
          ],
          "name": "stderr"
        },
        {
          "output_type": "execute_result",
          "data": {
            "text/plain": [
              "GridSearchCV(cv=5, error_score=nan,\n",
              "             estimator=Pipeline(memory=None,\n",
              "                                steps=[('scaler',\n",
              "                                        StandardScaler(copy=True,\n",
              "                                                       with_mean=True,\n",
              "                                                       with_std=True)),\n",
              "                                       ('model',\n",
              "                                        SVR(C=1.0, cache_size=200, coef0=0.0,\n",
              "                                            degree=3, epsilon=0.1,\n",
              "                                            gamma='scale', kernel='rbf',\n",
              "                                            max_iter=-1, shrinking=True,\n",
              "                                            tol=0.001, verbose=False))],\n",
              "                                verbose=False),\n",
              "             iid='deprecated', n_jobs=2,\n",
              "             param_grid=[{'model__C': [1.0, 0.1, 0.01],\n",
              "                          'model__epsilon': [1.0, 0.1, 0.01],\n",
              "                          'model__gamma': ['scale', 'auto']}],\n",
              "             pre_dispatch='2*n_jobs', refit=True, return_train_score=False,\n",
              "             scoring=None, verbose=True)"
            ]
          },
          "metadata": {
            "tags": []
          },
          "execution_count": 63
        }
      ]
    },
    {
      "cell_type": "code",
      "metadata": {
        "colab": {
          "base_uri": "https://localhost:8080/"
        },
        "id": "ycQNNCuylJ7b",
        "outputId": "2f5dcc94-3410-4c80-e71c-7d882614dc7c"
      },
      "source": [
        "gs.best_estimator_"
      ],
      "execution_count": null,
      "outputs": [
        {
          "output_type": "execute_result",
          "data": {
            "text/plain": [
              "Pipeline(memory=None,\n",
              "         steps=[('scaler',\n",
              "                 StandardScaler(copy=True, with_mean=True, with_std=True)),\n",
              "                ('model',\n",
              "                 SVR(C=1.0, cache_size=200, coef0=0.0, degree=3, epsilon=0.01,\n",
              "                     gamma='scale', kernel='rbf', max_iter=-1, shrinking=True,\n",
              "                     tol=0.001, verbose=False))],\n",
              "         verbose=False)"
            ]
          },
          "metadata": {
            "tags": []
          },
          "execution_count": 64
        }
      ]
    },
    {
      "cell_type": "markdown",
      "metadata": {
        "id": "8BukX4TKnDeN"
      },
      "source": [
        "diabetes"
      ]
    },
    {
      "cell_type": "code",
      "metadata": {
        "id": "lBWtsXJpnM5c"
      },
      "source": [
        "X, y = load_diabetes(return_X_y=True)\r\n",
        "X_train, X_test, y_train, y_test = train_test_split(X, y, test_size=0.2)"
      ],
      "execution_count": null,
      "outputs": []
    },
    {
      "cell_type": "code",
      "metadata": {
        "id": "OIvZDHG0nM5p"
      },
      "source": [
        "scaler = StandardScaler()\r\n",
        "scaler.fit(X_train)\r\n",
        "X_train = scaler.transform(X_train)\r\n",
        "X_test = scaler.transform(X_test)"
      ],
      "execution_count": null,
      "outputs": []
    },
    {
      "cell_type": "code",
      "metadata": {
        "colab": {
          "base_uri": "https://localhost:8080/"
        },
        "id": "9RqX7LpNnM5p",
        "outputId": "7a4f5a80-a451-4a78-ee45-b430ef4ccf77"
      },
      "source": [
        "model = SVR(kernel='rbf')\r\n",
        "model.fit(X_train, y_train)\r\n"
      ],
      "execution_count": null,
      "outputs": [
        {
          "output_type": "execute_result",
          "data": {
            "text/plain": [
              "SVR(C=1.0, cache_size=200, coef0=0.0, degree=3, epsilon=0.1, gamma='scale',\n",
              "    kernel='rbf', max_iter=-1, shrinking=True, tol=0.001, verbose=False)"
            ]
          },
          "metadata": {
            "tags": []
          },
          "execution_count": 68
        }
      ]
    },
    {
      "cell_type": "code",
      "metadata": {
        "colab": {
          "base_uri": "https://localhost:8080/"
        },
        "id": "43Gyj1penM5q",
        "outputId": "4f8a3302-d7fa-489c-e15d-fbe035c5e95a"
      },
      "source": [
        "print(\"learning date score:{}\".format(model.score(X_train, y_train)))\r\n",
        "print(\"estiamte date score:{}\".format(model.score(X_test, y_test)))"
      ],
      "execution_count": null,
      "outputs": [
        {
          "output_type": "stream",
          "text": [
            "learning date score:0.19333776651949186\n",
            "estiamte date score:0.16638422718690238\n"
          ],
          "name": "stdout"
        }
      ]
    },
    {
      "cell_type": "code",
      "metadata": {
        "colab": {
          "base_uri": "https://localhost:8080/",
          "height": 262
        },
        "id": "oJUmsMopnM5q",
        "outputId": "b95ff8c4-fd0b-4e62-af7a-e2e84df37a14"
      },
      "source": [
        "X_comp =TSNE(n_components=1).fit_transform(X)\r\n",
        "plt.scatter(X_comp, y);"
      ],
      "execution_count": null,
      "outputs": [
        {
          "output_type": "display_data",
          "data": {
            "image/png": "[encoded data removed]",
            "text/plain": [
              "<Figure size 432x288 with 1 Axes>"
            ]
          },
          "metadata": {
            "tags": [],
            "needs_background": "light"
          }
        }
      ]
    },
    {
      "cell_type": "code",
      "metadata": {
        "colab": {
          "base_uri": "https://localhost:8080/",
          "height": 281
        },
        "id": "C_UfWTKsnM5r",
        "outputId": "b8d6d3bc-478b-4402-9a5d-60e91374fbf9"
      },
      "source": [
        "model.fit(X_comp, y)\r\n",
        "predict = model.predict(X_comp)\r\n",
        "plt.scatter(X_comp, y)\r\n",
        "plt.scatter(X_comp, predict, color='r')"
      ],
      "execution_count": null,
      "outputs": [
        {
          "output_type": "execute_result",
          "data": {
            "text/plain": [
              "<matplotlib.collections.PathCollection at 0x7f65f92b3358>"
            ]
          },
          "metadata": {
            "tags": []
          },
          "execution_count": 71
        },
        {
          "output_type": "display_data",
          "data": {
            "image/png": "[encoded data removed]",
            "text/plain": [
              "<Figure size 432x288 with 1 Axes>"
            ]
          },
          "metadata": {
            "tags": [],
            "needs_background": "light"
          }
        }
      ]
    },
    {
      "cell_type": "code",
      "metadata": {
        "colab": {
          "base_uri": "https://localhost:8080/"
        },
        "id": "55EpNiX1nM5s",
        "outputId": "c72c658c-478c-4f2d-bf0d-cbd135191a0d"
      },
      "source": [
        "estimator = make_pipeline(StandardScaler(), SVR(kernel='rbf'))\r\n",
        "\r\n",
        "cross_validate(\r\n",
        "    estimator=estimator,\r\n",
        "    X=X, y=y,\r\n",
        "    cv=5,\r\n",
        "    n_jobs=multiprocessing.cpu_count(),\r\n",
        "    verbose=True\r\n",
        ")"
      ],
      "execution_count": null,
      "outputs": [
        {
          "output_type": "stream",
          "text": [
            "[Parallel(n_jobs=2)]: Using backend LokyBackend with 2 concurrent workers.\n",
            "[Parallel(n_jobs=2)]: Done   5 out of   5 | elapsed:    0.1s finished\n"
          ],
          "name": "stderr"
        },
        {
          "output_type": "execute_result",
          "data": {
            "text/plain": [
              "{'fit_time': array([0.01919079, 0.02054739, 0.01379681, 0.01409006, 0.01239228]),\n",
              " 'score_time': array([0.00286674, 0.0028019 , 0.00269294, 0.0029099 , 0.00183892]),\n",
              " 'test_score': array([0.14580789, 0.12539919, 0.18163816, 0.12223073, 0.15792085])}"
            ]
          },
          "metadata": {
            "tags": []
          },
          "execution_count": 72
        }
      ]
    },
    {
      "cell_type": "code",
      "metadata": {
        "colab": {
          "base_uri": "https://localhost:8080/"
        },
        "id": "AxpQXuTMnM5s",
        "outputId": "70fb435d-d3d7-4133-df6b-f0473563aec5"
      },
      "source": [
        "pipe = Pipeline([('scaler', StandardScaler()),\r\n",
        "                 ('model', SVR(kernel='sigmoid'))])\r\n",
        "\r\n",
        "param_grid = [{'model__kernel': ['rbf','polynomial','sigmoid']}]\r\n",
        "\r\n",
        "gs = GridSearchCV(\r\n",
        "    estimator=pipe,\r\n",
        "    param_grid=param_grid,\r\n",
        "    n_jobs=multiprocessing.cpu_count(),\r\n",
        "    cv=5,\r\n",
        "    verbose=True\r\n",
        ")\r\n",
        "\r\n",
        "gs.fit(X, y)"
      ],
      "execution_count": null,
      "outputs": [
        {
          "output_type": "stream",
          "text": [
            "Fitting 5 folds for each of 3 candidates, totalling 15 fits\n"
          ],
          "name": "stdout"
        },
        {
          "output_type": "stream",
          "text": [
            "[Parallel(n_jobs=2)]: Using backend LokyBackend with 2 concurrent workers.\n",
            "[Parallel(n_jobs=2)]: Done  12 out of  15 | elapsed:    0.1s remaining:    0.0s\n",
            "[Parallel(n_jobs=2)]: Done  15 out of  15 | elapsed:    0.1s finished\n"
          ],
          "name": "stderr"
        },
        {
          "output_type": "execute_result",
          "data": {
            "text/plain": [
              "GridSearchCV(cv=5, error_score=nan,\n",
              "             estimator=Pipeline(memory=None,\n",
              "                                steps=[('scaler',\n",
              "                                        StandardScaler(copy=True,\n",
              "                                                       with_mean=True,\n",
              "                                                       with_std=True)),\n",
              "                                       ('model',\n",
              "                                        SVR(C=1.0, cache_size=200, coef0=0.0,\n",
              "                                            degree=3, epsilon=0.1,\n",
              "                                            gamma='scale', kernel='sigmoid',\n",
              "                                            max_iter=-1, shrinking=True,\n",
              "                                            tol=0.001, verbose=False))],\n",
              "                                verbose=False),\n",
              "             iid='deprecated', n_jobs=2,\n",
              "             param_grid=[{'model__kernel': ['rbf', 'polynomial', 'sigmoid']}],\n",
              "             pre_dispatch='2*n_jobs', refit=True, return_train_score=False,\n",
              "             scoring=None, verbose=True)"
            ]
          },
          "metadata": {
            "tags": []
          },
          "execution_count": 75
        }
      ]
    },
    {
      "cell_type": "code",
      "metadata": {
        "colab": {
          "base_uri": "https://localhost:8080/"
        },
        "id": "yWuhwyZQnM5t",
        "outputId": "2e54a024-ee8f-4334-bcaa-cf9f99435974"
      },
      "source": [
        "gs.best_estimator_"
      ],
      "execution_count": null,
      "outputs": [
        {
          "output_type": "execute_result",
          "data": {
            "text/plain": [
              "Pipeline(memory=None,\n",
              "         steps=[('scaler',\n",
              "                 StandardScaler(copy=True, with_mean=True, with_std=True)),\n",
              "                ('model',\n",
              "                 SVR(C=1.0, cache_size=200, coef0=0.0, degree=3, epsilon=0.1,\n",
              "                     gamma='scale', kernel='sigmoid', max_iter=-1,\n",
              "                     shrinking=True, tol=0.001, verbose=False))],\n",
              "         verbose=False)"
            ]
          },
          "metadata": {
            "tags": []
          },
          "execution_count": 76
        }
      ]
    },
    {
      "cell_type": "code",
      "metadata": {
        "colab": {
          "base_uri": "https://localhost:8080/"
        },
        "id": "c3GdHFSLlL2F",
        "outputId": "e7cdbc2f-da05-45ad-da84-4f4e0b2b59a5"
      },
      "source": [
        "model =gs.best_estimator_\r\n",
        "model.fit(X_train, y_train)"
      ],
      "execution_count": null,
      "outputs": [
        {
          "output_type": "execute_result",
          "data": {
            "text/plain": [
              "Pipeline(memory=None,\n",
              "         steps=[('scaler',\n",
              "                 StandardScaler(copy=True, with_mean=True, with_std=True)),\n",
              "                ('model',\n",
              "                 SVR(C=1.0, cache_size=200, coef0=0.0, degree=3, epsilon=0.1,\n",
              "                     gamma='scale', kernel='sigmoid', max_iter=-1,\n",
              "                     shrinking=True, tol=0.001, verbose=False))],\n",
              "         verbose=False)"
            ]
          },
          "metadata": {
            "tags": []
          },
          "execution_count": 77
        }
      ]
    },
    {
      "cell_type": "code",
      "metadata": {
        "colab": {
          "base_uri": "https://localhost:8080/"
        },
        "id": "BHDgKh5tlMBK",
        "outputId": "9104d920-bc6f-4f3a-c6e6-e4c3b0b84d21"
      },
      "source": [
        "print(\"learning date score:{}\".format(model.score(X_train, y_train)))\r\n",
        "print(\"estiamte date score:{}\".format(model.score(X_test, y_test)))"
      ],
      "execution_count": null,
      "outputs": [
        {
          "output_type": "stream",
          "text": [
            "learning date score:0.39915313746555425\n",
            "estiamte date score:0.31903673643980024\n"
          ],
          "name": "stdout"
        }
      ]
    },
    {
      "cell_type": "markdown",
      "metadata": {
        "id": "mCKWNzpYoVM6"
      },
      "source": [
        "linear SVC - Breast cancer data"
      ]
    },
    {
      "cell_type": "code",
      "metadata": {
        "id": "-ee9POJYofVx"
      },
      "source": [
        "X, y = load_breast_cancer(return_X_y=True)\r\n",
        "X_train, X_test, y_train, y_test = train_test_split(X, y, test_size=0.2)"
      ],
      "execution_count": null,
      "outputs": []
    },
    {
      "cell_type": "code",
      "metadata": {
        "id": "i8DJMDtbofV7"
      },
      "source": [
        "scaler = StandardScaler()\r\n",
        "scaler.fit(X_train)\r\n",
        "X_train = scaler.transform(X_train)\r\n",
        "X_test = scaler.transform(X_test)"
      ],
      "execution_count": null,
      "outputs": []
    },
    {
      "cell_type": "code",
      "metadata": {
        "colab": {
          "base_uri": "https://localhost:8080/"
        },
        "id": "EDJbjsIfofV7",
        "outputId": "5f1a05fb-3223-4aeb-ab26-15ca790e8dc7"
      },
      "source": [
        "model = SVC(kernel='linear')\r\n",
        "model.fit(X_train, y_train)\r\n"
      ],
      "execution_count": null,
      "outputs": [
        {
          "output_type": "execute_result",
          "data": {
            "text/plain": [
              "SVC(C=1.0, break_ties=False, cache_size=200, class_weight=None, coef0=0.0,\n",
              "    decision_function_shape='ovr', degree=3, gamma='scale', kernel='linear',\n",
              "    max_iter=-1, probability=False, random_state=None, shrinking=True,\n",
              "    tol=0.001, verbose=False)"
            ]
          },
          "metadata": {
            "tags": []
          },
          "execution_count": 81
        }
      ]
    },
    {
      "cell_type": "code",
      "metadata": {
        "colab": {
          "base_uri": "https://localhost:8080/"
        },
        "id": "3cqhkQAsofV8",
        "outputId": "b2c5a2fa-ae1f-46f0-c2a4-3372774713a5"
      },
      "source": [
        "print(\"learning date score:{}\".format(model.score(X_train, y_train)))\r\n",
        "print(\"estiamte date score:{}\".format(model.score(X_test, y_test)))"
      ],
      "execution_count": null,
      "outputs": [
        {
          "output_type": "stream",
          "text": [
            "learning date score:0.989010989010989\n",
            "estiamte date score:0.9824561403508771\n"
          ],
          "name": "stdout"
        }
      ]
    },
    {
      "cell_type": "code",
      "metadata": {
        "id": "1Tg3OejOo7O4"
      },
      "source": [
        "def make_meshgrid(x, y, h=.02):\r\n",
        "  x_min, x_max = x.min()-1, x.max()+1\r\n",
        "  y_min, y_max = y.min()-1, y.max()+1\r\n",
        "  xx, yy =np.meshgrid(np.arange(x_min, x_max, h),\r\n",
        "                      np.arange(y_min, y_max, h))\r\n",
        "  return xx, yy"
      ],
      "execution_count": null,
      "outputs": []
    },
    {
      "cell_type": "code",
      "metadata": {
        "id": "3ezonsJ2o1KJ"
      },
      "source": [
        "def plot_contours(clf, xx, yy, **params):\r\n",
        "  Z= clf.predict(np.c_[xx.ravel(), yy.ravel()])\r\n",
        "  Z= Z.reshape(xx.shape)\r\n",
        "  out = plt.contourf(xx, yy, Z, **params)\r\n",
        "\r\n",
        "  return out"
      ],
      "execution_count": null,
      "outputs": []
    },
    {
      "cell_type": "code",
      "metadata": {
        "id": "cxiEtRgWqJeE"
      },
      "source": [
        "X_comp =TSNE(n_components=2).fit_transform(X)\r\n",
        "X0, X1 = X_comp[:, 0], X_comp[:,1]\r\n",
        "xx, yy = make_meshgrid(X0, X1)"
      ],
      "execution_count": null,
      "outputs": []
    },
    {
      "cell_type": "code",
      "metadata": {
        "colab": {
          "base_uri": "https://localhost:8080/",
          "height": 262
        },
        "id": "6BKw7dHRofV8",
        "outputId": "cabef92d-26ab-4364-89ad-6fdbefcaa5ee"
      },
      "source": [
        "model.fit(X_comp, y)\r\n",
        "plot_contours(model, xx, yy, cmap=plt.cm.coolwarm, alpha=0.7)\r\n",
        "plt.scatter(X0, X1, c=y, cmap=plt.cm.coolwarm, s=20, edgecolors='k');"
      ],
      "execution_count": null,
      "outputs": [
        {
          "output_type": "display_data",
          "data": {
            "image/png": "[encoded data removed]",
            "text/plain": [
              "<Figure size 432x288 with 1 Axes>"
            ]
          },
          "metadata": {
            "tags": [],
            "needs_background": "light"
          }
        }
      ]
    },
    {
      "cell_type": "code",
      "metadata": {
        "colab": {
          "base_uri": "https://localhost:8080/"
        },
        "id": "oldY7v1TofV9",
        "outputId": "50bd5f48-7fda-4f11-98e1-6d86f2d3af5a"
      },
      "source": [
        "estimator = make_pipeline(StandardScaler(), SVC(kernel='linear'))\r\n",
        "\r\n",
        "cross_validate(\r\n",
        "    estimator=estimator,\r\n",
        "    X=X, y=y,\r\n",
        "    cv=5,\r\n",
        "    n_jobs=multiprocessing.cpu_count(),\r\n",
        "    verbose=True\r\n",
        ")"
      ],
      "execution_count": null,
      "outputs": [
        {
          "output_type": "stream",
          "text": [
            "[Parallel(n_jobs=2)]: Using backend LokyBackend with 2 concurrent workers.\n",
            "[Parallel(n_jobs=2)]: Done   5 out of   5 | elapsed:    0.0s finished\n"
          ],
          "name": "stderr"
        },
        {
          "output_type": "execute_result",
          "data": {
            "text/plain": [
              "{'fit_time': array([0.01165485, 0.00627995, 0.00696611, 0.00578618, 0.00479817]),\n",
              " 'score_time': array([0.00105572, 0.00096369, 0.00103593, 0.00078273, 0.00061083]),\n",
              " 'test_score': array([0.96491228, 0.98245614, 0.96491228, 0.96491228, 0.98230088])}"
            ]
          },
          "metadata": {
            "tags": []
          },
          "execution_count": 90
        }
      ]
    },
    {
      "cell_type": "code",
      "metadata": {
        "colab": {
          "base_uri": "https://localhost:8080/"
        },
        "id": "g0KTOhpxofV-",
        "outputId": "d9824cba-3bf9-4ea7-b9ae-0e29c35262dd"
      },
      "source": [
        "pipe = Pipeline([('scaler', StandardScaler()),\r\n",
        "                 ('model', SVC(kernel='linear'))])\r\n",
        "\r\n",
        "param_grid = [{'model__gamma': ['scale','auto'],\r\n",
        "               'model__C': [1.0, 0.1, 0.01]}]\r\n",
        "\r\n",
        "gs = GridSearchCV(\r\n",
        "    estimator=pipe,\r\n",
        "    param_grid=param_grid,\r\n",
        "    n_jobs=multiprocessing.cpu_count(),\r\n",
        "    cv=5,\r\n",
        "    verbose=True\r\n",
        ")\r\n",
        "\r\n",
        "gs.fit(X, y)"
      ],
      "execution_count": null,
      "outputs": [
        {
          "output_type": "stream",
          "text": [
            "Fitting 5 folds for each of 6 candidates, totalling 30 fits\n"
          ],
          "name": "stdout"
        },
        {
          "output_type": "stream",
          "text": [
            "[Parallel(n_jobs=2)]: Using backend LokyBackend with 2 concurrent workers.\n",
            "[Parallel(n_jobs=2)]: Done  30 out of  30 | elapsed:    0.2s finished\n"
          ],
          "name": "stderr"
        },
        {
          "output_type": "execute_result",
          "data": {
            "text/plain": [
              "GridSearchCV(cv=5, error_score=nan,\n",
              "             estimator=Pipeline(memory=None,\n",
              "                                steps=[('scaler',\n",
              "                                        StandardScaler(copy=True,\n",
              "                                                       with_mean=True,\n",
              "                                                       with_std=True)),\n",
              "                                       ('model',\n",
              "                                        SVC(C=1.0, break_ties=False,\n",
              "                                            cache_size=200, class_weight=None,\n",
              "                                            coef0=0.0,\n",
              "                                            decision_function_shape='ovr',\n",
              "                                            degree=3, gamma='scale',\n",
              "                                            kernel='linear', max_iter=-1,\n",
              "                                            probability=False,\n",
              "                                            random_state=None, shrinking=True,\n",
              "                                            tol=0.001, verbose=False))],\n",
              "                                verbose=False),\n",
              "             iid='deprecated', n_jobs=2,\n",
              "             param_grid=[{'model__C': [1.0, 0.1, 0.01],\n",
              "                          'model__gamma': ['scale', 'auto']}],\n",
              "             pre_dispatch='2*n_jobs', refit=True, return_train_score=False,\n",
              "             scoring=None, verbose=True)"
            ]
          },
          "metadata": {
            "tags": []
          },
          "execution_count": 91
        }
      ]
    },
    {
      "cell_type": "code",
      "metadata": {
        "colab": {
          "base_uri": "https://localhost:8080/"
        },
        "id": "8unKxdt7ofV-",
        "outputId": "db1fa2cd-f813-4c24-c50a-5a7aa718a8f1"
      },
      "source": [
        "gs.best_estimator_"
      ],
      "execution_count": null,
      "outputs": [
        {
          "output_type": "execute_result",
          "data": {
            "text/plain": [
              "Pipeline(memory=None,\n",
              "         steps=[('scaler',\n",
              "                 StandardScaler(copy=True, with_mean=True, with_std=True)),\n",
              "                ('model',\n",
              "                 SVC(C=0.1, break_ties=False, cache_size=200, class_weight=None,\n",
              "                     coef0=0.0, decision_function_shape='ovr', degree=3,\n",
              "                     gamma='scale', kernel='linear', max_iter=-1,\n",
              "                     probability=False, random_state=None, shrinking=True,\n",
              "                     tol=0.001, verbose=False))],\n",
              "         verbose=False)"
            ]
          },
          "metadata": {
            "tags": []
          },
          "execution_count": 92
        }
      ]
    },
    {
      "cell_type": "markdown",
      "metadata": {
        "id": "C1HLu1B5rS2l"
      },
      "source": [
        "IRIS DATA"
      ]
    },
    {
      "cell_type": "code",
      "metadata": {
        "id": "OepJ1vAYraq2"
      },
      "source": [
        "X, y = load_iris(return_X_y=True)\r\n",
        "X_train, X_test, y_train, y_test = train_test_split(X, y, test_size=0.2)"
      ],
      "execution_count": null,
      "outputs": []
    },
    {
      "cell_type": "code",
      "metadata": {
        "id": "tUDKMoT8rarA"
      },
      "source": [
        "scaler = StandardScaler()\r\n",
        "scaler.fit(X_train)\r\n",
        "X_train = scaler.transform(X_train)\r\n",
        "X_test = scaler.transform(X_test)"
      ],
      "execution_count": null,
      "outputs": []
    },
    {
      "cell_type": "code",
      "metadata": {
        "colab": {
          "base_uri": "https://localhost:8080/"
        },
        "id": "gpyfXhZXrarB",
        "outputId": "0010f430-e27a-445a-96cb-2866be6b65eb"
      },
      "source": [
        "model = SVC(kernel='linear')\r\n",
        "model.fit(X_train, y_train)\r\n"
      ],
      "execution_count": null,
      "outputs": [
        {
          "output_type": "execute_result",
          "data": {
            "text/plain": [
              "SVC(C=1.0, break_ties=False, cache_size=200, class_weight=None, coef0=0.0,\n",
              "    decision_function_shape='ovr', degree=3, gamma='scale', kernel='linear',\n",
              "    max_iter=-1, probability=False, random_state=None, shrinking=True,\n",
              "    tol=0.001, verbose=False)"
            ]
          },
          "metadata": {
            "tags": []
          },
          "execution_count": 96
        }
      ]
    },
    {
      "cell_type": "code",
      "metadata": {
        "colab": {
          "base_uri": "https://localhost:8080/"
        },
        "id": "sBUNb0JGrarC",
        "outputId": "27d47952-8e5a-479d-f6e7-3dcb0b8e216d"
      },
      "source": [
        "print(\"learning date score:{}\".format(model.score(X_train, y_train)))\r\n",
        "print(\"estiamte date score:{}\".format(model.score(X_test, y_test)))"
      ],
      "execution_count": null,
      "outputs": [
        {
          "output_type": "stream",
          "text": [
            "learning date score:0.9666666666666667\n",
            "estiamte date score:1.0\n"
          ],
          "name": "stdout"
        }
      ]
    },
    {
      "cell_type": "code",
      "metadata": {
        "id": "9IUvQey-rarC"
      },
      "source": [
        "X_comp =TSNE(n_components=2).fit_transform(X)\r\n",
        "X0, X1 = X_comp[:, 0], X_comp[:,1]\r\n",
        "xx, yy = make_meshgrid(X0, X1)"
      ],
      "execution_count": null,
      "outputs": []
    },
    {
      "cell_type": "code",
      "metadata": {
        "colab": {
          "base_uri": "https://localhost:8080/",
          "height": 262
        },
        "id": "YSDLgNkSrarD",
        "outputId": "3ea796b4-cefc-42c8-a358-596f8b1aef6b"
      },
      "source": [
        "model.fit(X_comp, y)\r\n",
        "plot_contours(model, xx, yy, cmap=plt.cm.coolwarm, alpha=0.7)\r\n",
        "plt.scatter(X0, X1, c=y, cmap=plt.cm.coolwarm, s=20, edgecolors='k');"
      ],
      "execution_count": null,
      "outputs": [
        {
          "output_type": "display_data",
          "data": {
            "image/png": "[encoded data removed]",
            "text/plain": [
              "<Figure size 432x288 with 1 Axes>"
            ]
          },
          "metadata": {
            "tags": [],
            "needs_background": "light"
          }
        }
      ]
    },
    {
      "cell_type": "code",
      "metadata": {
        "colab": {
          "base_uri": "https://localhost:8080/"
        },
        "id": "nK7JDtVYrarD",
        "outputId": "9b051d9c-360a-48c0-f19c-5e7d19e1586c"
      },
      "source": [
        "estimator = make_pipeline(StandardScaler(), SVC(kernel='linear'))\r\n",
        "\r\n",
        "cross_validate(\r\n",
        "    estimator=estimator,\r\n",
        "    X=X, y=y,\r\n",
        "    cv=5,\r\n",
        "    n_jobs=multiprocessing.cpu_count(),\r\n",
        "    verbose=True\r\n",
        ")"
      ],
      "execution_count": null,
      "outputs": [
        {
          "output_type": "stream",
          "text": [
            "[Parallel(n_jobs=2)]: Using backend LokyBackend with 2 concurrent workers.\n",
            "[Parallel(n_jobs=2)]: Done   5 out of   5 | elapsed:    0.0s finished\n"
          ],
          "name": "stderr"
        },
        {
          "output_type": "execute_result",
          "data": {
            "text/plain": [
              "{'fit_time': array([0.00227785, 0.00216985, 0.00262809, 0.00185776, 0.00115991]),\n",
              " 'score_time': array([0.00068855, 0.00063372, 0.00058055, 0.0006094 , 0.00042772]),\n",
              " 'test_score': array([0.96666667, 1.        , 0.93333333, 0.93333333, 1.        ])}"
            ]
          },
          "metadata": {
            "tags": []
          },
          "execution_count": 101
        }
      ]
    },
    {
      "cell_type": "code",
      "metadata": {
        "colab": {
          "base_uri": "https://localhost:8080/"
        },
        "id": "tztp7R2LrarD",
        "outputId": "2760e515-7cbc-4050-8a2e-826e34bcf638"
      },
      "source": [
        "pipe = Pipeline([('scaler', StandardScaler()),\r\n",
        "                 ('model', SVC(kernel='linear'))])\r\n",
        "\r\n",
        "param_grid = [{'model__gamma': ['scale','auto'],\r\n",
        "               'model__C': [1.0, 0.1, 0.01]}]\r\n",
        "\r\n",
        "gs = GridSearchCV(\r\n",
        "    estimator=pipe,\r\n",
        "    param_grid=param_grid,\r\n",
        "    n_jobs=multiprocessing.cpu_count(),\r\n",
        "    cv=5,\r\n",
        "    verbose=True\r\n",
        ")\r\n",
        "\r\n",
        "gs.fit(X, y)"
      ],
      "execution_count": null,
      "outputs": [
        {
          "output_type": "stream",
          "text": [
            "Fitting 5 folds for each of 6 candidates, totalling 30 fits\n"
          ],
          "name": "stdout"
        },
        {
          "output_type": "stream",
          "text": [
            "[Parallel(n_jobs=2)]: Using backend LokyBackend with 2 concurrent workers.\n",
            "[Parallel(n_jobs=2)]: Done  30 out of  30 | elapsed:    0.1s finished\n"
          ],
          "name": "stderr"
        },
        {
          "output_type": "execute_result",
          "data": {
            "text/plain": [
              "GridSearchCV(cv=5, error_score=nan,\n",
              "             estimator=Pipeline(memory=None,\n",
              "                                steps=[('scaler',\n",
              "                                        StandardScaler(copy=True,\n",
              "                                                       with_mean=True,\n",
              "                                                       with_std=True)),\n",
              "                                       ('model',\n",
              "                                        SVC(C=1.0, break_ties=False,\n",
              "                                            cache_size=200, class_weight=None,\n",
              "                                            coef0=0.0,\n",
              "                                            decision_function_shape='ovr',\n",
              "                                            degree=3, gamma='scale',\n",
              "                                            kernel='linear', max_iter=-1,\n",
              "                                            probability=False,\n",
              "                                            random_state=None, shrinking=True,\n",
              "                                            tol=0.001, verbose=False))],\n",
              "                                verbose=False),\n",
              "             iid='deprecated', n_jobs=2,\n",
              "             param_grid=[{'model__C': [1.0, 0.1, 0.01],\n",
              "                          'model__gamma': ['scale', 'auto']}],\n",
              "             pre_dispatch='2*n_jobs', refit=True, return_train_score=False,\n",
              "             scoring=None, verbose=True)"
            ]
          },
          "metadata": {
            "tags": []
          },
          "execution_count": 102
        }
      ]
    },
    {
      "cell_type": "code",
      "metadata": {
        "colab": {
          "base_uri": "https://localhost:8080/"
        },
        "id": "61hIDJ5ErarD",
        "outputId": "8298e3a9-782c-4261-af88-0f1370d94ec0"
      },
      "source": [
        "gs.best_estimator_"
      ],
      "execution_count": null,
      "outputs": [
        {
          "output_type": "execute_result",
          "data": {
            "text/plain": [
              "Pipeline(memory=None,\n",
              "         steps=[('scaler',\n",
              "                 StandardScaler(copy=True, with_mean=True, with_std=True)),\n",
              "                ('model',\n",
              "                 SVC(C=1.0, break_ties=False, cache_size=200, class_weight=None,\n",
              "                     coef0=0.0, decision_function_shape='ovr', degree=3,\n",
              "                     gamma='scale', kernel='linear', max_iter=-1,\n",
              "                     probability=False, random_state=None, shrinking=True,\n",
              "                     tol=0.001, verbose=False))],\n",
              "         verbose=False)"
            ]
          },
          "metadata": {
            "tags": []
          },
          "execution_count": 103
        }
      ]
    }
  ]
}