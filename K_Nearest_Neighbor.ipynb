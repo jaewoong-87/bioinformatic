{
  "nbformat": 4,
  "nbformat_minor": 0,
  "metadata": {
    "colab": {
      "name": "K-Nearest Neighbor.ipynb",
      "provenance": [],
      "collapsed_sections": [],
      "authorship_tag": "ABX9TyO71Kn5gVsSszzBL995e/iS",
      "include_colab_link": true
    },
    "kernelspec": {
      "name": "python3",
      "display_name": "Python 3"
    }
  },
  "cells": [
    {
      "cell_type": "markdown",
      "metadata": {
        "id": "view-in-github",
        "colab_type": "text"
      },
      "source": [
        "<a href=\"https://colab.research.google.com/github/jaewoong-87/machine-learning/blob/main/K_Nearest_Neighbor.ipynb\" target=\"_parent\"><img src=\"https://colab.research.google.com/assets/colab-badge.svg\" alt=\"Open In Colab\"/></a>"
      ]
    },
    {
      "cell_type": "markdown",
      "metadata": {
        "id": "PU_rrT264fJp"
      },
      "source": [
        "KNN - non parametic model"
      ]
    },
    {
      "cell_type": "code",
      "metadata": {
        "id": "GxarDgtt3Rgv"
      },
      "source": [
        "import pandas as pd\r\n",
        "import numpy as np\r\n",
        "import multiprocessing\r\n",
        "import matplotlib.pyplot as plt\r\n",
        "plt.style.use(['seaborn-whitegrid'])"
      ],
      "execution_count": null,
      "outputs": []
    },
    {
      "cell_type": "code",
      "metadata": {
        "id": "E1dLdYx34rpC"
      },
      "source": [
        "from sklearn.neighbors import KNeighborsClassifier, KNeighborsRegressor\r\n",
        "from sklearn.manifold import TSNE\r\n",
        "from sklearn.datasets import load_iris, load_breast_cancer, load_breast_cancer\r\n",
        "from sklearn.datasets import fetch_california_housing, load_boston\r\n",
        "from sklearn.model_selection import train_test_split, cross_validate, GridSearchCV\r\n",
        "from sklearn.preprocessing import StandardScaler\r\n",
        "from sklearn.pipeline import make_pipeline, Pipeline"
      ],
      "execution_count": null,
      "outputs": []
    },
    {
      "cell_type": "markdown",
      "metadata": {
        "id": "Xcuyuf664sGm"
      },
      "source": [
        "knn seperation 이웃 분류"
      ]
    },
    {
      "cell_type": "markdown",
      "metadata": {
        "id": "ep_n-6KZ5s4X"
      },
      "source": [
        "iris data"
      ]
    },
    {
      "cell_type": "code",
      "metadata": {
        "id": "tCtZtX835oUq"
      },
      "source": [
        "iris = load_iris()"
      ],
      "execution_count": null,
      "outputs": []
    },
    {
      "cell_type": "code",
      "metadata": {
        "colab": {
          "base_uri": "https://localhost:8080/",
          "height": 415
        },
        "id": "sJzPuwX_5orM",
        "outputId": "b98b9424-2eb8-48ae-8c76-411e033a3aeb"
      },
      "source": [
        "iris_df =pd.DataFrame(data=iris.data,columns=iris.feature_names)\r\n",
        "iris_df['Target'] = iris.target\r\n",
        "iris_df"
      ],
      "execution_count": null,
      "outputs": [
        {
          "output_type": "execute_result",
          "data": {
            "text/html": [
              "<div>\n",
              "<style scoped>\n",
              "    .dataframe tbody tr th:only-of-type {\n",
              "        vertical-align: middle;\n",
              "    }\n",
              "\n",
              "    .dataframe tbody tr th {\n",
              "        vertical-align: top;\n",
              "    }\n",
              "\n",
              "    .dataframe thead th {\n",
              "        text-align: right;\n",
              "    }\n",
              "</style>\n",
              "<table border=\"1\" class=\"dataframe\">\n",
              "  <thead>\n",
              "    <tr style=\"text-align: right;\">\n",
              "      <th></th>\n",
              "      <th>sepal length (cm)</th>\n",
              "      <th>sepal width (cm)</th>\n",
              "      <th>petal length (cm)</th>\n",
              "      <th>petal width (cm)</th>\n",
              "      <th>Target</th>\n",
              "    </tr>\n",
              "  </thead>\n",
              "  <tbody>\n",
              "    <tr>\n",
              "      <th>0</th>\n",
              "      <td>5.1</td>\n",
              "      <td>3.5</td>\n",
              "      <td>1.4</td>\n",
              "      <td>0.2</td>\n",
              "      <td>0</td>\n",
              "    </tr>\n",
              "    <tr>\n",
              "      <th>1</th>\n",
              "      <td>4.9</td>\n",
              "      <td>3.0</td>\n",
              "      <td>1.4</td>\n",
              "      <td>0.2</td>\n",
              "      <td>0</td>\n",
              "    </tr>\n",
              "    <tr>\n",
              "      <th>2</th>\n",
              "      <td>4.7</td>\n",
              "      <td>3.2</td>\n",
              "      <td>1.3</td>\n",
              "      <td>0.2</td>\n",
              "      <td>0</td>\n",
              "    </tr>\n",
              "    <tr>\n",
              "      <th>3</th>\n",
              "      <td>4.6</td>\n",
              "      <td>3.1</td>\n",
              "      <td>1.5</td>\n",
              "      <td>0.2</td>\n",
              "      <td>0</td>\n",
              "    </tr>\n",
              "    <tr>\n",
              "      <th>4</th>\n",
              "      <td>5.0</td>\n",
              "      <td>3.6</td>\n",
              "      <td>1.4</td>\n",
              "      <td>0.2</td>\n",
              "      <td>0</td>\n",
              "    </tr>\n",
              "    <tr>\n",
              "      <th>...</th>\n",
              "      <td>...</td>\n",
              "      <td>...</td>\n",
              "      <td>...</td>\n",
              "      <td>...</td>\n",
              "      <td>...</td>\n",
              "    </tr>\n",
              "    <tr>\n",
              "      <th>145</th>\n",
              "      <td>6.7</td>\n",
              "      <td>3.0</td>\n",
              "      <td>5.2</td>\n",
              "      <td>2.3</td>\n",
              "      <td>2</td>\n",
              "    </tr>\n",
              "    <tr>\n",
              "      <th>146</th>\n",
              "      <td>6.3</td>\n",
              "      <td>2.5</td>\n",
              "      <td>5.0</td>\n",
              "      <td>1.9</td>\n",
              "      <td>2</td>\n",
              "    </tr>\n",
              "    <tr>\n",
              "      <th>147</th>\n",
              "      <td>6.5</td>\n",
              "      <td>3.0</td>\n",
              "      <td>5.2</td>\n",
              "      <td>2.0</td>\n",
              "      <td>2</td>\n",
              "    </tr>\n",
              "    <tr>\n",
              "      <th>148</th>\n",
              "      <td>6.2</td>\n",
              "      <td>3.4</td>\n",
              "      <td>5.4</td>\n",
              "      <td>2.3</td>\n",
              "      <td>2</td>\n",
              "    </tr>\n",
              "    <tr>\n",
              "      <th>149</th>\n",
              "      <td>5.9</td>\n",
              "      <td>3.0</td>\n",
              "      <td>5.1</td>\n",
              "      <td>1.8</td>\n",
              "      <td>2</td>\n",
              "    </tr>\n",
              "  </tbody>\n",
              "</table>\n",
              "<p>150 rows × 5 columns</p>\n",
              "</div>"
            ],
            "text/plain": [
              "     sepal length (cm)  sepal width (cm)  ...  petal width (cm)  Target\n",
              "0                  5.1               3.5  ...               0.2       0\n",
              "1                  4.9               3.0  ...               0.2       0\n",
              "2                  4.7               3.2  ...               0.2       0\n",
              "3                  4.6               3.1  ...               0.2       0\n",
              "4                  5.0               3.6  ...               0.2       0\n",
              "..                 ...               ...  ...               ...     ...\n",
              "145                6.7               3.0  ...               2.3       2\n",
              "146                6.3               2.5  ...               1.9       2\n",
              "147                6.5               3.0  ...               2.0       2\n",
              "148                6.2               3.4  ...               2.3       2\n",
              "149                5.9               3.0  ...               1.8       2\n",
              "\n",
              "[150 rows x 5 columns]"
            ]
          },
          "metadata": {
            "tags": []
          },
          "execution_count": 24
        }
      ]
    },
    {
      "cell_type": "code",
      "metadata": {
        "id": "KPHyS5M65ozo"
      },
      "source": [
        "X, y = load_iris(return_X_y=True)\r\n",
        "X_train, X_test, y_train, y_test = train_test_split(X, y, test_size=2)"
      ],
      "execution_count": null,
      "outputs": []
    },
    {
      "cell_type": "code",
      "metadata": {
        "id": "zBYkOfwL8JNk"
      },
      "source": [
        "scaler = StandardScaler()\r\n",
        "X_train_scale = scaler.fit_transform(X_train)\r\n",
        "X_test_scale = scaler.transform(X_test)"
      ],
      "execution_count": null,
      "outputs": []
    },
    {
      "cell_type": "code",
      "metadata": {
        "colab": {
          "base_uri": "https://localhost:8080/"
        },
        "id": "zU39OZdS8JW_",
        "outputId": "837864c8-b704-4561-bfec-9acaf31b8b25"
      },
      "source": [
        "model = KNeighborsClassifier()\r\n",
        "model.fit(X_train, y_train)"
      ],
      "execution_count": null,
      "outputs": [
        {
          "output_type": "execute_result",
          "data": {
            "text/plain": [
              "KNeighborsClassifier(algorithm='auto', leaf_size=30, metric='minkowski',\n",
              "                     metric_params=None, n_jobs=None, n_neighbors=5, p=2,\n",
              "                     weights='uniform')"
            ]
          },
          "metadata": {
            "tags": []
          },
          "execution_count": 27
        }
      ]
    },
    {
      "cell_type": "code",
      "metadata": {
        "colab": {
          "base_uri": "https://localhost:8080/"
        },
        "id": "9rTKcaFt8Je9",
        "outputId": "bfd28019-2f24-4b47-ae3e-371f35384a37"
      },
      "source": [
        "print(\"learning data score:{}\".format(model.score(X_train, y_train)))\r\n",
        "print(\"evaluate data score:{}\".format(model.score(X_test, y_test)))"
      ],
      "execution_count": null,
      "outputs": [
        {
          "output_type": "stream",
          "text": [
            "learning data score:0.9662162162162162\n",
            "evaluate data score:1.0\n"
          ],
          "name": "stdout"
        }
      ]
    },
    {
      "cell_type": "code",
      "metadata": {
        "colab": {
          "base_uri": "https://localhost:8080/"
        },
        "id": "EbdLP3fB5pAS",
        "outputId": "18005bf6-972b-4b89-dec2-fc4ef3887f70"
      },
      "source": [
        "model= KNeighborsClassifier()\r\n",
        "model.fit(X_train_scale, y_train)"
      ],
      "execution_count": null,
      "outputs": [
        {
          "output_type": "execute_result",
          "data": {
            "text/plain": [
              "KNeighborsClassifier(algorithm='auto', leaf_size=30, metric='minkowski',\n",
              "                     metric_params=None, n_jobs=None, n_neighbors=5, p=2,\n",
              "                     weights='uniform')"
            ]
          },
          "metadata": {
            "tags": []
          },
          "execution_count": 31
        }
      ]
    },
    {
      "cell_type": "code",
      "metadata": {
        "colab": {
          "base_uri": "https://localhost:8080/"
        },
        "id": "9Rsr4rdi8qTw",
        "outputId": "56459646-7a54-46de-b0d5-ce6973374a38"
      },
      "source": [
        "print(\"learning data score:{}\".format(model.score(X_train, y_train)))\r\n",
        "print(\"evaluate data score:{}\".format(model.score(X_test, y_test)))"
      ],
      "execution_count": null,
      "outputs": [
        {
          "output_type": "stream",
          "text": [
            "learning data score:0.33783783783783783\n",
            "evaluate data score:0.0\n"
          ],
          "name": "stdout"
        }
      ]
    },
    {
      "cell_type": "code",
      "metadata": {
        "colab": {
          "base_uri": "https://localhost:8080/"
        },
        "id": "i5wIOC4W8_rx",
        "outputId": "df212719-9df2-4def-a34e-1b5b19e37d12"
      },
      "source": [
        "cross_validate(\r\n",
        "    estimator=KNeighborsClassifier(),\r\n",
        "    X=X, y=y,\r\n",
        "    cv=5,\r\n",
        "    n_jobs=multiprocessing.cpu_count(),\r\n",
        "    verbose=True\r\n",
        ")"
      ],
      "execution_count": null,
      "outputs": [
        {
          "output_type": "stream",
          "text": [
            "[Parallel(n_jobs=2)]: Using backend LokyBackend with 2 concurrent workers.\n",
            "[Parallel(n_jobs=2)]: Done   5 out of   5 | elapsed:    1.2s finished\n"
          ],
          "name": "stderr"
        },
        {
          "output_type": "execute_result",
          "data": {
            "text/plain": [
              "{'fit_time': array([0.00149155, 0.00094962, 0.00091624, 0.00103736, 0.00075173]),\n",
              " 'score_time': array([0.00424242, 0.00227308, 0.00348926, 0.00291967, 0.00289822]),\n",
              " 'test_score': array([0.96666667, 1.        , 0.93333333, 0.96666667, 1.        ])}"
            ]
          },
          "metadata": {
            "tags": []
          },
          "execution_count": 33
        }
      ]
    },
    {
      "cell_type": "code",
      "metadata": {
        "id": "c7wspywE8_6l"
      },
      "source": [
        "param_grid = [{'n_neighbors':[3,5,7],\r\n",
        "               'weights': ['uniform','distance'],\r\n",
        "               'algorithm':['ball_tree','kd_tree','brute']}]"
      ],
      "execution_count": null,
      "outputs": []
    },
    {
      "cell_type": "code",
      "metadata": {
        "id": "m_JW-OjH8qd5"
      },
      "source": [
        "gs = GridSearchCV(\r\n",
        "    estimator=KNeighborsClassifier(),\r\n",
        "    param_grid=param_grid,\r\n",
        "    n_jobs=multiprocessing.cpu_count(),\r\n",
        "    verbose=True\r\n",
        ")"
      ],
      "execution_count": null,
      "outputs": []
    },
    {
      "cell_type": "code",
      "metadata": {
        "colab": {
          "base_uri": "https://localhost:8080/"
        },
        "id": "tFQajT1H936q",
        "outputId": "568ba2ab-1293-4cd5-bb51-a820da0f4444"
      },
      "source": [
        "gs.fit(X, y)"
      ],
      "execution_count": null,
      "outputs": [
        {
          "output_type": "stream",
          "text": [
            "Fitting 5 folds for each of 18 candidates, totalling 90 fits\n"
          ],
          "name": "stdout"
        },
        {
          "output_type": "stream",
          "text": [
            "[Parallel(n_jobs=2)]: Using backend LokyBackend with 2 concurrent workers.\n",
            "[Parallel(n_jobs=2)]: Done  90 out of  90 | elapsed:    0.3s finished\n"
          ],
          "name": "stderr"
        },
        {
          "output_type": "execute_result",
          "data": {
            "text/plain": [
              "GridSearchCV(cv=None, error_score=nan,\n",
              "             estimator=KNeighborsClassifier(algorithm='auto', leaf_size=30,\n",
              "                                            metric='minkowski',\n",
              "                                            metric_params=None, n_jobs=None,\n",
              "                                            n_neighbors=5, p=2,\n",
              "                                            weights='uniform'),\n",
              "             iid='deprecated', n_jobs=2,\n",
              "             param_grid=[{'algorithm': ['ball_tree', 'kd_tree', 'brute'],\n",
              "                          'n_neighbors': [3, 5, 7],\n",
              "                          'weights': ['uniform', 'distance']}],\n",
              "             pre_dispatch='2*n_jobs', refit=True, return_train_score=False,\n",
              "             scoring=None, verbose=True)"
            ]
          },
          "metadata": {
            "tags": []
          },
          "execution_count": 37
        }
      ]
    },
    {
      "cell_type": "code",
      "metadata": {
        "colab": {
          "base_uri": "https://localhost:8080/"
        },
        "id": "crsxDKi894Pg",
        "outputId": "079bac11-0f67-4701-c162-1dcfc6678d63"
      },
      "source": [
        "gs.best_estimator_"
      ],
      "execution_count": null,
      "outputs": [
        {
          "output_type": "execute_result",
          "data": {
            "text/plain": [
              "KNeighborsClassifier(algorithm='ball_tree', leaf_size=30, metric='minkowski',\n",
              "                     metric_params=None, n_jobs=None, n_neighbors=7, p=2,\n",
              "                     weights='uniform')"
            ]
          },
          "metadata": {
            "tags": []
          },
          "execution_count": 38
        }
      ]
    },
    {
      "cell_type": "code",
      "metadata": {
        "colab": {
          "base_uri": "https://localhost:8080/"
        },
        "id": "0RyyAN0I9927",
        "outputId": "37afbbc7-7f80-4772-b2c8-1f58b69d75d3"
      },
      "source": [
        "print(\"GS best score:{}\".format(gs.best_score_))"
      ],
      "execution_count": null,
      "outputs": [
        {
          "output_type": "stream",
          "text": [
            "GS best score:0.9800000000000001\n"
          ],
          "name": "stdout"
        }
      ]
    },
    {
      "cell_type": "code",
      "metadata": {
        "id": "sSUDqfOG9-Bm"
      },
      "source": [
        "def make_meshgrid(x, y, h=.02):\r\n",
        "  x_min, x_max = x.min()-1, x.max()+1\r\n",
        "  y_min, y_max = y.min()-1, y.max()+1\r\n",
        "  xx, yy = np.meshgrid(np.arange(x_min, x_max, h),\r\n",
        "                       np.arange(y_min, y_max, h))\r\n",
        "  return xx, yy\r\n",
        "\r\n",
        "def plot_contours(clf, xx, yy, **params):\r\n",
        "  Z = clf.predict(np.c_[xx.ravel(), yy.ravel()])\r\n",
        "  Z= Z.reshape(xx.shape)\r\n",
        "  out = plt.contourf(xx,yy, Z, **params)\r\n",
        "  return out"
      ],
      "execution_count": null,
      "outputs": []
    },
    {
      "cell_type": "code",
      "metadata": {
        "id": "IyepiRg_9-Ir"
      },
      "source": [
        "tsne = TSNE(n_components=2)\r\n",
        "X_comp = tsne.fit_transform(X)"
      ],
      "execution_count": null,
      "outputs": []
    },
    {
      "cell_type": "code",
      "metadata": {
        "colab": {
          "base_uri": "https://localhost:8080/",
          "height": 415
        },
        "id": "4AMt24bI-7A_",
        "outputId": "88f583f7-5654-4ed9-f104-b1b57d19dff4"
      },
      "source": [
        "iris_comp_df = pd.DataFrame(data=X_comp)\r\n",
        "iris_comp_df['Target'] = y\r\n",
        "iris_comp_df"
      ],
      "execution_count": null,
      "outputs": [
        {
          "output_type": "execute_result",
          "data": {
            "text/html": [
              "<div>\n",
              "<style scoped>\n",
              "    .dataframe tbody tr th:only-of-type {\n",
              "        vertical-align: middle;\n",
              "    }\n",
              "\n",
              "    .dataframe tbody tr th {\n",
              "        vertical-align: top;\n",
              "    }\n",
              "\n",
              "    .dataframe thead th {\n",
              "        text-align: right;\n",
              "    }\n",
              "</style>\n",
              "<table border=\"1\" class=\"dataframe\">\n",
              "  <thead>\n",
              "    <tr style=\"text-align: right;\">\n",
              "      <th></th>\n",
              "      <th>0</th>\n",
              "      <th>1</th>\n",
              "      <th>Target</th>\n",
              "    </tr>\n",
              "  </thead>\n",
              "  <tbody>\n",
              "    <tr>\n",
              "      <th>0</th>\n",
              "      <td>-14.242702</td>\n",
              "      <td>17.519438</td>\n",
              "      <td>0</td>\n",
              "    </tr>\n",
              "    <tr>\n",
              "      <th>1</th>\n",
              "      <td>-13.578282</td>\n",
              "      <td>20.242508</td>\n",
              "      <td>0</td>\n",
              "    </tr>\n",
              "    <tr>\n",
              "      <th>2</th>\n",
              "      <td>-14.683719</td>\n",
              "      <td>20.045244</td>\n",
              "      <td>0</td>\n",
              "    </tr>\n",
              "    <tr>\n",
              "      <th>3</th>\n",
              "      <td>-14.333879</td>\n",
              "      <td>20.497618</td>\n",
              "      <td>0</td>\n",
              "    </tr>\n",
              "    <tr>\n",
              "      <th>4</th>\n",
              "      <td>-13.853064</td>\n",
              "      <td>17.440681</td>\n",
              "      <td>0</td>\n",
              "    </tr>\n",
              "    <tr>\n",
              "      <th>...</th>\n",
              "      <td>...</td>\n",
              "      <td>...</td>\n",
              "      <td>...</td>\n",
              "    </tr>\n",
              "    <tr>\n",
              "      <th>145</th>\n",
              "      <td>2.522882</td>\n",
              "      <td>-12.536713</td>\n",
              "      <td>2</td>\n",
              "    </tr>\n",
              "    <tr>\n",
              "      <th>146</th>\n",
              "      <td>4.737744</td>\n",
              "      <td>-10.284327</td>\n",
              "      <td>2</td>\n",
              "    </tr>\n",
              "    <tr>\n",
              "      <th>147</th>\n",
              "      <td>3.124155</td>\n",
              "      <td>-11.879514</td>\n",
              "      <td>2</td>\n",
              "    </tr>\n",
              "    <tr>\n",
              "      <th>148</th>\n",
              "      <td>1.636926</td>\n",
              "      <td>-12.783695</td>\n",
              "      <td>2</td>\n",
              "    </tr>\n",
              "    <tr>\n",
              "      <th>149</th>\n",
              "      <td>5.663813</td>\n",
              "      <td>-9.657001</td>\n",
              "      <td>2</td>\n",
              "    </tr>\n",
              "  </tbody>\n",
              "</table>\n",
              "<p>150 rows × 3 columns</p>\n",
              "</div>"
            ],
            "text/plain": [
              "             0          1  Target\n",
              "0   -14.242702  17.519438       0\n",
              "1   -13.578282  20.242508       0\n",
              "2   -14.683719  20.045244       0\n",
              "3   -14.333879  20.497618       0\n",
              "4   -13.853064  17.440681       0\n",
              "..         ...        ...     ...\n",
              "145   2.522882 -12.536713       2\n",
              "146   4.737744 -10.284327       2\n",
              "147   3.124155 -11.879514       2\n",
              "148   1.636926 -12.783695       2\n",
              "149   5.663813  -9.657001       2\n",
              "\n",
              "[150 rows x 3 columns]"
            ]
          },
          "metadata": {
            "tags": []
          },
          "execution_count": 72
        }
      ]
    },
    {
      "cell_type": "code",
      "metadata": {
        "colab": {
          "base_uri": "https://localhost:8080/",
          "height": 283
        },
        "id": "vDhajF4O_dag",
        "outputId": "978d0df8-6f92-4b56-fb16-9d572829ccaf"
      },
      "source": [
        "plt.scatter(X_comp[:,0],X[:,1],\r\n",
        "            c=y, cmap=plt.cm.coolwarm, s=20, edgecolors='k')\r\n"
      ],
      "execution_count": null,
      "outputs": [
        {
          "output_type": "execute_result",
          "data": {
            "text/plain": [
              "<matplotlib.collections.PathCollection at 0x7fba279bd518>"
            ]
          },
          "metadata": {
            "tags": []
          },
          "execution_count": 73
        },
        {
          "output_type": "display_data",
          "data": {
            "image/png": "[encoded data removed]",
            "text/plain": [
              "<Figure size 432x288 with 1 Axes>"
            ]
          },
          "metadata": {
            "tags": []
          }
        }
      ]
    },
    {
      "cell_type": "code",
      "metadata": {
        "id": "QPszDhQM_drx"
      },
      "source": [
        "model =  KNeighborsClassifier()\r\n",
        "model.fit(X_comp, y)\r\n",
        "predict = model.predict(X_comp)"
      ],
      "execution_count": null,
      "outputs": []
    },
    {
      "cell_type": "code",
      "metadata": {
        "colab": {
          "base_uri": "https://localhost:8080/",
          "height": 281
        },
        "id": "Ytf7CZDz_dzM",
        "outputId": "2bd43ae3-a114-4277-fc86-a4d295297b33"
      },
      "source": [
        "xx, yy = make_meshgrid(X_comp[:,0], X_comp[:,1]) \r\n",
        "plot_contours(model, xx, yy, cmap=plt.cm.coolwarm, alpha=0.8)\r\n",
        "plt.scatter(X_comp[:,0], X_comp[:,1], c=y, cmap=plt.cm.coolwarm, s=20, edgecolors='k')"
      ],
      "execution_count": null,
      "outputs": [
        {
          "output_type": "execute_result",
          "data": {
            "text/plain": [
              "<matplotlib.collections.PathCollection at 0x7fba27914978>"
            ]
          },
          "metadata": {
            "tags": []
          },
          "execution_count": 75
        },
        {
          "output_type": "display_data",
          "data": {
            "image/png": "[encoded data removed]",
            "text/plain": [
              "<Figure size 432x288 with 1 Axes>"
            ]
          },
          "metadata": {
            "tags": []
          }
        }
      ]
    },
    {
      "cell_type": "markdown",
      "metadata": {
        "id": "pK9Ty9ij_d-d"
      },
      "source": [
        "breast cancer data"
      ]
    },
    {
      "cell_type": "code",
      "metadata": {
        "id": "t38POU8VCAhC"
      },
      "source": [
        "cancer = load_breast_cancer()"
      ],
      "execution_count": null,
      "outputs": []
    },
    {
      "cell_type": "code",
      "metadata": {
        "colab": {
          "base_uri": "https://localhost:8080/",
          "height": 470
        },
        "id": "96cGwXLMCBDG",
        "outputId": "3f5ddb22-fbda-4bb3-fdfc-7065e0379db6"
      },
      "source": [
        "cancer_df = pd.DataFrame(data=cancer.data, columns=cancer.feature_names)\r\n",
        "cancer_df['Target'] = cancer.target\r\n",
        "cancer_df"
      ],
      "execution_count": null,
      "outputs": [
        {
          "output_type": "execute_result",
          "data": {
            "text/html": [
              "<div>\n",
              "<style scoped>\n",
              "    .dataframe tbody tr th:only-of-type {\n",
              "        vertical-align: middle;\n",
              "    }\n",
              "\n",
              "    .dataframe tbody tr th {\n",
              "        vertical-align: top;\n",
              "    }\n",
              "\n",
              "    .dataframe thead th {\n",
              "        text-align: right;\n",
              "    }\n",
              "</style>\n",
              "<table border=\"1\" class=\"dataframe\">\n",
              "  <thead>\n",
              "    <tr style=\"text-align: right;\">\n",
              "      <th></th>\n",
              "      <th>mean radius</th>\n",
              "      <th>mean texture</th>\n",
              "      <th>mean perimeter</th>\n",
              "      <th>mean area</th>\n",
              "      <th>mean smoothness</th>\n",
              "      <th>mean compactness</th>\n",
              "      <th>mean concavity</th>\n",
              "      <th>mean concave points</th>\n",
              "      <th>mean symmetry</th>\n",
              "      <th>mean fractal dimension</th>\n",
              "      <th>radius error</th>\n",
              "      <th>texture error</th>\n",
              "      <th>perimeter error</th>\n",
              "      <th>area error</th>\n",
              "      <th>smoothness error</th>\n",
              "      <th>compactness error</th>\n",
              "      <th>concavity error</th>\n",
              "      <th>concave points error</th>\n",
              "      <th>symmetry error</th>\n",
              "      <th>fractal dimension error</th>\n",
              "      <th>worst radius</th>\n",
              "      <th>worst texture</th>\n",
              "      <th>worst perimeter</th>\n",
              "      <th>worst area</th>\n",
              "      <th>worst smoothness</th>\n",
              "      <th>worst compactness</th>\n",
              "      <th>worst concavity</th>\n",
              "      <th>worst concave points</th>\n",
              "      <th>worst symmetry</th>\n",
              "      <th>worst fractal dimension</th>\n",
              "      <th>Target</th>\n",
              "    </tr>\n",
              "  </thead>\n",
              "  <tbody>\n",
              "    <tr>\n",
              "      <th>0</th>\n",
              "      <td>17.99</td>\n",
              "      <td>10.38</td>\n",
              "      <td>122.80</td>\n",
              "      <td>1001.0</td>\n",
              "      <td>0.11840</td>\n",
              "      <td>0.27760</td>\n",
              "      <td>0.30010</td>\n",
              "      <td>0.14710</td>\n",
              "      <td>0.2419</td>\n",
              "      <td>0.07871</td>\n",
              "      <td>1.0950</td>\n",
              "      <td>0.9053</td>\n",
              "      <td>8.589</td>\n",
              "      <td>153.40</td>\n",
              "      <td>0.006399</td>\n",
              "      <td>0.04904</td>\n",
              "      <td>0.05373</td>\n",
              "      <td>0.01587</td>\n",
              "      <td>0.03003</td>\n",
              "      <td>0.006193</td>\n",
              "      <td>25.380</td>\n",
              "      <td>17.33</td>\n",
              "      <td>184.60</td>\n",
              "      <td>2019.0</td>\n",
              "      <td>0.16220</td>\n",
              "      <td>0.66560</td>\n",
              "      <td>0.7119</td>\n",
              "      <td>0.2654</td>\n",
              "      <td>0.4601</td>\n",
              "      <td>0.11890</td>\n",
              "      <td>0</td>\n",
              "    </tr>\n",
              "    <tr>\n",
              "      <th>1</th>\n",
              "      <td>20.57</td>\n",
              "      <td>17.77</td>\n",
              "      <td>132.90</td>\n",
              "      <td>1326.0</td>\n",
              "      <td>0.08474</td>\n",
              "      <td>0.07864</td>\n",
              "      <td>0.08690</td>\n",
              "      <td>0.07017</td>\n",
              "      <td>0.1812</td>\n",
              "      <td>0.05667</td>\n",
              "      <td>0.5435</td>\n",
              "      <td>0.7339</td>\n",
              "      <td>3.398</td>\n",
              "      <td>74.08</td>\n",
              "      <td>0.005225</td>\n",
              "      <td>0.01308</td>\n",
              "      <td>0.01860</td>\n",
              "      <td>0.01340</td>\n",
              "      <td>0.01389</td>\n",
              "      <td>0.003532</td>\n",
              "      <td>24.990</td>\n",
              "      <td>23.41</td>\n",
              "      <td>158.80</td>\n",
              "      <td>1956.0</td>\n",
              "      <td>0.12380</td>\n",
              "      <td>0.18660</td>\n",
              "      <td>0.2416</td>\n",
              "      <td>0.1860</td>\n",
              "      <td>0.2750</td>\n",
              "      <td>0.08902</td>\n",
              "      <td>0</td>\n",
              "    </tr>\n",
              "    <tr>\n",
              "      <th>2</th>\n",
              "      <td>19.69</td>\n",
              "      <td>21.25</td>\n",
              "      <td>130.00</td>\n",
              "      <td>1203.0</td>\n",
              "      <td>0.10960</td>\n",
              "      <td>0.15990</td>\n",
              "      <td>0.19740</td>\n",
              "      <td>0.12790</td>\n",
              "      <td>0.2069</td>\n",
              "      <td>0.05999</td>\n",
              "      <td>0.7456</td>\n",
              "      <td>0.7869</td>\n",
              "      <td>4.585</td>\n",
              "      <td>94.03</td>\n",
              "      <td>0.006150</td>\n",
              "      <td>0.04006</td>\n",
              "      <td>0.03832</td>\n",
              "      <td>0.02058</td>\n",
              "      <td>0.02250</td>\n",
              "      <td>0.004571</td>\n",
              "      <td>23.570</td>\n",
              "      <td>25.53</td>\n",
              "      <td>152.50</td>\n",
              "      <td>1709.0</td>\n",
              "      <td>0.14440</td>\n",
              "      <td>0.42450</td>\n",
              "      <td>0.4504</td>\n",
              "      <td>0.2430</td>\n",
              "      <td>0.3613</td>\n",
              "      <td>0.08758</td>\n",
              "      <td>0</td>\n",
              "    </tr>\n",
              "    <tr>\n",
              "      <th>3</th>\n",
              "      <td>11.42</td>\n",
              "      <td>20.38</td>\n",
              "      <td>77.58</td>\n",
              "      <td>386.1</td>\n",
              "      <td>0.14250</td>\n",
              "      <td>0.28390</td>\n",
              "      <td>0.24140</td>\n",
              "      <td>0.10520</td>\n",
              "      <td>0.2597</td>\n",
              "      <td>0.09744</td>\n",
              "      <td>0.4956</td>\n",
              "      <td>1.1560</td>\n",
              "      <td>3.445</td>\n",
              "      <td>27.23</td>\n",
              "      <td>0.009110</td>\n",
              "      <td>0.07458</td>\n",
              "      <td>0.05661</td>\n",
              "      <td>0.01867</td>\n",
              "      <td>0.05963</td>\n",
              "      <td>0.009208</td>\n",
              "      <td>14.910</td>\n",
              "      <td>26.50</td>\n",
              "      <td>98.87</td>\n",
              "      <td>567.7</td>\n",
              "      <td>0.20980</td>\n",
              "      <td>0.86630</td>\n",
              "      <td>0.6869</td>\n",
              "      <td>0.2575</td>\n",
              "      <td>0.6638</td>\n",
              "      <td>0.17300</td>\n",
              "      <td>0</td>\n",
              "    </tr>\n",
              "    <tr>\n",
              "      <th>4</th>\n",
              "      <td>20.29</td>\n",
              "      <td>14.34</td>\n",
              "      <td>135.10</td>\n",
              "      <td>1297.0</td>\n",
              "      <td>0.10030</td>\n",
              "      <td>0.13280</td>\n",
              "      <td>0.19800</td>\n",
              "      <td>0.10430</td>\n",
              "      <td>0.1809</td>\n",
              "      <td>0.05883</td>\n",
              "      <td>0.7572</td>\n",
              "      <td>0.7813</td>\n",
              "      <td>5.438</td>\n",
              "      <td>94.44</td>\n",
              "      <td>0.011490</td>\n",
              "      <td>0.02461</td>\n",
              "      <td>0.05688</td>\n",
              "      <td>0.01885</td>\n",
              "      <td>0.01756</td>\n",
              "      <td>0.005115</td>\n",
              "      <td>22.540</td>\n",
              "      <td>16.67</td>\n",
              "      <td>152.20</td>\n",
              "      <td>1575.0</td>\n",
              "      <td>0.13740</td>\n",
              "      <td>0.20500</td>\n",
              "      <td>0.4000</td>\n",
              "      <td>0.1625</td>\n",
              "      <td>0.2364</td>\n",
              "      <td>0.07678</td>\n",
              "      <td>0</td>\n",
              "    </tr>\n",
              "    <tr>\n",
              "      <th>...</th>\n",
              "      <td>...</td>\n",
              "      <td>...</td>\n",
              "      <td>...</td>\n",
              "      <td>...</td>\n",
              "      <td>...</td>\n",
              "      <td>...</td>\n",
              "      <td>...</td>\n",
              "      <td>...</td>\n",
              "      <td>...</td>\n",
              "      <td>...</td>\n",
              "      <td>...</td>\n",
              "      <td>...</td>\n",
              "      <td>...</td>\n",
              "      <td>...</td>\n",
              "      <td>...</td>\n",
              "      <td>...</td>\n",
              "      <td>...</td>\n",
              "      <td>...</td>\n",
              "      <td>...</td>\n",
              "      <td>...</td>\n",
              "      <td>...</td>\n",
              "      <td>...</td>\n",
              "      <td>...</td>\n",
              "      <td>...</td>\n",
              "      <td>...</td>\n",
              "      <td>...</td>\n",
              "      <td>...</td>\n",
              "      <td>...</td>\n",
              "      <td>...</td>\n",
              "      <td>...</td>\n",
              "      <td>...</td>\n",
              "    </tr>\n",
              "    <tr>\n",
              "      <th>564</th>\n",
              "      <td>21.56</td>\n",
              "      <td>22.39</td>\n",
              "      <td>142.00</td>\n",
              "      <td>1479.0</td>\n",
              "      <td>0.11100</td>\n",
              "      <td>0.11590</td>\n",
              "      <td>0.24390</td>\n",
              "      <td>0.13890</td>\n",
              "      <td>0.1726</td>\n",
              "      <td>0.05623</td>\n",
              "      <td>1.1760</td>\n",
              "      <td>1.2560</td>\n",
              "      <td>7.673</td>\n",
              "      <td>158.70</td>\n",
              "      <td>0.010300</td>\n",
              "      <td>0.02891</td>\n",
              "      <td>0.05198</td>\n",
              "      <td>0.02454</td>\n",
              "      <td>0.01114</td>\n",
              "      <td>0.004239</td>\n",
              "      <td>25.450</td>\n",
              "      <td>26.40</td>\n",
              "      <td>166.10</td>\n",
              "      <td>2027.0</td>\n",
              "      <td>0.14100</td>\n",
              "      <td>0.21130</td>\n",
              "      <td>0.4107</td>\n",
              "      <td>0.2216</td>\n",
              "      <td>0.2060</td>\n",
              "      <td>0.07115</td>\n",
              "      <td>0</td>\n",
              "    </tr>\n",
              "    <tr>\n",
              "      <th>565</th>\n",
              "      <td>20.13</td>\n",
              "      <td>28.25</td>\n",
              "      <td>131.20</td>\n",
              "      <td>1261.0</td>\n",
              "      <td>0.09780</td>\n",
              "      <td>0.10340</td>\n",
              "      <td>0.14400</td>\n",
              "      <td>0.09791</td>\n",
              "      <td>0.1752</td>\n",
              "      <td>0.05533</td>\n",
              "      <td>0.7655</td>\n",
              "      <td>2.4630</td>\n",
              "      <td>5.203</td>\n",
              "      <td>99.04</td>\n",
              "      <td>0.005769</td>\n",
              "      <td>0.02423</td>\n",
              "      <td>0.03950</td>\n",
              "      <td>0.01678</td>\n",
              "      <td>0.01898</td>\n",
              "      <td>0.002498</td>\n",
              "      <td>23.690</td>\n",
              "      <td>38.25</td>\n",
              "      <td>155.00</td>\n",
              "      <td>1731.0</td>\n",
              "      <td>0.11660</td>\n",
              "      <td>0.19220</td>\n",
              "      <td>0.3215</td>\n",
              "      <td>0.1628</td>\n",
              "      <td>0.2572</td>\n",
              "      <td>0.06637</td>\n",
              "      <td>0</td>\n",
              "    </tr>\n",
              "    <tr>\n",
              "      <th>566</th>\n",
              "      <td>16.60</td>\n",
              "      <td>28.08</td>\n",
              "      <td>108.30</td>\n",
              "      <td>858.1</td>\n",
              "      <td>0.08455</td>\n",
              "      <td>0.10230</td>\n",
              "      <td>0.09251</td>\n",
              "      <td>0.05302</td>\n",
              "      <td>0.1590</td>\n",
              "      <td>0.05648</td>\n",
              "      <td>0.4564</td>\n",
              "      <td>1.0750</td>\n",
              "      <td>3.425</td>\n",
              "      <td>48.55</td>\n",
              "      <td>0.005903</td>\n",
              "      <td>0.03731</td>\n",
              "      <td>0.04730</td>\n",
              "      <td>0.01557</td>\n",
              "      <td>0.01318</td>\n",
              "      <td>0.003892</td>\n",
              "      <td>18.980</td>\n",
              "      <td>34.12</td>\n",
              "      <td>126.70</td>\n",
              "      <td>1124.0</td>\n",
              "      <td>0.11390</td>\n",
              "      <td>0.30940</td>\n",
              "      <td>0.3403</td>\n",
              "      <td>0.1418</td>\n",
              "      <td>0.2218</td>\n",
              "      <td>0.07820</td>\n",
              "      <td>0</td>\n",
              "    </tr>\n",
              "    <tr>\n",
              "      <th>567</th>\n",
              "      <td>20.60</td>\n",
              "      <td>29.33</td>\n",
              "      <td>140.10</td>\n",
              "      <td>1265.0</td>\n",
              "      <td>0.11780</td>\n",
              "      <td>0.27700</td>\n",
              "      <td>0.35140</td>\n",
              "      <td>0.15200</td>\n",
              "      <td>0.2397</td>\n",
              "      <td>0.07016</td>\n",
              "      <td>0.7260</td>\n",
              "      <td>1.5950</td>\n",
              "      <td>5.772</td>\n",
              "      <td>86.22</td>\n",
              "      <td>0.006522</td>\n",
              "      <td>0.06158</td>\n",
              "      <td>0.07117</td>\n",
              "      <td>0.01664</td>\n",
              "      <td>0.02324</td>\n",
              "      <td>0.006185</td>\n",
              "      <td>25.740</td>\n",
              "      <td>39.42</td>\n",
              "      <td>184.60</td>\n",
              "      <td>1821.0</td>\n",
              "      <td>0.16500</td>\n",
              "      <td>0.86810</td>\n",
              "      <td>0.9387</td>\n",
              "      <td>0.2650</td>\n",
              "      <td>0.4087</td>\n",
              "      <td>0.12400</td>\n",
              "      <td>0</td>\n",
              "    </tr>\n",
              "    <tr>\n",
              "      <th>568</th>\n",
              "      <td>7.76</td>\n",
              "      <td>24.54</td>\n",
              "      <td>47.92</td>\n",
              "      <td>181.0</td>\n",
              "      <td>0.05263</td>\n",
              "      <td>0.04362</td>\n",
              "      <td>0.00000</td>\n",
              "      <td>0.00000</td>\n",
              "      <td>0.1587</td>\n",
              "      <td>0.05884</td>\n",
              "      <td>0.3857</td>\n",
              "      <td>1.4280</td>\n",
              "      <td>2.548</td>\n",
              "      <td>19.15</td>\n",
              "      <td>0.007189</td>\n",
              "      <td>0.00466</td>\n",
              "      <td>0.00000</td>\n",
              "      <td>0.00000</td>\n",
              "      <td>0.02676</td>\n",
              "      <td>0.002783</td>\n",
              "      <td>9.456</td>\n",
              "      <td>30.37</td>\n",
              "      <td>59.16</td>\n",
              "      <td>268.6</td>\n",
              "      <td>0.08996</td>\n",
              "      <td>0.06444</td>\n",
              "      <td>0.0000</td>\n",
              "      <td>0.0000</td>\n",
              "      <td>0.2871</td>\n",
              "      <td>0.07039</td>\n",
              "      <td>1</td>\n",
              "    </tr>\n",
              "  </tbody>\n",
              "</table>\n",
              "<p>569 rows × 31 columns</p>\n",
              "</div>"
            ],
            "text/plain": [
              "     mean radius  mean texture  ...  worst fractal dimension  Target\n",
              "0          17.99         10.38  ...                  0.11890       0\n",
              "1          20.57         17.77  ...                  0.08902       0\n",
              "2          19.69         21.25  ...                  0.08758       0\n",
              "3          11.42         20.38  ...                  0.17300       0\n",
              "4          20.29         14.34  ...                  0.07678       0\n",
              "..           ...           ...  ...                      ...     ...\n",
              "564        21.56         22.39  ...                  0.07115       0\n",
              "565        20.13         28.25  ...                  0.06637       0\n",
              "566        16.60         28.08  ...                  0.07820       0\n",
              "567        20.60         29.33  ...                  0.12400       0\n",
              "568         7.76         24.54  ...                  0.07039       1\n",
              "\n",
              "[569 rows x 31 columns]"
            ]
          },
          "metadata": {
            "tags": []
          },
          "execution_count": 130
        }
      ]
    },
    {
      "cell_type": "code",
      "metadata": {
        "id": "DOkqmY7eCBJ1"
      },
      "source": [
        "X, y = cancer.data, cancer.target\r\n",
        "X_train, X_test, y_train, y_test = train_test_split(X, y, test_size=0.2)"
      ],
      "execution_count": null,
      "outputs": []
    },
    {
      "cell_type": "code",
      "metadata": {
        "colab": {
          "base_uri": "https://localhost:8080/",
          "height": 470
        },
        "id": "nMSFXJVrCBRP",
        "outputId": "d4f0ea0d-45aa-4c37-eab0-0d6ad569ca42"
      },
      "source": [
        "cancer_train_df = pd.DataFrame(data=X_train, columns=cancer.feature_names)\r\n",
        "cancer_train_df['Target'] = y_train\r\n",
        "cancer_train_df"
      ],
      "execution_count": null,
      "outputs": [
        {
          "output_type": "execute_result",
          "data": {
            "text/html": [
              "<div>\n",
              "<style scoped>\n",
              "    .dataframe tbody tr th:only-of-type {\n",
              "        vertical-align: middle;\n",
              "    }\n",
              "\n",
              "    .dataframe tbody tr th {\n",
              "        vertical-align: top;\n",
              "    }\n",
              "\n",
              "    .dataframe thead th {\n",
              "        text-align: right;\n",
              "    }\n",
              "</style>\n",
              "<table border=\"1\" class=\"dataframe\">\n",
              "  <thead>\n",
              "    <tr style=\"text-align: right;\">\n",
              "      <th></th>\n",
              "      <th>mean radius</th>\n",
              "      <th>mean texture</th>\n",
              "      <th>mean perimeter</th>\n",
              "      <th>mean area</th>\n",
              "      <th>mean smoothness</th>\n",
              "      <th>mean compactness</th>\n",
              "      <th>mean concavity</th>\n",
              "      <th>mean concave points</th>\n",
              "      <th>mean symmetry</th>\n",
              "      <th>mean fractal dimension</th>\n",
              "      <th>radius error</th>\n",
              "      <th>texture error</th>\n",
              "      <th>perimeter error</th>\n",
              "      <th>area error</th>\n",
              "      <th>smoothness error</th>\n",
              "      <th>compactness error</th>\n",
              "      <th>concavity error</th>\n",
              "      <th>concave points error</th>\n",
              "      <th>symmetry error</th>\n",
              "      <th>fractal dimension error</th>\n",
              "      <th>worst radius</th>\n",
              "      <th>worst texture</th>\n",
              "      <th>worst perimeter</th>\n",
              "      <th>worst area</th>\n",
              "      <th>worst smoothness</th>\n",
              "      <th>worst compactness</th>\n",
              "      <th>worst concavity</th>\n",
              "      <th>worst concave points</th>\n",
              "      <th>worst symmetry</th>\n",
              "      <th>worst fractal dimension</th>\n",
              "      <th>Target</th>\n",
              "    </tr>\n",
              "  </thead>\n",
              "  <tbody>\n",
              "    <tr>\n",
              "      <th>0</th>\n",
              "      <td>19.730</td>\n",
              "      <td>19.82</td>\n",
              "      <td>130.70</td>\n",
              "      <td>1206.0</td>\n",
              "      <td>0.10620</td>\n",
              "      <td>0.18490</td>\n",
              "      <td>0.24170</td>\n",
              "      <td>0.09740</td>\n",
              "      <td>0.1733</td>\n",
              "      <td>0.06697</td>\n",
              "      <td>0.7661</td>\n",
              "      <td>0.7800</td>\n",
              "      <td>4.115</td>\n",
              "      <td>92.81</td>\n",
              "      <td>0.008482</td>\n",
              "      <td>0.050570</td>\n",
              "      <td>0.06800</td>\n",
              "      <td>0.019710</td>\n",
              "      <td>0.01467</td>\n",
              "      <td>0.007259</td>\n",
              "      <td>25.28</td>\n",
              "      <td>25.59</td>\n",
              "      <td>159.80</td>\n",
              "      <td>1933.0</td>\n",
              "      <td>0.17100</td>\n",
              "      <td>0.59550</td>\n",
              "      <td>0.84890</td>\n",
              "      <td>0.25070</td>\n",
              "      <td>0.2749</td>\n",
              "      <td>0.12970</td>\n",
              "      <td>0</td>\n",
              "    </tr>\n",
              "    <tr>\n",
              "      <th>1</th>\n",
              "      <td>11.140</td>\n",
              "      <td>14.07</td>\n",
              "      <td>71.24</td>\n",
              "      <td>384.6</td>\n",
              "      <td>0.07274</td>\n",
              "      <td>0.06064</td>\n",
              "      <td>0.04505</td>\n",
              "      <td>0.01471</td>\n",
              "      <td>0.1690</td>\n",
              "      <td>0.06083</td>\n",
              "      <td>0.4222</td>\n",
              "      <td>0.8092</td>\n",
              "      <td>3.330</td>\n",
              "      <td>28.84</td>\n",
              "      <td>0.005541</td>\n",
              "      <td>0.033870</td>\n",
              "      <td>0.04505</td>\n",
              "      <td>0.014710</td>\n",
              "      <td>0.03102</td>\n",
              "      <td>0.004831</td>\n",
              "      <td>12.12</td>\n",
              "      <td>15.82</td>\n",
              "      <td>79.62</td>\n",
              "      <td>453.5</td>\n",
              "      <td>0.08864</td>\n",
              "      <td>0.12560</td>\n",
              "      <td>0.12010</td>\n",
              "      <td>0.03922</td>\n",
              "      <td>0.2576</td>\n",
              "      <td>0.07018</td>\n",
              "      <td>1</td>\n",
              "    </tr>\n",
              "    <tr>\n",
              "      <th>2</th>\n",
              "      <td>9.606</td>\n",
              "      <td>16.84</td>\n",
              "      <td>61.64</td>\n",
              "      <td>280.5</td>\n",
              "      <td>0.08481</td>\n",
              "      <td>0.09228</td>\n",
              "      <td>0.08422</td>\n",
              "      <td>0.02292</td>\n",
              "      <td>0.2036</td>\n",
              "      <td>0.07125</td>\n",
              "      <td>0.1844</td>\n",
              "      <td>0.9429</td>\n",
              "      <td>1.429</td>\n",
              "      <td>12.07</td>\n",
              "      <td>0.005954</td>\n",
              "      <td>0.034710</td>\n",
              "      <td>0.05028</td>\n",
              "      <td>0.008510</td>\n",
              "      <td>0.01750</td>\n",
              "      <td>0.004031</td>\n",
              "      <td>10.75</td>\n",
              "      <td>23.07</td>\n",
              "      <td>71.25</td>\n",
              "      <td>353.6</td>\n",
              "      <td>0.12330</td>\n",
              "      <td>0.34160</td>\n",
              "      <td>0.43410</td>\n",
              "      <td>0.08120</td>\n",
              "      <td>0.2982</td>\n",
              "      <td>0.09825</td>\n",
              "      <td>1</td>\n",
              "    </tr>\n",
              "    <tr>\n",
              "      <th>3</th>\n",
              "      <td>13.490</td>\n",
              "      <td>22.30</td>\n",
              "      <td>86.91</td>\n",
              "      <td>561.0</td>\n",
              "      <td>0.08752</td>\n",
              "      <td>0.07698</td>\n",
              "      <td>0.04751</td>\n",
              "      <td>0.03384</td>\n",
              "      <td>0.1809</td>\n",
              "      <td>0.05718</td>\n",
              "      <td>0.2338</td>\n",
              "      <td>1.3530</td>\n",
              "      <td>1.735</td>\n",
              "      <td>20.20</td>\n",
              "      <td>0.004455</td>\n",
              "      <td>0.013820</td>\n",
              "      <td>0.02095</td>\n",
              "      <td>0.011840</td>\n",
              "      <td>0.01641</td>\n",
              "      <td>0.001956</td>\n",
              "      <td>15.15</td>\n",
              "      <td>31.82</td>\n",
              "      <td>99.00</td>\n",
              "      <td>698.8</td>\n",
              "      <td>0.11620</td>\n",
              "      <td>0.17110</td>\n",
              "      <td>0.22820</td>\n",
              "      <td>0.12820</td>\n",
              "      <td>0.2871</td>\n",
              "      <td>0.06917</td>\n",
              "      <td>1</td>\n",
              "    </tr>\n",
              "    <tr>\n",
              "      <th>4</th>\n",
              "      <td>19.790</td>\n",
              "      <td>25.12</td>\n",
              "      <td>130.40</td>\n",
              "      <td>1192.0</td>\n",
              "      <td>0.10150</td>\n",
              "      <td>0.15890</td>\n",
              "      <td>0.25450</td>\n",
              "      <td>0.11490</td>\n",
              "      <td>0.2202</td>\n",
              "      <td>0.06113</td>\n",
              "      <td>0.4953</td>\n",
              "      <td>1.1990</td>\n",
              "      <td>2.765</td>\n",
              "      <td>63.33</td>\n",
              "      <td>0.005033</td>\n",
              "      <td>0.031790</td>\n",
              "      <td>0.04755</td>\n",
              "      <td>0.010430</td>\n",
              "      <td>0.01578</td>\n",
              "      <td>0.003224</td>\n",
              "      <td>22.63</td>\n",
              "      <td>33.58</td>\n",
              "      <td>148.70</td>\n",
              "      <td>1589.0</td>\n",
              "      <td>0.12750</td>\n",
              "      <td>0.38610</td>\n",
              "      <td>0.56730</td>\n",
              "      <td>0.17320</td>\n",
              "      <td>0.3305</td>\n",
              "      <td>0.08465</td>\n",
              "      <td>0</td>\n",
              "    </tr>\n",
              "    <tr>\n",
              "      <th>...</th>\n",
              "      <td>...</td>\n",
              "      <td>...</td>\n",
              "      <td>...</td>\n",
              "      <td>...</td>\n",
              "      <td>...</td>\n",
              "      <td>...</td>\n",
              "      <td>...</td>\n",
              "      <td>...</td>\n",
              "      <td>...</td>\n",
              "      <td>...</td>\n",
              "      <td>...</td>\n",
              "      <td>...</td>\n",
              "      <td>...</td>\n",
              "      <td>...</td>\n",
              "      <td>...</td>\n",
              "      <td>...</td>\n",
              "      <td>...</td>\n",
              "      <td>...</td>\n",
              "      <td>...</td>\n",
              "      <td>...</td>\n",
              "      <td>...</td>\n",
              "      <td>...</td>\n",
              "      <td>...</td>\n",
              "      <td>...</td>\n",
              "      <td>...</td>\n",
              "      <td>...</td>\n",
              "      <td>...</td>\n",
              "      <td>...</td>\n",
              "      <td>...</td>\n",
              "      <td>...</td>\n",
              "      <td>...</td>\n",
              "    </tr>\n",
              "    <tr>\n",
              "      <th>450</th>\n",
              "      <td>10.800</td>\n",
              "      <td>9.71</td>\n",
              "      <td>68.77</td>\n",
              "      <td>357.6</td>\n",
              "      <td>0.09594</td>\n",
              "      <td>0.05736</td>\n",
              "      <td>0.02531</td>\n",
              "      <td>0.01698</td>\n",
              "      <td>0.1381</td>\n",
              "      <td>0.06400</td>\n",
              "      <td>0.1728</td>\n",
              "      <td>0.4064</td>\n",
              "      <td>1.126</td>\n",
              "      <td>11.48</td>\n",
              "      <td>0.007809</td>\n",
              "      <td>0.009816</td>\n",
              "      <td>0.01099</td>\n",
              "      <td>0.005344</td>\n",
              "      <td>0.01254</td>\n",
              "      <td>0.002120</td>\n",
              "      <td>11.60</td>\n",
              "      <td>12.02</td>\n",
              "      <td>73.66</td>\n",
              "      <td>414.0</td>\n",
              "      <td>0.14360</td>\n",
              "      <td>0.12570</td>\n",
              "      <td>0.10470</td>\n",
              "      <td>0.04603</td>\n",
              "      <td>0.2090</td>\n",
              "      <td>0.07699</td>\n",
              "      <td>1</td>\n",
              "    </tr>\n",
              "    <tr>\n",
              "      <th>451</th>\n",
              "      <td>15.050</td>\n",
              "      <td>19.07</td>\n",
              "      <td>97.26</td>\n",
              "      <td>701.9</td>\n",
              "      <td>0.09215</td>\n",
              "      <td>0.08597</td>\n",
              "      <td>0.07486</td>\n",
              "      <td>0.04335</td>\n",
              "      <td>0.1561</td>\n",
              "      <td>0.05915</td>\n",
              "      <td>0.3860</td>\n",
              "      <td>1.1980</td>\n",
              "      <td>2.630</td>\n",
              "      <td>38.49</td>\n",
              "      <td>0.004952</td>\n",
              "      <td>0.016300</td>\n",
              "      <td>0.02967</td>\n",
              "      <td>0.009423</td>\n",
              "      <td>0.01152</td>\n",
              "      <td>0.001718</td>\n",
              "      <td>17.58</td>\n",
              "      <td>28.06</td>\n",
              "      <td>113.80</td>\n",
              "      <td>967.0</td>\n",
              "      <td>0.12460</td>\n",
              "      <td>0.21010</td>\n",
              "      <td>0.28660</td>\n",
              "      <td>0.11200</td>\n",
              "      <td>0.2282</td>\n",
              "      <td>0.06954</td>\n",
              "      <td>0</td>\n",
              "    </tr>\n",
              "    <tr>\n",
              "      <th>452</th>\n",
              "      <td>9.567</td>\n",
              "      <td>15.91</td>\n",
              "      <td>60.21</td>\n",
              "      <td>279.6</td>\n",
              "      <td>0.08464</td>\n",
              "      <td>0.04087</td>\n",
              "      <td>0.01652</td>\n",
              "      <td>0.01667</td>\n",
              "      <td>0.1551</td>\n",
              "      <td>0.06403</td>\n",
              "      <td>0.2152</td>\n",
              "      <td>0.8301</td>\n",
              "      <td>1.215</td>\n",
              "      <td>12.64</td>\n",
              "      <td>0.011640</td>\n",
              "      <td>0.010400</td>\n",
              "      <td>0.01186</td>\n",
              "      <td>0.009623</td>\n",
              "      <td>0.02383</td>\n",
              "      <td>0.003540</td>\n",
              "      <td>10.51</td>\n",
              "      <td>19.16</td>\n",
              "      <td>65.74</td>\n",
              "      <td>335.9</td>\n",
              "      <td>0.15040</td>\n",
              "      <td>0.09515</td>\n",
              "      <td>0.07161</td>\n",
              "      <td>0.07222</td>\n",
              "      <td>0.2757</td>\n",
              "      <td>0.08178</td>\n",
              "      <td>1</td>\n",
              "    </tr>\n",
              "    <tr>\n",
              "      <th>453</th>\n",
              "      <td>14.040</td>\n",
              "      <td>15.98</td>\n",
              "      <td>89.78</td>\n",
              "      <td>611.2</td>\n",
              "      <td>0.08458</td>\n",
              "      <td>0.05895</td>\n",
              "      <td>0.03534</td>\n",
              "      <td>0.02944</td>\n",
              "      <td>0.1714</td>\n",
              "      <td>0.05898</td>\n",
              "      <td>0.3892</td>\n",
              "      <td>1.0460</td>\n",
              "      <td>2.644</td>\n",
              "      <td>32.74</td>\n",
              "      <td>0.007976</td>\n",
              "      <td>0.012950</td>\n",
              "      <td>0.01608</td>\n",
              "      <td>0.009046</td>\n",
              "      <td>0.02005</td>\n",
              "      <td>0.002830</td>\n",
              "      <td>15.66</td>\n",
              "      <td>21.58</td>\n",
              "      <td>101.20</td>\n",
              "      <td>750.0</td>\n",
              "      <td>0.11950</td>\n",
              "      <td>0.12520</td>\n",
              "      <td>0.11170</td>\n",
              "      <td>0.07453</td>\n",
              "      <td>0.2725</td>\n",
              "      <td>0.07234</td>\n",
              "      <td>1</td>\n",
              "    </tr>\n",
              "    <tr>\n",
              "      <th>454</th>\n",
              "      <td>13.460</td>\n",
              "      <td>18.75</td>\n",
              "      <td>87.44</td>\n",
              "      <td>551.1</td>\n",
              "      <td>0.10750</td>\n",
              "      <td>0.11380</td>\n",
              "      <td>0.04201</td>\n",
              "      <td>0.03152</td>\n",
              "      <td>0.1723</td>\n",
              "      <td>0.06317</td>\n",
              "      <td>0.1998</td>\n",
              "      <td>0.6068</td>\n",
              "      <td>1.443</td>\n",
              "      <td>16.07</td>\n",
              "      <td>0.004413</td>\n",
              "      <td>0.014430</td>\n",
              "      <td>0.01509</td>\n",
              "      <td>0.007369</td>\n",
              "      <td>0.01354</td>\n",
              "      <td>0.001787</td>\n",
              "      <td>15.35</td>\n",
              "      <td>25.16</td>\n",
              "      <td>101.90</td>\n",
              "      <td>719.8</td>\n",
              "      <td>0.16240</td>\n",
              "      <td>0.31240</td>\n",
              "      <td>0.26540</td>\n",
              "      <td>0.14270</td>\n",
              "      <td>0.3518</td>\n",
              "      <td>0.08665</td>\n",
              "      <td>1</td>\n",
              "    </tr>\n",
              "  </tbody>\n",
              "</table>\n",
              "<p>455 rows × 31 columns</p>\n",
              "</div>"
            ],
            "text/plain": [
              "     mean radius  mean texture  ...  worst fractal dimension  Target\n",
              "0         19.730         19.82  ...                  0.12970       0\n",
              "1         11.140         14.07  ...                  0.07018       1\n",
              "2          9.606         16.84  ...                  0.09825       1\n",
              "3         13.490         22.30  ...                  0.06917       1\n",
              "4         19.790         25.12  ...                  0.08465       0\n",
              "..           ...           ...  ...                      ...     ...\n",
              "450       10.800          9.71  ...                  0.07699       1\n",
              "451       15.050         19.07  ...                  0.06954       0\n",
              "452        9.567         15.91  ...                  0.08178       1\n",
              "453       14.040         15.98  ...                  0.07234       1\n",
              "454       13.460         18.75  ...                  0.08665       1\n",
              "\n",
              "[455 rows x 31 columns]"
            ]
          },
          "metadata": {
            "tags": []
          },
          "execution_count": 132
        }
      ]
    },
    {
      "cell_type": "code",
      "metadata": {
        "id": "HGn_I7H6CBYu"
      },
      "source": [
        "cancer_test_df = pd.DataFrame(data=X_test, columns=cancer.feature_names)\r\n",
        "cancer_test_df['Target'] = y_test\r\n",
        "cancer_test_df"
      ],
      "execution_count": null,
      "outputs": []
    },
    {
      "cell_type": "code",
      "metadata": {
        "id": "QCe33GTYFOrP"
      },
      "source": [
        "scaler = StandardScaler()\r\n",
        "X_train_scale = scaler.fit_transform(X_train)\r\n",
        "X_test_scale = scaler.transform(X_test)"
      ],
      "execution_count": null,
      "outputs": []
    },
    {
      "cell_type": "code",
      "metadata": {
        "colab": {
          "base_uri": "https://localhost:8080/"
        },
        "id": "SZsAV-xJFO7_",
        "outputId": "dbb095c7-57de-4a0e-df15-0e918abd1618"
      },
      "source": [
        "model = KNeighborsClassifier()\r\n",
        "model.fit(X_train, y_train)"
      ],
      "execution_count": null,
      "outputs": [
        {
          "output_type": "execute_result",
          "data": {
            "text/plain": [
              "KNeighborsClassifier(algorithm='auto', leaf_size=30, metric='minkowski',\n",
              "                     metric_params=None, n_jobs=None, n_neighbors=5, p=2,\n",
              "                     weights='uniform')"
            ]
          },
          "metadata": {
            "tags": []
          },
          "execution_count": 135
        }
      ]
    },
    {
      "cell_type": "code",
      "metadata": {
        "colab": {
          "base_uri": "https://localhost:8080/"
        },
        "id": "ZCTVLqW7FPSE",
        "outputId": "506e9bfc-9795-4923-ddaf-dc6f1c163eb2"
      },
      "source": [
        "print(\"learning data score:{}\".format(model.score(X_train, y_train)))\r\n",
        "print(\"evaluate data score:{}\".format(model.score(X_test, y_test)))"
      ],
      "execution_count": null,
      "outputs": [
        {
          "output_type": "stream",
          "text": [
            "learning data score:0.9428571428571428\n",
            "evaluate data score:0.9385964912280702\n"
          ],
          "name": "stdout"
        }
      ]
    },
    {
      "cell_type": "code",
      "metadata": {
        "colab": {
          "base_uri": "https://localhost:8080/"
        },
        "id": "jZZ-T1IwFxQu",
        "outputId": "4dddd854-3d66-400c-c0a4-6e897f8c05f9"
      },
      "source": [
        "model = KNeighborsClassifier()\r\n",
        "model.fit(X_train_scale, y_train)"
      ],
      "execution_count": null,
      "outputs": [
        {
          "output_type": "execute_result",
          "data": {
            "text/plain": [
              "KNeighborsClassifier(algorithm='auto', leaf_size=30, metric='minkowski',\n",
              "                     metric_params=None, n_jobs=None, n_neighbors=5, p=2,\n",
              "                     weights='uniform')"
            ]
          },
          "metadata": {
            "tags": []
          },
          "execution_count": 137
        }
      ]
    },
    {
      "cell_type": "code",
      "metadata": {
        "colab": {
          "base_uri": "https://localhost:8080/"
        },
        "id": "qSHUDwBtFxnU",
        "outputId": "30769fd3-74cf-4ab4-dbd0-dd75f205337a"
      },
      "source": [
        "print(\"learning data score:{}\".format(model.score(X_train, y_train)))\r\n",
        "print(\"evaluate data score:{}\".format(model.score(X_test, y_test)))"
      ],
      "execution_count": null,
      "outputs": [
        {
          "output_type": "stream",
          "text": [
            "learning data score:0.3758241758241758\n",
            "evaluate data score:0.35964912280701755\n"
          ],
          "name": "stdout"
        }
      ]
    },
    {
      "cell_type": "code",
      "metadata": {
        "id": "0D6jXALiFxwA"
      },
      "source": [
        "estimator = make_pipeline(\r\n",
        "    StandardScaler(),\r\n",
        "    KNeighborsClassifier()\r\n",
        ")"
      ],
      "execution_count": null,
      "outputs": []
    },
    {
      "cell_type": "code",
      "metadata": {
        "colab": {
          "base_uri": "https://localhost:8080/"
        },
        "id": "_gFjeKGQFx4R",
        "outputId": "9da1c427-20d9-429c-e702-84d403f657e4"
      },
      "source": [
        "cross_validate(\r\n",
        "    estimator=KNeighborsClassifier(),\r\n",
        "    X=X, y=y,\r\n",
        "    cv=5,\r\n",
        "    n_jobs=multiprocessing.cpu_count(),\r\n",
        "    verbose=True\r\n",
        ")"
      ],
      "execution_count": null,
      "outputs": [
        {
          "output_type": "stream",
          "text": [
            "[Parallel(n_jobs=2)]: Using backend LokyBackend with 2 concurrent workers.\n",
            "[Parallel(n_jobs=2)]: Done   5 out of   5 | elapsed:    0.0s finished\n"
          ],
          "name": "stderr"
        },
        {
          "output_type": "execute_result",
          "data": {
            "text/plain": [
              "{'fit_time': array([0.00580859, 0.00191426, 0.00177097, 0.00184417, 0.00188518]),\n",
              " 'score_time': array([0.00849199, 0.00976348, 0.00865293, 0.00801635, 0.00636101]),\n",
              " 'test_score': array([0.88596491, 0.93859649, 0.93859649, 0.94736842, 0.92920354])}"
            ]
          },
          "metadata": {
            "tags": []
          },
          "execution_count": 140
        }
      ]
    },
    {
      "cell_type": "code",
      "metadata": {
        "id": "hxvHpEvwGeZR"
      },
      "source": [
        "pipe = Pipeline(\r\n",
        "    [('scaler', StandardScaler()),\r\n",
        "    ('model',KNeighborsClassifier())]\r\n",
        ")"
      ],
      "execution_count": null,
      "outputs": []
    },
    {
      "cell_type": "code",
      "metadata": {
        "id": "krDxhnAMGelP"
      },
      "source": [
        "param_grid = [{'model__n_neighbors':[3,5,7],\r\n",
        "               'model__weights': ['uniform','distance'],\r\n",
        "               'model__algorithm':['ball_tree','kd_tree','brute']}]"
      ],
      "execution_count": null,
      "outputs": []
    },
    {
      "cell_type": "code",
      "metadata": {
        "id": "_2rOPvR7Gex3"
      },
      "source": [
        "gs = GridSearchCV(\r\n",
        "    estimator=pipe,\r\n",
        "    param_grid=param_grid,\r\n",
        "    n_jobs=multiprocessing.cpu_count(),\r\n",
        "    verbose=True\r\n",
        ")"
      ],
      "execution_count": null,
      "outputs": []
    },
    {
      "cell_type": "code",
      "metadata": {
        "colab": {
          "base_uri": "https://localhost:8080/"
        },
        "id": "7RRok14nHMaJ",
        "outputId": "db698430-bbab-45dc-af3f-bf4eb53cd240"
      },
      "source": [
        "gs.fit(X, y)"
      ],
      "execution_count": null,
      "outputs": [
        {
          "output_type": "stream",
          "text": [
            "Fitting 5 folds for each of 18 candidates, totalling 90 fits\n"
          ],
          "name": "stdout"
        },
        {
          "output_type": "stream",
          "text": [
            "[Parallel(n_jobs=2)]: Using backend LokyBackend with 2 concurrent workers.\n",
            "[Parallel(n_jobs=2)]: Done  90 out of  90 | elapsed:    0.7s finished\n"
          ],
          "name": "stderr"
        },
        {
          "output_type": "execute_result",
          "data": {
            "text/plain": [
              "GridSearchCV(cv=None, error_score=nan,\n",
              "             estimator=Pipeline(memory=None,\n",
              "                                steps=[('scaler',\n",
              "                                        StandardScaler(copy=True,\n",
              "                                                       with_mean=True,\n",
              "                                                       with_std=True)),\n",
              "                                       ('model',\n",
              "                                        KNeighborsClassifier(algorithm='auto',\n",
              "                                                             leaf_size=30,\n",
              "                                                             metric='minkowski',\n",
              "                                                             metric_params=None,\n",
              "                                                             n_jobs=None,\n",
              "                                                             n_neighbors=5, p=2,\n",
              "                                                             weights='uniform'))],\n",
              "                                verbose=False),\n",
              "             iid='deprecated', n_jobs=2,\n",
              "             param_grid=[{'model__algorithm': ['ball_tree', 'kd_tree', 'brute'],\n",
              "                          'model__n_neighbors': [3, 5, 7],\n",
              "                          'model__weights': ['uniform', 'distance']}],\n",
              "             pre_dispatch='2*n_jobs', refit=True, return_train_score=False,\n",
              "             scoring=None, verbose=True)"
            ]
          },
          "metadata": {
            "tags": []
          },
          "execution_count": 144
        }
      ]
    },
    {
      "cell_type": "code",
      "metadata": {
        "colab": {
          "base_uri": "https://localhost:8080/"
        },
        "id": "-DSgEbZPHqND",
        "outputId": "9afd5f35-f635-4329-ed2a-7830a12d3c96"
      },
      "source": [
        "gs.best_estimator_"
      ],
      "execution_count": null,
      "outputs": [
        {
          "output_type": "execute_result",
          "data": {
            "text/plain": [
              "Pipeline(memory=None,\n",
              "         steps=[('scaler',\n",
              "                 StandardScaler(copy=True, with_mean=True, with_std=True)),\n",
              "                ('model',\n",
              "                 KNeighborsClassifier(algorithm='ball_tree', leaf_size=30,\n",
              "                                      metric='minkowski', metric_params=None,\n",
              "                                      n_jobs=None, n_neighbors=7, p=2,\n",
              "                                      weights='uniform'))],\n",
              "         verbose=False)"
            ]
          },
          "metadata": {
            "tags": []
          },
          "execution_count": 145
        }
      ]
    },
    {
      "cell_type": "code",
      "metadata": {
        "colab": {
          "base_uri": "https://localhost:8080/"
        },
        "id": "owjnjWiHHvGK",
        "outputId": "811f0d23-bd88-42f3-8145-38d726535cba"
      },
      "source": [
        "print(\"GS best score:{}\".format(gs.best_score_))"
      ],
      "execution_count": null,
      "outputs": [
        {
          "output_type": "stream",
          "text": [
            "GS best score:0.9701288619779538\n"
          ],
          "name": "stdout"
        }
      ]
    },
    {
      "cell_type": "code",
      "metadata": {
        "id": "ycL_l7KsH7Wu"
      },
      "source": [
        "tsne = TSNE(n_components=2)\r\n",
        "X_comp = tsne.fit_transform(X)"
      ],
      "execution_count": null,
      "outputs": []
    },
    {
      "cell_type": "code",
      "metadata": {
        "colab": {
          "base_uri": "https://localhost:8080/",
          "height": 415
        },
        "id": "aaDUMyZkH7W2",
        "outputId": "375077a4-bdc4-4fbc-f108-49f14f38732c"
      },
      "source": [
        "cancer_comp_df = pd.DataFrame(data=X_comp)\r\n",
        "cancer_comp_df['Target'] = y\r\n",
        "cancer_comp_df"
      ],
      "execution_count": null,
      "outputs": [
        {
          "output_type": "execute_result",
          "data": {
            "text/html": [
              "<div>\n",
              "<style scoped>\n",
              "    .dataframe tbody tr th:only-of-type {\n",
              "        vertical-align: middle;\n",
              "    }\n",
              "\n",
              "    .dataframe tbody tr th {\n",
              "        vertical-align: top;\n",
              "    }\n",
              "\n",
              "    .dataframe thead th {\n",
              "        text-align: right;\n",
              "    }\n",
              "</style>\n",
              "<table border=\"1\" class=\"dataframe\">\n",
              "  <thead>\n",
              "    <tr style=\"text-align: right;\">\n",
              "      <th></th>\n",
              "      <th>0</th>\n",
              "      <th>1</th>\n",
              "      <th>Target</th>\n",
              "    </tr>\n",
              "  </thead>\n",
              "  <tbody>\n",
              "    <tr>\n",
              "      <th>0</th>\n",
              "      <td>-30.151489</td>\n",
              "      <td>-2.554166</td>\n",
              "      <td>0</td>\n",
              "    </tr>\n",
              "    <tr>\n",
              "      <th>1</th>\n",
              "      <td>-31.160141</td>\n",
              "      <td>-5.266853</td>\n",
              "      <td>0</td>\n",
              "    </tr>\n",
              "    <tr>\n",
              "      <th>2</th>\n",
              "      <td>-26.642788</td>\n",
              "      <td>-7.397446</td>\n",
              "      <td>0</td>\n",
              "    </tr>\n",
              "    <tr>\n",
              "      <th>3</th>\n",
              "      <td>8.516910</td>\n",
              "      <td>12.578818</td>\n",
              "      <td>0</td>\n",
              "    </tr>\n",
              "    <tr>\n",
              "      <th>4</th>\n",
              "      <td>-26.523499</td>\n",
              "      <td>-9.853108</td>\n",
              "      <td>0</td>\n",
              "    </tr>\n",
              "    <tr>\n",
              "      <th>...</th>\n",
              "      <td>...</td>\n",
              "      <td>...</td>\n",
              "      <td>...</td>\n",
              "    </tr>\n",
              "    <tr>\n",
              "      <th>564</th>\n",
              "      <td>-32.891586</td>\n",
              "      <td>-5.195593</td>\n",
              "      <td>0</td>\n",
              "    </tr>\n",
              "    <tr>\n",
              "      <th>565</th>\n",
              "      <td>-27.840828</td>\n",
              "      <td>-7.523109</td>\n",
              "      <td>0</td>\n",
              "    </tr>\n",
              "    <tr>\n",
              "      <th>566</th>\n",
              "      <td>-10.162843</td>\n",
              "      <td>-15.986873</td>\n",
              "      <td>0</td>\n",
              "    </tr>\n",
              "    <tr>\n",
              "      <th>567</th>\n",
              "      <td>-29.030838</td>\n",
              "      <td>-6.098853</td>\n",
              "      <td>0</td>\n",
              "    </tr>\n",
              "    <tr>\n",
              "      <th>568</th>\n",
              "      <td>-17.440868</td>\n",
              "      <td>34.262043</td>\n",
              "      <td>1</td>\n",
              "    </tr>\n",
              "  </tbody>\n",
              "</table>\n",
              "<p>569 rows × 3 columns</p>\n",
              "</div>"
            ],
            "text/plain": [
              "             0          1  Target\n",
              "0   -30.151489  -2.554166       0\n",
              "1   -31.160141  -5.266853       0\n",
              "2   -26.642788  -7.397446       0\n",
              "3     8.516910  12.578818       0\n",
              "4   -26.523499  -9.853108       0\n",
              "..         ...        ...     ...\n",
              "564 -32.891586  -5.195593       0\n",
              "565 -27.840828  -7.523109       0\n",
              "566 -10.162843 -15.986873       0\n",
              "567 -29.030838  -6.098853       0\n",
              "568 -17.440868  34.262043       1\n",
              "\n",
              "[569 rows x 3 columns]"
            ]
          },
          "metadata": {
            "tags": []
          },
          "execution_count": 148
        }
      ]
    },
    {
      "cell_type": "code",
      "metadata": {
        "colab": {
          "base_uri": "https://localhost:8080/",
          "height": 281
        },
        "id": "V5cTRdSiH7W4",
        "outputId": "7b47a772-1e9a-4790-f09f-52cb155544ed"
      },
      "source": [
        "plt.scatter(X_comp[:,0],X[:,1],\r\n",
        "            c=y, cmap=plt.cm.coolwarm, s=20, edgecolors='k')\r\n"
      ],
      "execution_count": null,
      "outputs": [
        {
          "output_type": "execute_result",
          "data": {
            "text/plain": [
              "<matplotlib.collections.PathCollection at 0x7fba264f1e80>"
            ]
          },
          "metadata": {
            "tags": []
          },
          "execution_count": 149
        },
        {
          "output_type": "display_data",
          "data": {
            "image/png": "[encoded data removed]",
            "text/plain": [
              "<Figure size 432x288 with 1 Axes>"
            ]
          },
          "metadata": {
            "tags": []
          }
        }
      ]
    },
    {
      "cell_type": "code",
      "metadata": {
        "id": "0_oNtLnAH1GC"
      },
      "source": [
        "model = KNeighborsClassifier()\r\n",
        "model.fit(X_comp, y)\r\n",
        "predict = model.predict(X_comp)"
      ],
      "execution_count": null,
      "outputs": []
    },
    {
      "cell_type": "code",
      "metadata": {
        "colab": {
          "base_uri": "https://localhost:8080/",
          "height": 281
        },
        "id": "EEKN_Jg3H1L-",
        "outputId": "bf9ded1b-f50b-4179-c4bd-fcdba7c876a9"
      },
      "source": [
        "xx, yy = make_meshgrid(X_comp[:,0], X_comp[:,1]) \r\n",
        "plot_contours(model, xx, yy, cmap=plt.cm.coolwarm, alpha=0.8)\r\n",
        "plt.scatter(X_comp[:,0], X_comp[:,1], c=y, cmap=plt.cm.coolwarm, s=20, edgecolors='k')"
      ],
      "execution_count": null,
      "outputs": [
        {
          "output_type": "execute_result",
          "data": {
            "text/plain": [
              "<matplotlib.collections.PathCollection at 0x7fba264eea20>"
            ]
          },
          "metadata": {
            "tags": []
          },
          "execution_count": 151
        },
        {
          "output_type": "display_data",
          "data": {
            "image/png": "[encoded data removed]",
            "text/plain": [
              "<Figure size 432x288 with 1 Axes>"
            ]
          },
          "metadata": {
            "tags": []
          }
        }
      ]
    },
    {
      "cell_type": "markdown",
      "metadata": {
        "id": "lJBB55a9JRCU"
      },
      "source": [
        "KNN regression boston housing price"
      ]
    },
    {
      "cell_type": "code",
      "metadata": {
        "id": "nZVtY0W4MBLh"
      },
      "source": [
        "boston = load_boston()"
      ],
      "execution_count": null,
      "outputs": []
    },
    {
      "cell_type": "code",
      "metadata": {
        "colab": {
          "base_uri": "https://localhost:8080/",
          "height": 415
        },
        "id": "_kZQONA9H1R8",
        "outputId": "95ad46bf-5fa2-405c-d234-89ba73e645bd"
      },
      "source": [
        "boston_df =pd.DataFrame(data=boston.data, columns=boston.feature_names)\r\n",
        "boston_df['TARGET'] = boston.target\r\n",
        "boston_df"
      ],
      "execution_count": null,
      "outputs": [
        {
          "output_type": "execute_result",
          "data": {
            "text/html": [
              "<div>\n",
              "<style scoped>\n",
              "    .dataframe tbody tr th:only-of-type {\n",
              "        vertical-align: middle;\n",
              "    }\n",
              "\n",
              "    .dataframe tbody tr th {\n",
              "        vertical-align: top;\n",
              "    }\n",
              "\n",
              "    .dataframe thead th {\n",
              "        text-align: right;\n",
              "    }\n",
              "</style>\n",
              "<table border=\"1\" class=\"dataframe\">\n",
              "  <thead>\n",
              "    <tr style=\"text-align: right;\">\n",
              "      <th></th>\n",
              "      <th>CRIM</th>\n",
              "      <th>ZN</th>\n",
              "      <th>INDUS</th>\n",
              "      <th>CHAS</th>\n",
              "      <th>NOX</th>\n",
              "      <th>RM</th>\n",
              "      <th>AGE</th>\n",
              "      <th>DIS</th>\n",
              "      <th>RAD</th>\n",
              "      <th>TAX</th>\n",
              "      <th>PTRATIO</th>\n",
              "      <th>B</th>\n",
              "      <th>LSTAT</th>\n",
              "      <th>TARGET</th>\n",
              "    </tr>\n",
              "  </thead>\n",
              "  <tbody>\n",
              "    <tr>\n",
              "      <th>0</th>\n",
              "      <td>0.00632</td>\n",
              "      <td>18.0</td>\n",
              "      <td>2.31</td>\n",
              "      <td>0.0</td>\n",
              "      <td>0.538</td>\n",
              "      <td>6.575</td>\n",
              "      <td>65.2</td>\n",
              "      <td>4.0900</td>\n",
              "      <td>1.0</td>\n",
              "      <td>296.0</td>\n",
              "      <td>15.3</td>\n",
              "      <td>396.90</td>\n",
              "      <td>4.98</td>\n",
              "      <td>24.0</td>\n",
              "    </tr>\n",
              "    <tr>\n",
              "      <th>1</th>\n",
              "      <td>0.02731</td>\n",
              "      <td>0.0</td>\n",
              "      <td>7.07</td>\n",
              "      <td>0.0</td>\n",
              "      <td>0.469</td>\n",
              "      <td>6.421</td>\n",
              "      <td>78.9</td>\n",
              "      <td>4.9671</td>\n",
              "      <td>2.0</td>\n",
              "      <td>242.0</td>\n",
              "      <td>17.8</td>\n",
              "      <td>396.90</td>\n",
              "      <td>9.14</td>\n",
              "      <td>21.6</td>\n",
              "    </tr>\n",
              "    <tr>\n",
              "      <th>2</th>\n",
              "      <td>0.02729</td>\n",
              "      <td>0.0</td>\n",
              "      <td>7.07</td>\n",
              "      <td>0.0</td>\n",
              "      <td>0.469</td>\n",
              "      <td>7.185</td>\n",
              "      <td>61.1</td>\n",
              "      <td>4.9671</td>\n",
              "      <td>2.0</td>\n",
              "      <td>242.0</td>\n",
              "      <td>17.8</td>\n",
              "      <td>392.83</td>\n",
              "      <td>4.03</td>\n",
              "      <td>34.7</td>\n",
              "    </tr>\n",
              "    <tr>\n",
              "      <th>3</th>\n",
              "      <td>0.03237</td>\n",
              "      <td>0.0</td>\n",
              "      <td>2.18</td>\n",
              "      <td>0.0</td>\n",
              "      <td>0.458</td>\n",
              "      <td>6.998</td>\n",
              "      <td>45.8</td>\n",
              "      <td>6.0622</td>\n",
              "      <td>3.0</td>\n",
              "      <td>222.0</td>\n",
              "      <td>18.7</td>\n",
              "      <td>394.63</td>\n",
              "      <td>2.94</td>\n",
              "      <td>33.4</td>\n",
              "    </tr>\n",
              "    <tr>\n",
              "      <th>4</th>\n",
              "      <td>0.06905</td>\n",
              "      <td>0.0</td>\n",
              "      <td>2.18</td>\n",
              "      <td>0.0</td>\n",
              "      <td>0.458</td>\n",
              "      <td>7.147</td>\n",
              "      <td>54.2</td>\n",
              "      <td>6.0622</td>\n",
              "      <td>3.0</td>\n",
              "      <td>222.0</td>\n",
              "      <td>18.7</td>\n",
              "      <td>396.90</td>\n",
              "      <td>5.33</td>\n",
              "      <td>36.2</td>\n",
              "    </tr>\n",
              "    <tr>\n",
              "      <th>...</th>\n",
              "      <td>...</td>\n",
              "      <td>...</td>\n",
              "      <td>...</td>\n",
              "      <td>...</td>\n",
              "      <td>...</td>\n",
              "      <td>...</td>\n",
              "      <td>...</td>\n",
              "      <td>...</td>\n",
              "      <td>...</td>\n",
              "      <td>...</td>\n",
              "      <td>...</td>\n",
              "      <td>...</td>\n",
              "      <td>...</td>\n",
              "      <td>...</td>\n",
              "    </tr>\n",
              "    <tr>\n",
              "      <th>501</th>\n",
              "      <td>0.06263</td>\n",
              "      <td>0.0</td>\n",
              "      <td>11.93</td>\n",
              "      <td>0.0</td>\n",
              "      <td>0.573</td>\n",
              "      <td>6.593</td>\n",
              "      <td>69.1</td>\n",
              "      <td>2.4786</td>\n",
              "      <td>1.0</td>\n",
              "      <td>273.0</td>\n",
              "      <td>21.0</td>\n",
              "      <td>391.99</td>\n",
              "      <td>9.67</td>\n",
              "      <td>22.4</td>\n",
              "    </tr>\n",
              "    <tr>\n",
              "      <th>502</th>\n",
              "      <td>0.04527</td>\n",
              "      <td>0.0</td>\n",
              "      <td>11.93</td>\n",
              "      <td>0.0</td>\n",
              "      <td>0.573</td>\n",
              "      <td>6.120</td>\n",
              "      <td>76.7</td>\n",
              "      <td>2.2875</td>\n",
              "      <td>1.0</td>\n",
              "      <td>273.0</td>\n",
              "      <td>21.0</td>\n",
              "      <td>396.90</td>\n",
              "      <td>9.08</td>\n",
              "      <td>20.6</td>\n",
              "    </tr>\n",
              "    <tr>\n",
              "      <th>503</th>\n",
              "      <td>0.06076</td>\n",
              "      <td>0.0</td>\n",
              "      <td>11.93</td>\n",
              "      <td>0.0</td>\n",
              "      <td>0.573</td>\n",
              "      <td>6.976</td>\n",
              "      <td>91.0</td>\n",
              "      <td>2.1675</td>\n",
              "      <td>1.0</td>\n",
              "      <td>273.0</td>\n",
              "      <td>21.0</td>\n",
              "      <td>396.90</td>\n",
              "      <td>5.64</td>\n",
              "      <td>23.9</td>\n",
              "    </tr>\n",
              "    <tr>\n",
              "      <th>504</th>\n",
              "      <td>0.10959</td>\n",
              "      <td>0.0</td>\n",
              "      <td>11.93</td>\n",
              "      <td>0.0</td>\n",
              "      <td>0.573</td>\n",
              "      <td>6.794</td>\n",
              "      <td>89.3</td>\n",
              "      <td>2.3889</td>\n",
              "      <td>1.0</td>\n",
              "      <td>273.0</td>\n",
              "      <td>21.0</td>\n",
              "      <td>393.45</td>\n",
              "      <td>6.48</td>\n",
              "      <td>22.0</td>\n",
              "    </tr>\n",
              "    <tr>\n",
              "      <th>505</th>\n",
              "      <td>0.04741</td>\n",
              "      <td>0.0</td>\n",
              "      <td>11.93</td>\n",
              "      <td>0.0</td>\n",
              "      <td>0.573</td>\n",
              "      <td>6.030</td>\n",
              "      <td>80.8</td>\n",
              "      <td>2.5050</td>\n",
              "      <td>1.0</td>\n",
              "      <td>273.0</td>\n",
              "      <td>21.0</td>\n",
              "      <td>396.90</td>\n",
              "      <td>7.88</td>\n",
              "      <td>11.9</td>\n",
              "    </tr>\n",
              "  </tbody>\n",
              "</table>\n",
              "<p>506 rows × 14 columns</p>\n",
              "</div>"
            ],
            "text/plain": [
              "        CRIM    ZN  INDUS  CHAS    NOX  ...    TAX  PTRATIO       B  LSTAT  TARGET\n",
              "0    0.00632  18.0   2.31   0.0  0.538  ...  296.0     15.3  396.90   4.98    24.0\n",
              "1    0.02731   0.0   7.07   0.0  0.469  ...  242.0     17.8  396.90   9.14    21.6\n",
              "2    0.02729   0.0   7.07   0.0  0.469  ...  242.0     17.8  392.83   4.03    34.7\n",
              "3    0.03237   0.0   2.18   0.0  0.458  ...  222.0     18.7  394.63   2.94    33.4\n",
              "4    0.06905   0.0   2.18   0.0  0.458  ...  222.0     18.7  396.90   5.33    36.2\n",
              "..       ...   ...    ...   ...    ...  ...    ...      ...     ...    ...     ...\n",
              "501  0.06263   0.0  11.93   0.0  0.573  ...  273.0     21.0  391.99   9.67    22.4\n",
              "502  0.04527   0.0  11.93   0.0  0.573  ...  273.0     21.0  396.90   9.08    20.6\n",
              "503  0.06076   0.0  11.93   0.0  0.573  ...  273.0     21.0  396.90   5.64    23.9\n",
              "504  0.10959   0.0  11.93   0.0  0.573  ...  273.0     21.0  393.45   6.48    22.0\n",
              "505  0.04741   0.0  11.93   0.0  0.573  ...  273.0     21.0  396.90   7.88    11.9\n",
              "\n",
              "[506 rows x 14 columns]"
            ]
          },
          "metadata": {
            "tags": []
          },
          "execution_count": 159
        }
      ]
    },
    {
      "cell_type": "code",
      "metadata": {
        "id": "PZK_HoqZMQj4"
      },
      "source": [
        "X, y = boston.data, boston.target\r\n",
        "X_train, X_test, y_train, y_test = train_test_split(X, y, test_size=0.2)"
      ],
      "execution_count": null,
      "outputs": []
    },
    {
      "cell_type": "code",
      "metadata": {
        "colab": {
          "base_uri": "https://localhost:8080/",
          "height": 415
        },
        "id": "okCBKJUNMQwl",
        "outputId": "c7a53bb7-a339-40a8-f17f-eb1cf741e77a"
      },
      "source": [
        "boston_train_df = pd.DataFrame(data=X_train, columns=boston.feature_names)\r\n",
        "boston_train_df['Target'] = y_train\r\n",
        "boston_train_df"
      ],
      "execution_count": null,
      "outputs": [
        {
          "output_type": "execute_result",
          "data": {
            "text/html": [
              "<div>\n",
              "<style scoped>\n",
              "    .dataframe tbody tr th:only-of-type {\n",
              "        vertical-align: middle;\n",
              "    }\n",
              "\n",
              "    .dataframe tbody tr th {\n",
              "        vertical-align: top;\n",
              "    }\n",
              "\n",
              "    .dataframe thead th {\n",
              "        text-align: right;\n",
              "    }\n",
              "</style>\n",
              "<table border=\"1\" class=\"dataframe\">\n",
              "  <thead>\n",
              "    <tr style=\"text-align: right;\">\n",
              "      <th></th>\n",
              "      <th>CRIM</th>\n",
              "      <th>ZN</th>\n",
              "      <th>INDUS</th>\n",
              "      <th>CHAS</th>\n",
              "      <th>NOX</th>\n",
              "      <th>RM</th>\n",
              "      <th>AGE</th>\n",
              "      <th>DIS</th>\n",
              "      <th>RAD</th>\n",
              "      <th>TAX</th>\n",
              "      <th>PTRATIO</th>\n",
              "      <th>B</th>\n",
              "      <th>LSTAT</th>\n",
              "      <th>Target</th>\n",
              "    </tr>\n",
              "  </thead>\n",
              "  <tbody>\n",
              "    <tr>\n",
              "      <th>0</th>\n",
              "      <td>0.15936</td>\n",
              "      <td>0.0</td>\n",
              "      <td>6.91</td>\n",
              "      <td>0.0</td>\n",
              "      <td>0.4480</td>\n",
              "      <td>6.211</td>\n",
              "      <td>6.5</td>\n",
              "      <td>5.7209</td>\n",
              "      <td>3.0</td>\n",
              "      <td>233.0</td>\n",
              "      <td>17.9</td>\n",
              "      <td>394.46</td>\n",
              "      <td>7.44</td>\n",
              "      <td>24.7</td>\n",
              "    </tr>\n",
              "    <tr>\n",
              "      <th>1</th>\n",
              "      <td>0.61470</td>\n",
              "      <td>0.0</td>\n",
              "      <td>6.20</td>\n",
              "      <td>0.0</td>\n",
              "      <td>0.5070</td>\n",
              "      <td>6.618</td>\n",
              "      <td>80.8</td>\n",
              "      <td>3.2721</td>\n",
              "      <td>8.0</td>\n",
              "      <td>307.0</td>\n",
              "      <td>17.4</td>\n",
              "      <td>396.90</td>\n",
              "      <td>7.60</td>\n",
              "      <td>30.1</td>\n",
              "    </tr>\n",
              "    <tr>\n",
              "      <th>2</th>\n",
              "      <td>5.29305</td>\n",
              "      <td>0.0</td>\n",
              "      <td>18.10</td>\n",
              "      <td>0.0</td>\n",
              "      <td>0.7000</td>\n",
              "      <td>6.051</td>\n",
              "      <td>82.5</td>\n",
              "      <td>2.1678</td>\n",
              "      <td>24.0</td>\n",
              "      <td>666.0</td>\n",
              "      <td>20.2</td>\n",
              "      <td>378.38</td>\n",
              "      <td>18.76</td>\n",
              "      <td>23.2</td>\n",
              "    </tr>\n",
              "    <tr>\n",
              "      <th>3</th>\n",
              "      <td>24.39380</td>\n",
              "      <td>0.0</td>\n",
              "      <td>18.10</td>\n",
              "      <td>0.0</td>\n",
              "      <td>0.7000</td>\n",
              "      <td>4.652</td>\n",
              "      <td>100.0</td>\n",
              "      <td>1.4672</td>\n",
              "      <td>24.0</td>\n",
              "      <td>666.0</td>\n",
              "      <td>20.2</td>\n",
              "      <td>396.90</td>\n",
              "      <td>28.28</td>\n",
              "      <td>10.5</td>\n",
              "    </tr>\n",
              "    <tr>\n",
              "      <th>4</th>\n",
              "      <td>20.08490</td>\n",
              "      <td>0.0</td>\n",
              "      <td>18.10</td>\n",
              "      <td>0.0</td>\n",
              "      <td>0.7000</td>\n",
              "      <td>4.368</td>\n",
              "      <td>91.2</td>\n",
              "      <td>1.4395</td>\n",
              "      <td>24.0</td>\n",
              "      <td>666.0</td>\n",
              "      <td>20.2</td>\n",
              "      <td>285.83</td>\n",
              "      <td>30.63</td>\n",
              "      <td>8.8</td>\n",
              "    </tr>\n",
              "    <tr>\n",
              "      <th>...</th>\n",
              "      <td>...</td>\n",
              "      <td>...</td>\n",
              "      <td>...</td>\n",
              "      <td>...</td>\n",
              "      <td>...</td>\n",
              "      <td>...</td>\n",
              "      <td>...</td>\n",
              "      <td>...</td>\n",
              "      <td>...</td>\n",
              "      <td>...</td>\n",
              "      <td>...</td>\n",
              "      <td>...</td>\n",
              "      <td>...</td>\n",
              "      <td>...</td>\n",
              "    </tr>\n",
              "    <tr>\n",
              "      <th>399</th>\n",
              "      <td>11.10810</td>\n",
              "      <td>0.0</td>\n",
              "      <td>18.10</td>\n",
              "      <td>0.0</td>\n",
              "      <td>0.6680</td>\n",
              "      <td>4.906</td>\n",
              "      <td>100.0</td>\n",
              "      <td>1.1742</td>\n",
              "      <td>24.0</td>\n",
              "      <td>666.0</td>\n",
              "      <td>20.2</td>\n",
              "      <td>396.90</td>\n",
              "      <td>34.77</td>\n",
              "      <td>13.8</td>\n",
              "    </tr>\n",
              "    <tr>\n",
              "      <th>400</th>\n",
              "      <td>0.13960</td>\n",
              "      <td>0.0</td>\n",
              "      <td>8.56</td>\n",
              "      <td>0.0</td>\n",
              "      <td>0.5200</td>\n",
              "      <td>6.167</td>\n",
              "      <td>90.0</td>\n",
              "      <td>2.4210</td>\n",
              "      <td>5.0</td>\n",
              "      <td>384.0</td>\n",
              "      <td>20.9</td>\n",
              "      <td>392.69</td>\n",
              "      <td>12.33</td>\n",
              "      <td>20.1</td>\n",
              "    </tr>\n",
              "    <tr>\n",
              "      <th>401</th>\n",
              "      <td>0.32264</td>\n",
              "      <td>0.0</td>\n",
              "      <td>21.89</td>\n",
              "      <td>0.0</td>\n",
              "      <td>0.6240</td>\n",
              "      <td>5.942</td>\n",
              "      <td>93.5</td>\n",
              "      <td>1.9669</td>\n",
              "      <td>4.0</td>\n",
              "      <td>437.0</td>\n",
              "      <td>21.2</td>\n",
              "      <td>378.25</td>\n",
              "      <td>16.90</td>\n",
              "      <td>17.4</td>\n",
              "    </tr>\n",
              "    <tr>\n",
              "      <th>402</th>\n",
              "      <td>0.01951</td>\n",
              "      <td>17.5</td>\n",
              "      <td>1.38</td>\n",
              "      <td>0.0</td>\n",
              "      <td>0.4161</td>\n",
              "      <td>7.104</td>\n",
              "      <td>59.5</td>\n",
              "      <td>9.2229</td>\n",
              "      <td>3.0</td>\n",
              "      <td>216.0</td>\n",
              "      <td>18.6</td>\n",
              "      <td>393.24</td>\n",
              "      <td>8.05</td>\n",
              "      <td>33.0</td>\n",
              "    </tr>\n",
              "    <tr>\n",
              "      <th>403</th>\n",
              "      <td>0.00632</td>\n",
              "      <td>18.0</td>\n",
              "      <td>2.31</td>\n",
              "      <td>0.0</td>\n",
              "      <td>0.5380</td>\n",
              "      <td>6.575</td>\n",
              "      <td>65.2</td>\n",
              "      <td>4.0900</td>\n",
              "      <td>1.0</td>\n",
              "      <td>296.0</td>\n",
              "      <td>15.3</td>\n",
              "      <td>396.90</td>\n",
              "      <td>4.98</td>\n",
              "      <td>24.0</td>\n",
              "    </tr>\n",
              "  </tbody>\n",
              "</table>\n",
              "<p>404 rows × 14 columns</p>\n",
              "</div>"
            ],
            "text/plain": [
              "         CRIM    ZN  INDUS  CHAS     NOX  ...    TAX  PTRATIO       B  LSTAT  Target\n",
              "0     0.15936   0.0   6.91   0.0  0.4480  ...  233.0     17.9  394.46   7.44    24.7\n",
              "1     0.61470   0.0   6.20   0.0  0.5070  ...  307.0     17.4  396.90   7.60    30.1\n",
              "2     5.29305   0.0  18.10   0.0  0.7000  ...  666.0     20.2  378.38  18.76    23.2\n",
              "3    24.39380   0.0  18.10   0.0  0.7000  ...  666.0     20.2  396.90  28.28    10.5\n",
              "4    20.08490   0.0  18.10   0.0  0.7000  ...  666.0     20.2  285.83  30.63     8.8\n",
              "..        ...   ...    ...   ...     ...  ...    ...      ...     ...    ...     ...\n",
              "399  11.10810   0.0  18.10   0.0  0.6680  ...  666.0     20.2  396.90  34.77    13.8\n",
              "400   0.13960   0.0   8.56   0.0  0.5200  ...  384.0     20.9  392.69  12.33    20.1\n",
              "401   0.32264   0.0  21.89   0.0  0.6240  ...  437.0     21.2  378.25  16.90    17.4\n",
              "402   0.01951  17.5   1.38   0.0  0.4161  ...  216.0     18.6  393.24   8.05    33.0\n",
              "403   0.00632  18.0   2.31   0.0  0.5380  ...  296.0     15.3  396.90   4.98    24.0\n",
              "\n",
              "[404 rows x 14 columns]"
            ]
          },
          "metadata": {
            "tags": []
          },
          "execution_count": 161
        }
      ]
    },
    {
      "cell_type": "code",
      "metadata": {
        "colab": {
          "base_uri": "https://localhost:8080/",
          "height": 415
        },
        "id": "iCe75rVfMQ4k",
        "outputId": "96c0a105-2a99-4d5e-c875-b55b102c75e8"
      },
      "source": [
        "boston_test_df = pd.DataFrame(data=X_test, columns=boston.feature_names)\r\n",
        "boston_test_df['Target'] = y_test\r\n",
        "boston_test_df"
      ],
      "execution_count": null,
      "outputs": [
        {
          "output_type": "execute_result",
          "data": {
            "text/html": [
              "<div>\n",
              "<style scoped>\n",
              "    .dataframe tbody tr th:only-of-type {\n",
              "        vertical-align: middle;\n",
              "    }\n",
              "\n",
              "    .dataframe tbody tr th {\n",
              "        vertical-align: top;\n",
              "    }\n",
              "\n",
              "    .dataframe thead th {\n",
              "        text-align: right;\n",
              "    }\n",
              "</style>\n",
              "<table border=\"1\" class=\"dataframe\">\n",
              "  <thead>\n",
              "    <tr style=\"text-align: right;\">\n",
              "      <th></th>\n",
              "      <th>CRIM</th>\n",
              "      <th>ZN</th>\n",
              "      <th>INDUS</th>\n",
              "      <th>CHAS</th>\n",
              "      <th>NOX</th>\n",
              "      <th>RM</th>\n",
              "      <th>AGE</th>\n",
              "      <th>DIS</th>\n",
              "      <th>RAD</th>\n",
              "      <th>TAX</th>\n",
              "      <th>PTRATIO</th>\n",
              "      <th>B</th>\n",
              "      <th>LSTAT</th>\n",
              "      <th>Target</th>\n",
              "    </tr>\n",
              "  </thead>\n",
              "  <tbody>\n",
              "    <tr>\n",
              "      <th>0</th>\n",
              "      <td>0.07165</td>\n",
              "      <td>0.0</td>\n",
              "      <td>25.65</td>\n",
              "      <td>0.0</td>\n",
              "      <td>0.581</td>\n",
              "      <td>6.004</td>\n",
              "      <td>84.1</td>\n",
              "      <td>2.1974</td>\n",
              "      <td>2.0</td>\n",
              "      <td>188.0</td>\n",
              "      <td>19.1</td>\n",
              "      <td>377.67</td>\n",
              "      <td>14.27</td>\n",
              "      <td>20.3</td>\n",
              "    </tr>\n",
              "    <tr>\n",
              "      <th>1</th>\n",
              "      <td>11.08740</td>\n",
              "      <td>0.0</td>\n",
              "      <td>18.10</td>\n",
              "      <td>0.0</td>\n",
              "      <td>0.718</td>\n",
              "      <td>6.411</td>\n",
              "      <td>100.0</td>\n",
              "      <td>1.8589</td>\n",
              "      <td>24.0</td>\n",
              "      <td>666.0</td>\n",
              "      <td>20.2</td>\n",
              "      <td>318.75</td>\n",
              "      <td>15.02</td>\n",
              "      <td>16.7</td>\n",
              "    </tr>\n",
              "    <tr>\n",
              "      <th>2</th>\n",
              "      <td>0.05561</td>\n",
              "      <td>70.0</td>\n",
              "      <td>2.24</td>\n",
              "      <td>0.0</td>\n",
              "      <td>0.400</td>\n",
              "      <td>7.041</td>\n",
              "      <td>10.0</td>\n",
              "      <td>7.8278</td>\n",
              "      <td>5.0</td>\n",
              "      <td>358.0</td>\n",
              "      <td>14.8</td>\n",
              "      <td>371.58</td>\n",
              "      <td>4.74</td>\n",
              "      <td>29.0</td>\n",
              "    </tr>\n",
              "    <tr>\n",
              "      <th>3</th>\n",
              "      <td>51.13580</td>\n",
              "      <td>0.0</td>\n",
              "      <td>18.10</td>\n",
              "      <td>0.0</td>\n",
              "      <td>0.597</td>\n",
              "      <td>5.757</td>\n",
              "      <td>100.0</td>\n",
              "      <td>1.4130</td>\n",
              "      <td>24.0</td>\n",
              "      <td>666.0</td>\n",
              "      <td>20.2</td>\n",
              "      <td>2.60</td>\n",
              "      <td>10.11</td>\n",
              "      <td>15.0</td>\n",
              "    </tr>\n",
              "    <tr>\n",
              "      <th>4</th>\n",
              "      <td>2.73397</td>\n",
              "      <td>0.0</td>\n",
              "      <td>19.58</td>\n",
              "      <td>0.0</td>\n",
              "      <td>0.871</td>\n",
              "      <td>5.597</td>\n",
              "      <td>94.9</td>\n",
              "      <td>1.5257</td>\n",
              "      <td>5.0</td>\n",
              "      <td>403.0</td>\n",
              "      <td>14.7</td>\n",
              "      <td>351.85</td>\n",
              "      <td>21.45</td>\n",
              "      <td>15.4</td>\n",
              "    </tr>\n",
              "    <tr>\n",
              "      <th>...</th>\n",
              "      <td>...</td>\n",
              "      <td>...</td>\n",
              "      <td>...</td>\n",
              "      <td>...</td>\n",
              "      <td>...</td>\n",
              "      <td>...</td>\n",
              "      <td>...</td>\n",
              "      <td>...</td>\n",
              "      <td>...</td>\n",
              "      <td>...</td>\n",
              "      <td>...</td>\n",
              "      <td>...</td>\n",
              "      <td>...</td>\n",
              "      <td>...</td>\n",
              "    </tr>\n",
              "    <tr>\n",
              "      <th>97</th>\n",
              "      <td>0.62976</td>\n",
              "      <td>0.0</td>\n",
              "      <td>8.14</td>\n",
              "      <td>0.0</td>\n",
              "      <td>0.538</td>\n",
              "      <td>5.949</td>\n",
              "      <td>61.8</td>\n",
              "      <td>4.7075</td>\n",
              "      <td>4.0</td>\n",
              "      <td>307.0</td>\n",
              "      <td>21.0</td>\n",
              "      <td>396.90</td>\n",
              "      <td>8.26</td>\n",
              "      <td>20.4</td>\n",
              "    </tr>\n",
              "    <tr>\n",
              "      <th>98</th>\n",
              "      <td>0.54050</td>\n",
              "      <td>20.0</td>\n",
              "      <td>3.97</td>\n",
              "      <td>0.0</td>\n",
              "      <td>0.575</td>\n",
              "      <td>7.470</td>\n",
              "      <td>52.6</td>\n",
              "      <td>2.8720</td>\n",
              "      <td>5.0</td>\n",
              "      <td>264.0</td>\n",
              "      <td>13.0</td>\n",
              "      <td>390.30</td>\n",
              "      <td>3.16</td>\n",
              "      <td>43.5</td>\n",
              "    </tr>\n",
              "    <tr>\n",
              "      <th>99</th>\n",
              "      <td>1.65660</td>\n",
              "      <td>0.0</td>\n",
              "      <td>19.58</td>\n",
              "      <td>0.0</td>\n",
              "      <td>0.871</td>\n",
              "      <td>6.122</td>\n",
              "      <td>97.3</td>\n",
              "      <td>1.6180</td>\n",
              "      <td>5.0</td>\n",
              "      <td>403.0</td>\n",
              "      <td>14.7</td>\n",
              "      <td>372.80</td>\n",
              "      <td>14.10</td>\n",
              "      <td>21.5</td>\n",
              "    </tr>\n",
              "    <tr>\n",
              "      <th>100</th>\n",
              "      <td>1.83377</td>\n",
              "      <td>0.0</td>\n",
              "      <td>19.58</td>\n",
              "      <td>1.0</td>\n",
              "      <td>0.605</td>\n",
              "      <td>7.802</td>\n",
              "      <td>98.2</td>\n",
              "      <td>2.0407</td>\n",
              "      <td>5.0</td>\n",
              "      <td>403.0</td>\n",
              "      <td>14.7</td>\n",
              "      <td>389.61</td>\n",
              "      <td>1.92</td>\n",
              "      <td>50.0</td>\n",
              "    </tr>\n",
              "    <tr>\n",
              "      <th>101</th>\n",
              "      <td>9.82349</td>\n",
              "      <td>0.0</td>\n",
              "      <td>18.10</td>\n",
              "      <td>0.0</td>\n",
              "      <td>0.671</td>\n",
              "      <td>6.794</td>\n",
              "      <td>98.8</td>\n",
              "      <td>1.3580</td>\n",
              "      <td>24.0</td>\n",
              "      <td>666.0</td>\n",
              "      <td>20.2</td>\n",
              "      <td>396.90</td>\n",
              "      <td>21.24</td>\n",
              "      <td>13.3</td>\n",
              "    </tr>\n",
              "  </tbody>\n",
              "</table>\n",
              "<p>102 rows × 14 columns</p>\n",
              "</div>"
            ],
            "text/plain": [
              "         CRIM    ZN  INDUS  CHAS    NOX  ...    TAX  PTRATIO       B  LSTAT  Target\n",
              "0     0.07165   0.0  25.65   0.0  0.581  ...  188.0     19.1  377.67  14.27    20.3\n",
              "1    11.08740   0.0  18.10   0.0  0.718  ...  666.0     20.2  318.75  15.02    16.7\n",
              "2     0.05561  70.0   2.24   0.0  0.400  ...  358.0     14.8  371.58   4.74    29.0\n",
              "3    51.13580   0.0  18.10   0.0  0.597  ...  666.0     20.2    2.60  10.11    15.0\n",
              "4     2.73397   0.0  19.58   0.0  0.871  ...  403.0     14.7  351.85  21.45    15.4\n",
              "..        ...   ...    ...   ...    ...  ...    ...      ...     ...    ...     ...\n",
              "97    0.62976   0.0   8.14   0.0  0.538  ...  307.0     21.0  396.90   8.26    20.4\n",
              "98    0.54050  20.0   3.97   0.0  0.575  ...  264.0     13.0  390.30   3.16    43.5\n",
              "99    1.65660   0.0  19.58   0.0  0.871  ...  403.0     14.7  372.80  14.10    21.5\n",
              "100   1.83377   0.0  19.58   1.0  0.605  ...  403.0     14.7  389.61   1.92    50.0\n",
              "101   9.82349   0.0  18.10   0.0  0.671  ...  666.0     20.2  396.90  21.24    13.3\n",
              "\n",
              "[102 rows x 14 columns]"
            ]
          },
          "metadata": {
            "tags": []
          },
          "execution_count": 162
        }
      ]
    },
    {
      "cell_type": "code",
      "metadata": {
        "id": "7Bmis_8tM4kH"
      },
      "source": [
        "scaler = StandardScaler()\r\n",
        "X_train_scale = scaler.fit_transform(X_train)\r\n",
        "X_test_scale = scaler.transform(X_test)"
      ],
      "execution_count": null,
      "outputs": []
    },
    {
      "cell_type": "code",
      "metadata": {
        "colab": {
          "base_uri": "https://localhost:8080/"
        },
        "id": "-j9x8FBwM4kQ",
        "outputId": "e3621ca9-0176-4c06-a53b-001a705351ae"
      },
      "source": [
        "model = KNeighborsRegressor()\r\n",
        "model.fit(X_train, y_train)"
      ],
      "execution_count": null,
      "outputs": [
        {
          "output_type": "execute_result",
          "data": {
            "text/plain": [
              "KNeighborsRegressor(algorithm='auto', leaf_size=30, metric='minkowski',\n",
              "                    metric_params=None, n_jobs=None, n_neighbors=5, p=2,\n",
              "                    weights='uniform')"
            ]
          },
          "metadata": {
            "tags": []
          },
          "execution_count": 164
        }
      ]
    },
    {
      "cell_type": "code",
      "metadata": {
        "colab": {
          "base_uri": "https://localhost:8080/"
        },
        "id": "eT2b9bxtMzZN",
        "outputId": "cdb4c4d6-6ffe-4b91-ecb5-7a73a5d33d7e"
      },
      "source": [
        "print(\"learning data score:{}\".format(model.score(X_train, y_train)))\r\n",
        "print(\"evaluate data score:{}\".format(model.score(X_test, y_test)))"
      ],
      "execution_count": null,
      "outputs": [
        {
          "output_type": "stream",
          "text": [
            "learning data score:0.7190603174596741\n",
            "evaluate data score:0.38826590990063403\n"
          ],
          "name": "stdout"
        }
      ]
    },
    {
      "cell_type": "code",
      "metadata": {
        "colab": {
          "base_uri": "https://localhost:8080/"
        },
        "id": "c1BiSpJ3Mzjl",
        "outputId": "ee394fab-7899-4375-e70c-d132309d67c5"
      },
      "source": [
        "model = KNeighborsRegressor()\r\n",
        "model.fit(X_train_scale, y_train)"
      ],
      "execution_count": null,
      "outputs": [
        {
          "output_type": "execute_result",
          "data": {
            "text/plain": [
              "KNeighborsRegressor(algorithm='auto', leaf_size=30, metric='minkowski',\n",
              "                    metric_params=None, n_jobs=None, n_neighbors=5, p=2,\n",
              "                    weights='uniform')"
            ]
          },
          "metadata": {
            "tags": []
          },
          "execution_count": 166
        }
      ]
    },
    {
      "cell_type": "code",
      "metadata": {
        "colab": {
          "base_uri": "https://localhost:8080/"
        },
        "id": "uoZOObKqNF-D",
        "outputId": "ebf3a892-6079-4f9f-9c75-f6d11a2e57e8"
      },
      "source": [
        "print(\"learning data score:{}\".format(model.score(X_train_scale, y_train)))\r\n",
        "print(\"evaluate data score:{}\".format(model.score(X_test_scale, y_test)))"
      ],
      "execution_count": null,
      "outputs": [
        {
          "output_type": "stream",
          "text": [
            "learning data score:0.8466822930424112\n",
            "evaluate data score:0.6036557566371517\n"
          ],
          "name": "stdout"
        }
      ]
    },
    {
      "cell_type": "code",
      "metadata": {
        "id": "UvtJK5TANbls"
      },
      "source": [
        "estimator = make_pipeline(\r\n",
        "    StandardScaler(),\r\n",
        "    KNeighborsRegressor()\r\n",
        ")"
      ],
      "execution_count": null,
      "outputs": []
    },
    {
      "cell_type": "code",
      "metadata": {
        "colab": {
          "base_uri": "https://localhost:8080/"
        },
        "id": "4Hwx0rYJNbl4",
        "outputId": "37855dc3-87d4-4810-f05d-943b79b70345"
      },
      "source": [
        "cross_validate(\r\n",
        "    estimator=estimator,\r\n",
        "    X=X, y=y,\r\n",
        "    cv=5,\r\n",
        "    n_jobs=multiprocessing.cpu_count(),\r\n",
        "    verbose=True\r\n",
        ")"
      ],
      "execution_count": null,
      "outputs": [
        {
          "output_type": "stream",
          "text": [
            "[Parallel(n_jobs=2)]: Using backend LokyBackend with 2 concurrent workers.\n",
            "[Parallel(n_jobs=2)]: Done   5 out of   5 | elapsed:    0.9s finished\n"
          ],
          "name": "stderr"
        },
        {
          "output_type": "execute_result",
          "data": {
            "text/plain": [
              "{'fit_time': array([0.00335956, 0.00304341, 0.00214171, 0.00270939, 0.00206399]),\n",
              " 'score_time': array([0.00533676, 0.00340366, 0.0027492 , 0.0031867 , 0.00230479]),\n",
              " 'test_score': array([0.56089547, 0.61917359, 0.48661916, 0.46986886, 0.23133037])}"
            ]
          },
          "metadata": {
            "tags": []
          },
          "execution_count": 169
        }
      ]
    },
    {
      "cell_type": "code",
      "metadata": {
        "id": "QcXTQIEiNbl5"
      },
      "source": [
        "pipe = Pipeline(\r\n",
        "    [('scaler', StandardScaler()),\r\n",
        "    ('model',KNeighborsRegressor())]\r\n",
        ")"
      ],
      "execution_count": null,
      "outputs": []
    },
    {
      "cell_type": "code",
      "metadata": {
        "id": "GEPE-cXkNbl5"
      },
      "source": [
        "param_grid = [{'model__n_neighbors':[3,5,7],\r\n",
        "               'model__weights': ['uniform','distance'],\r\n",
        "               'model__algorithm':['ball_tree','kd_tree','brute']}]"
      ],
      "execution_count": null,
      "outputs": []
    },
    {
      "cell_type": "code",
      "metadata": {
        "id": "uytG3yXONbl7"
      },
      "source": [
        "gs = GridSearchCV(\r\n",
        "    estimator=pipe,\r\n",
        "    param_grid=param_grid,\r\n",
        "    n_jobs=multiprocessing.cpu_count(),\r\n",
        "    verbose=True\r\n",
        ")"
      ],
      "execution_count": null,
      "outputs": []
    },
    {
      "cell_type": "code",
      "metadata": {
        "colab": {
          "base_uri": "https://localhost:8080/"
        },
        "id": "ZlpQO-kSNbl8",
        "outputId": "88cf30fe-a1fe-4c0e-d0f2-5351c4996d1a"
      },
      "source": [
        "gs.fit(X, y)"
      ],
      "execution_count": null,
      "outputs": [
        {
          "output_type": "stream",
          "text": [
            "Fitting 5 folds for each of 18 candidates, totalling 90 fits\n"
          ],
          "name": "stdout"
        },
        {
          "output_type": "stream",
          "text": [
            "[Parallel(n_jobs=2)]: Using backend LokyBackend with 2 concurrent workers.\n",
            "[Parallel(n_jobs=2)]: Done  90 out of  90 | elapsed:    0.4s finished\n"
          ],
          "name": "stderr"
        },
        {
          "output_type": "execute_result",
          "data": {
            "text/plain": [
              "GridSearchCV(cv=None, error_score=nan,\n",
              "             estimator=Pipeline(memory=None,\n",
              "                                steps=[('scaler',\n",
              "                                        StandardScaler(copy=True,\n",
              "                                                       with_mean=True,\n",
              "                                                       with_std=True)),\n",
              "                                       ('model',\n",
              "                                        KNeighborsRegressor(algorithm='auto',\n",
              "                                                            leaf_size=30,\n",
              "                                                            metric='minkowski',\n",
              "                                                            metric_params=None,\n",
              "                                                            n_jobs=None,\n",
              "                                                            n_neighbors=5, p=2,\n",
              "                                                            weights='uniform'))],\n",
              "                                verbose=False),\n",
              "             iid='deprecated', n_jobs=2,\n",
              "             param_grid=[{'model__algorithm': ['ball_tree', 'kd_tree', 'brute'],\n",
              "                          'model__n_neighbors': [3, 5, 7],\n",
              "                          'model__weights': ['uniform', 'distance']}],\n",
              "             pre_dispatch='2*n_jobs', refit=True, return_train_score=False,\n",
              "             scoring=None, verbose=True)"
            ]
          },
          "metadata": {
            "tags": []
          },
          "execution_count": 173
        }
      ]
    },
    {
      "cell_type": "code",
      "metadata": {
        "colab": {
          "base_uri": "https://localhost:8080/"
        },
        "id": "OBey_rX1Nbl8",
        "outputId": "3638bd53-2e4b-4665-a8cb-a21f926b0f13"
      },
      "source": [
        "gs.best_estimator_"
      ],
      "execution_count": null,
      "outputs": [
        {
          "output_type": "execute_result",
          "data": {
            "text/plain": [
              "Pipeline(memory=None,\n",
              "         steps=[('scaler',\n",
              "                 StandardScaler(copy=True, with_mean=True, with_std=True)),\n",
              "                ('model',\n",
              "                 KNeighborsRegressor(algorithm='ball_tree', leaf_size=30,\n",
              "                                     metric='minkowski', metric_params=None,\n",
              "                                     n_jobs=None, n_neighbors=7, p=2,\n",
              "                                     weights='distance'))],\n",
              "         verbose=False)"
            ]
          },
          "metadata": {
            "tags": []
          },
          "execution_count": 174
        }
      ]
    },
    {
      "cell_type": "code",
      "metadata": {
        "colab": {
          "base_uri": "https://localhost:8080/"
        },
        "id": "ofY_308UNbl9",
        "outputId": "16760df3-386f-4341-f8bc-209ca1c2f1a0"
      },
      "source": [
        "print(\"GS best score:{}\".format(gs.best_score_))"
      ],
      "execution_count": null,
      "outputs": [
        {
          "output_type": "stream",
          "text": [
            "GS best score:0.4973060611762845\n"
          ],
          "name": "stdout"
        }
      ]
    },
    {
      "cell_type": "code",
      "metadata": {
        "id": "QBN8lNqXNbl9"
      },
      "source": [
        "tsne = TSNE(n_components=1)\r\n",
        "X_comp = tsne.fit_transform(X)"
      ],
      "execution_count": null,
      "outputs": []
    },
    {
      "cell_type": "code",
      "metadata": {
        "colab": {
          "base_uri": "https://localhost:8080/",
          "height": 415
        },
        "id": "bjzQnx3PNbl-",
        "outputId": "983c4431-a9fd-4fd5-a3f7-159466740b5f"
      },
      "source": [
        "boston_comp_df = pd.DataFrame(data=X_comp)\r\n",
        "boston_comp_df['Target'] = y\r\n",
        "boston_comp_df"
      ],
      "execution_count": null,
      "outputs": [
        {
          "output_type": "execute_result",
          "data": {
            "text/html": [
              "<div>\n",
              "<style scoped>\n",
              "    .dataframe tbody tr th:only-of-type {\n",
              "        vertical-align: middle;\n",
              "    }\n",
              "\n",
              "    .dataframe tbody tr th {\n",
              "        vertical-align: top;\n",
              "    }\n",
              "\n",
              "    .dataframe thead th {\n",
              "        text-align: right;\n",
              "    }\n",
              "</style>\n",
              "<table border=\"1\" class=\"dataframe\">\n",
              "  <thead>\n",
              "    <tr style=\"text-align: right;\">\n",
              "      <th></th>\n",
              "      <th>0</th>\n",
              "      <th>Target</th>\n",
              "    </tr>\n",
              "  </thead>\n",
              "  <tbody>\n",
              "    <tr>\n",
              "      <th>0</th>\n",
              "      <td>-8.759900</td>\n",
              "      <td>24.0</td>\n",
              "    </tr>\n",
              "    <tr>\n",
              "      <th>1</th>\n",
              "      <td>11.479210</td>\n",
              "      <td>21.6</td>\n",
              "    </tr>\n",
              "    <tr>\n",
              "      <th>2</th>\n",
              "      <td>12.234463</td>\n",
              "      <td>34.7</td>\n",
              "    </tr>\n",
              "    <tr>\n",
              "      <th>3</th>\n",
              "      <td>13.657113</td>\n",
              "      <td>33.4</td>\n",
              "    </tr>\n",
              "    <tr>\n",
              "      <th>4</th>\n",
              "      <td>13.805850</td>\n",
              "      <td>36.2</td>\n",
              "    </tr>\n",
              "    <tr>\n",
              "      <th>...</th>\n",
              "      <td>...</td>\n",
              "      <td>...</td>\n",
              "    </tr>\n",
              "    <tr>\n",
              "      <th>501</th>\n",
              "      <td>-1.399494</td>\n",
              "      <td>22.4</td>\n",
              "    </tr>\n",
              "    <tr>\n",
              "      <th>502</th>\n",
              "      <td>-0.758505</td>\n",
              "      <td>20.6</td>\n",
              "    </tr>\n",
              "    <tr>\n",
              "      <th>503</th>\n",
              "      <td>0.027934</td>\n",
              "      <td>23.9</td>\n",
              "    </tr>\n",
              "    <tr>\n",
              "      <th>504</th>\n",
              "      <td>-0.016379</td>\n",
              "      <td>22.0</td>\n",
              "    </tr>\n",
              "    <tr>\n",
              "      <th>505</th>\n",
              "      <td>-0.474010</td>\n",
              "      <td>11.9</td>\n",
              "    </tr>\n",
              "  </tbody>\n",
              "</table>\n",
              "<p>506 rows × 2 columns</p>\n",
              "</div>"
            ],
            "text/plain": [
              "             0  Target\n",
              "0    -8.759900    24.0\n",
              "1    11.479210    21.6\n",
              "2    12.234463    34.7\n",
              "3    13.657113    33.4\n",
              "4    13.805850    36.2\n",
              "..         ...     ...\n",
              "501  -1.399494    22.4\n",
              "502  -0.758505    20.6\n",
              "503   0.027934    23.9\n",
              "504  -0.016379    22.0\n",
              "505  -0.474010    11.9\n",
              "\n",
              "[506 rows x 2 columns]"
            ]
          },
          "metadata": {
            "tags": []
          },
          "execution_count": 179
        }
      ]
    },
    {
      "cell_type": "code",
      "metadata": {
        "colab": {
          "base_uri": "https://localhost:8080/",
          "height": 262
        },
        "id": "ezQrEh7CNbl_",
        "outputId": "97b4bc77-b9aa-4391-aea4-58ef4790b046"
      },
      "source": [
        "plt.scatter(X_comp, y, c='b', cmap=plt.cm.coolwarm, s=20, edgecolors='k');\r\n"
      ],
      "execution_count": null,
      "outputs": [
        {
          "output_type": "display_data",
          "data": {
            "image/png": "[encoded data removed]",
            "text/plain": [
              "<Figure size 432x288 with 1 Axes>"
            ]
          },
          "metadata": {
            "tags": []
          }
        }
      ]
    },
    {
      "cell_type": "code",
      "metadata": {
        "id": "m3kyt218Nbl_"
      },
      "source": [
        "model = KNeighborsRegressor()\r\n",
        "model.fit(X_comp, y)\r\n",
        "predict = model.predict(X_comp)"
      ],
      "execution_count": null,
      "outputs": []
    },
    {
      "cell_type": "code",
      "metadata": {
        "colab": {
          "base_uri": "https://localhost:8080/",
          "height": 262
        },
        "id": "qvxXu9gENbl_",
        "outputId": "f48d37be-5be5-43b7-850f-91fe11877034"
      },
      "source": [
        "plt.scatter(X_comp, y, c='b', cmap=plt.cm.coolwarm, s=20, edgecolors='k');\r\n",
        "plt.scatter(X_comp, predict, c='r', cmap=plt.cm.coolwarm, s=20, edgecolors='k');"
      ],
      "execution_count": null,
      "outputs": [
        {
          "output_type": "display_data",
          "data": {
            "image/png": "[encoded data removed]",
            "text/plain": [
              "<Figure size 432x288 with 1 Axes>"
            ]
          },
          "metadata": {
            "tags": []
          }
        }
      ]
    },
    {
      "cell_type": "markdown",
      "metadata": {
        "id": "Ims_z3bwOwVl"
      },
      "source": [
        "california"
      ]
    },
    {
      "cell_type": "code",
      "metadata": {
        "id": "T324Ga4MO_dy"
      },
      "source": [
        "california = fetch_california_housing()"
      ],
      "execution_count": null,
      "outputs": []
    },
    {
      "cell_type": "code",
      "metadata": {
        "colab": {
          "base_uri": "https://localhost:8080/",
          "height": 415
        },
        "id": "a4CgmOfqO_eE",
        "outputId": "1b99bdf6-56d7-406e-8c41-f57ba0d8c957"
      },
      "source": [
        "california_df =pd.DataFrame(data=california.data, columns=california.feature_names)\r\n",
        "california_df['TARGET'] = california.target\r\n",
        "california_df"
      ],
      "execution_count": null,
      "outputs": [
        {
          "output_type": "execute_result",
          "data": {
            "text/html": [
              "<div>\n",
              "<style scoped>\n",
              "    .dataframe tbody tr th:only-of-type {\n",
              "        vertical-align: middle;\n",
              "    }\n",
              "\n",
              "    .dataframe tbody tr th {\n",
              "        vertical-align: top;\n",
              "    }\n",
              "\n",
              "    .dataframe thead th {\n",
              "        text-align: right;\n",
              "    }\n",
              "</style>\n",
              "<table border=\"1\" class=\"dataframe\">\n",
              "  <thead>\n",
              "    <tr style=\"text-align: right;\">\n",
              "      <th></th>\n",
              "      <th>MedInc</th>\n",
              "      <th>HouseAge</th>\n",
              "      <th>AveRooms</th>\n",
              "      <th>AveBedrms</th>\n",
              "      <th>Population</th>\n",
              "      <th>AveOccup</th>\n",
              "      <th>Latitude</th>\n",
              "      <th>Longitude</th>\n",
              "      <th>TARGET</th>\n",
              "    </tr>\n",
              "  </thead>\n",
              "  <tbody>\n",
              "    <tr>\n",
              "      <th>0</th>\n",
              "      <td>8.3252</td>\n",
              "      <td>41.0</td>\n",
              "      <td>6.984127</td>\n",
              "      <td>1.023810</td>\n",
              "      <td>322.0</td>\n",
              "      <td>2.555556</td>\n",
              "      <td>37.88</td>\n",
              "      <td>-122.23</td>\n",
              "      <td>4.526</td>\n",
              "    </tr>\n",
              "    <tr>\n",
              "      <th>1</th>\n",
              "      <td>8.3014</td>\n",
              "      <td>21.0</td>\n",
              "      <td>6.238137</td>\n",
              "      <td>0.971880</td>\n",
              "      <td>2401.0</td>\n",
              "      <td>2.109842</td>\n",
              "      <td>37.86</td>\n",
              "      <td>-122.22</td>\n",
              "      <td>3.585</td>\n",
              "    </tr>\n",
              "    <tr>\n",
              "      <th>2</th>\n",
              "      <td>7.2574</td>\n",
              "      <td>52.0</td>\n",
              "      <td>8.288136</td>\n",
              "      <td>1.073446</td>\n",
              "      <td>496.0</td>\n",
              "      <td>2.802260</td>\n",
              "      <td>37.85</td>\n",
              "      <td>-122.24</td>\n",
              "      <td>3.521</td>\n",
              "    </tr>\n",
              "    <tr>\n",
              "      <th>3</th>\n",
              "      <td>5.6431</td>\n",
              "      <td>52.0</td>\n",
              "      <td>5.817352</td>\n",
              "      <td>1.073059</td>\n",
              "      <td>558.0</td>\n",
              "      <td>2.547945</td>\n",
              "      <td>37.85</td>\n",
              "      <td>-122.25</td>\n",
              "      <td>3.413</td>\n",
              "    </tr>\n",
              "    <tr>\n",
              "      <th>4</th>\n",
              "      <td>3.8462</td>\n",
              "      <td>52.0</td>\n",
              "      <td>6.281853</td>\n",
              "      <td>1.081081</td>\n",
              "      <td>565.0</td>\n",
              "      <td>2.181467</td>\n",
              "      <td>37.85</td>\n",
              "      <td>-122.25</td>\n",
              "      <td>3.422</td>\n",
              "    </tr>\n",
              "    <tr>\n",
              "      <th>...</th>\n",
              "      <td>...</td>\n",
              "      <td>...</td>\n",
              "      <td>...</td>\n",
              "      <td>...</td>\n",
              "      <td>...</td>\n",
              "      <td>...</td>\n",
              "      <td>...</td>\n",
              "      <td>...</td>\n",
              "      <td>...</td>\n",
              "    </tr>\n",
              "    <tr>\n",
              "      <th>20635</th>\n",
              "      <td>1.5603</td>\n",
              "      <td>25.0</td>\n",
              "      <td>5.045455</td>\n",
              "      <td>1.133333</td>\n",
              "      <td>845.0</td>\n",
              "      <td>2.560606</td>\n",
              "      <td>39.48</td>\n",
              "      <td>-121.09</td>\n",
              "      <td>0.781</td>\n",
              "    </tr>\n",
              "    <tr>\n",
              "      <th>20636</th>\n",
              "      <td>2.5568</td>\n",
              "      <td>18.0</td>\n",
              "      <td>6.114035</td>\n",
              "      <td>1.315789</td>\n",
              "      <td>356.0</td>\n",
              "      <td>3.122807</td>\n",
              "      <td>39.49</td>\n",
              "      <td>-121.21</td>\n",
              "      <td>0.771</td>\n",
              "    </tr>\n",
              "    <tr>\n",
              "      <th>20637</th>\n",
              "      <td>1.7000</td>\n",
              "      <td>17.0</td>\n",
              "      <td>5.205543</td>\n",
              "      <td>1.120092</td>\n",
              "      <td>1007.0</td>\n",
              "      <td>2.325635</td>\n",
              "      <td>39.43</td>\n",
              "      <td>-121.22</td>\n",
              "      <td>0.923</td>\n",
              "    </tr>\n",
              "    <tr>\n",
              "      <th>20638</th>\n",
              "      <td>1.8672</td>\n",
              "      <td>18.0</td>\n",
              "      <td>5.329513</td>\n",
              "      <td>1.171920</td>\n",
              "      <td>741.0</td>\n",
              "      <td>2.123209</td>\n",
              "      <td>39.43</td>\n",
              "      <td>-121.32</td>\n",
              "      <td>0.847</td>\n",
              "    </tr>\n",
              "    <tr>\n",
              "      <th>20639</th>\n",
              "      <td>2.3886</td>\n",
              "      <td>16.0</td>\n",
              "      <td>5.254717</td>\n",
              "      <td>1.162264</td>\n",
              "      <td>1387.0</td>\n",
              "      <td>2.616981</td>\n",
              "      <td>39.37</td>\n",
              "      <td>-121.24</td>\n",
              "      <td>0.894</td>\n",
              "    </tr>\n",
              "  </tbody>\n",
              "</table>\n",
              "<p>20640 rows × 9 columns</p>\n",
              "</div>"
            ],
            "text/plain": [
              "       MedInc  HouseAge  AveRooms  ...  Latitude  Longitude  TARGET\n",
              "0      8.3252      41.0  6.984127  ...     37.88    -122.23   4.526\n",
              "1      8.3014      21.0  6.238137  ...     37.86    -122.22   3.585\n",
              "2      7.2574      52.0  8.288136  ...     37.85    -122.24   3.521\n",
              "3      5.6431      52.0  5.817352  ...     37.85    -122.25   3.413\n",
              "4      3.8462      52.0  6.281853  ...     37.85    -122.25   3.422\n",
              "...       ...       ...       ...  ...       ...        ...     ...\n",
              "20635  1.5603      25.0  5.045455  ...     39.48    -121.09   0.781\n",
              "20636  2.5568      18.0  6.114035  ...     39.49    -121.21   0.771\n",
              "20637  1.7000      17.0  5.205543  ...     39.43    -121.22   0.923\n",
              "20638  1.8672      18.0  5.329513  ...     39.43    -121.32   0.847\n",
              "20639  2.3886      16.0  5.254717  ...     39.37    -121.24   0.894\n",
              "\n",
              "[20640 rows x 9 columns]"
            ]
          },
          "metadata": {
            "tags": []
          },
          "execution_count": 185
        }
      ]
    },
    {
      "cell_type": "code",
      "metadata": {
        "id": "oJAbuByeO_eJ"
      },
      "source": [
        "X, y = california.data, california.target\r\n",
        "X_train, X_test, y_train, y_test = train_test_split(X, y, test_size=0.2)"
      ],
      "execution_count": null,
      "outputs": []
    },
    {
      "cell_type": "code",
      "metadata": {
        "colab": {
          "base_uri": "https://localhost:8080/",
          "height": 415
        },
        "id": "K3CanDGwO_eL",
        "outputId": "13f6ea05-220b-4e4a-e80d-afd51927d4a6"
      },
      "source": [
        "california_train_df = pd.DataFrame(data=X_train, columns=california.feature_names)\r\n",
        "california_train_df['Target'] = y_train\r\n",
        "california_train_df"
      ],
      "execution_count": null,
      "outputs": [
        {
          "output_type": "execute_result",
          "data": {
            "text/html": [
              "<div>\n",
              "<style scoped>\n",
              "    .dataframe tbody tr th:only-of-type {\n",
              "        vertical-align: middle;\n",
              "    }\n",
              "\n",
              "    .dataframe tbody tr th {\n",
              "        vertical-align: top;\n",
              "    }\n",
              "\n",
              "    .dataframe thead th {\n",
              "        text-align: right;\n",
              "    }\n",
              "</style>\n",
              "<table border=\"1\" class=\"dataframe\">\n",
              "  <thead>\n",
              "    <tr style=\"text-align: right;\">\n",
              "      <th></th>\n",
              "      <th>MedInc</th>\n",
              "      <th>HouseAge</th>\n",
              "      <th>AveRooms</th>\n",
              "      <th>AveBedrms</th>\n",
              "      <th>Population</th>\n",
              "      <th>AveOccup</th>\n",
              "      <th>Latitude</th>\n",
              "      <th>Longitude</th>\n",
              "      <th>Target</th>\n",
              "    </tr>\n",
              "  </thead>\n",
              "  <tbody>\n",
              "    <tr>\n",
              "      <th>0</th>\n",
              "      <td>3.6484</td>\n",
              "      <td>16.0</td>\n",
              "      <td>3.456268</td>\n",
              "      <td>1.056851</td>\n",
              "      <td>1738.0</td>\n",
              "      <td>2.533528</td>\n",
              "      <td>33.61</td>\n",
              "      <td>-117.70</td>\n",
              "      <td>3.22600</td>\n",
              "    </tr>\n",
              "    <tr>\n",
              "      <th>1</th>\n",
              "      <td>9.3125</td>\n",
              "      <td>27.0</td>\n",
              "      <td>6.233083</td>\n",
              "      <td>0.857143</td>\n",
              "      <td>383.0</td>\n",
              "      <td>2.879699</td>\n",
              "      <td>33.90</td>\n",
              "      <td>-117.91</td>\n",
              "      <td>2.93500</td>\n",
              "    </tr>\n",
              "    <tr>\n",
              "      <th>2</th>\n",
              "      <td>2.0109</td>\n",
              "      <td>15.0</td>\n",
              "      <td>7.124542</td>\n",
              "      <td>1.963370</td>\n",
              "      <td>515.0</td>\n",
              "      <td>1.886447</td>\n",
              "      <td>33.40</td>\n",
              "      <td>-115.99</td>\n",
              "      <td>0.54300</td>\n",
              "    </tr>\n",
              "    <tr>\n",
              "      <th>3</th>\n",
              "      <td>4.5417</td>\n",
              "      <td>50.0</td>\n",
              "      <td>5.038462</td>\n",
              "      <td>0.989510</td>\n",
              "      <td>1159.0</td>\n",
              "      <td>4.052448</td>\n",
              "      <td>37.71</td>\n",
              "      <td>-122.45</td>\n",
              "      <td>2.33700</td>\n",
              "    </tr>\n",
              "    <tr>\n",
              "      <th>4</th>\n",
              "      <td>2.9571</td>\n",
              "      <td>18.0</td>\n",
              "      <td>4.968791</td>\n",
              "      <td>1.033810</td>\n",
              "      <td>2831.0</td>\n",
              "      <td>3.681404</td>\n",
              "      <td>33.77</td>\n",
              "      <td>-118.30</td>\n",
              "      <td>3.46200</td>\n",
              "    </tr>\n",
              "    <tr>\n",
              "      <th>...</th>\n",
              "      <td>...</td>\n",
              "      <td>...</td>\n",
              "      <td>...</td>\n",
              "      <td>...</td>\n",
              "      <td>...</td>\n",
              "      <td>...</td>\n",
              "      <td>...</td>\n",
              "      <td>...</td>\n",
              "      <td>...</td>\n",
              "    </tr>\n",
              "    <tr>\n",
              "      <th>16507</th>\n",
              "      <td>8.1189</td>\n",
              "      <td>52.0</td>\n",
              "      <td>8.154762</td>\n",
              "      <td>1.051587</td>\n",
              "      <td>735.0</td>\n",
              "      <td>2.916667</td>\n",
              "      <td>37.74</td>\n",
              "      <td>-122.47</td>\n",
              "      <td>5.00001</td>\n",
              "    </tr>\n",
              "    <tr>\n",
              "      <th>16508</th>\n",
              "      <td>3.6923</td>\n",
              "      <td>18.0</td>\n",
              "      <td>3.652038</td>\n",
              "      <td>1.043887</td>\n",
              "      <td>855.0</td>\n",
              "      <td>2.680251</td>\n",
              "      <td>37.59</td>\n",
              "      <td>-122.02</td>\n",
              "      <td>2.13200</td>\n",
              "    </tr>\n",
              "    <tr>\n",
              "      <th>16509</th>\n",
              "      <td>5.0865</td>\n",
              "      <td>36.0</td>\n",
              "      <td>6.086331</td>\n",
              "      <td>0.946043</td>\n",
              "      <td>778.0</td>\n",
              "      <td>2.798561</td>\n",
              "      <td>34.20</td>\n",
              "      <td>-118.31</td>\n",
              "      <td>3.49600</td>\n",
              "    </tr>\n",
              "    <tr>\n",
              "      <th>16510</th>\n",
              "      <td>3.5900</td>\n",
              "      <td>34.0</td>\n",
              "      <td>4.257732</td>\n",
              "      <td>1.054983</td>\n",
              "      <td>869.0</td>\n",
              "      <td>2.986254</td>\n",
              "      <td>33.87</td>\n",
              "      <td>-117.99</td>\n",
              "      <td>1.61900</td>\n",
              "    </tr>\n",
              "    <tr>\n",
              "      <th>16511</th>\n",
              "      <td>4.1154</td>\n",
              "      <td>26.0</td>\n",
              "      <td>6.191045</td>\n",
              "      <td>1.062687</td>\n",
              "      <td>1228.0</td>\n",
              "      <td>3.665672</td>\n",
              "      <td>32.63</td>\n",
              "      <td>-117.04</td>\n",
              "      <td>1.60200</td>\n",
              "    </tr>\n",
              "  </tbody>\n",
              "</table>\n",
              "<p>16512 rows × 9 columns</p>\n",
              "</div>"
            ],
            "text/plain": [
              "       MedInc  HouseAge  AveRooms  ...  Latitude  Longitude   Target\n",
              "0      3.6484      16.0  3.456268  ...     33.61    -117.70  3.22600\n",
              "1      9.3125      27.0  6.233083  ...     33.90    -117.91  2.93500\n",
              "2      2.0109      15.0  7.124542  ...     33.40    -115.99  0.54300\n",
              "3      4.5417      50.0  5.038462  ...     37.71    -122.45  2.33700\n",
              "4      2.9571      18.0  4.968791  ...     33.77    -118.30  3.46200\n",
              "...       ...       ...       ...  ...       ...        ...      ...\n",
              "16507  8.1189      52.0  8.154762  ...     37.74    -122.47  5.00001\n",
              "16508  3.6923      18.0  3.652038  ...     37.59    -122.02  2.13200\n",
              "16509  5.0865      36.0  6.086331  ...     34.20    -118.31  3.49600\n",
              "16510  3.5900      34.0  4.257732  ...     33.87    -117.99  1.61900\n",
              "16511  4.1154      26.0  6.191045  ...     32.63    -117.04  1.60200\n",
              "\n",
              "[16512 rows x 9 columns]"
            ]
          },
          "metadata": {
            "tags": []
          },
          "execution_count": 189
        }
      ]
    },
    {
      "cell_type": "code",
      "metadata": {
        "colab": {
          "base_uri": "https://localhost:8080/",
          "height": 415
        },
        "id": "VomDQtsDO_eM",
        "outputId": "eda83741-5a81-48ea-fc56-be153dbf567e"
      },
      "source": [
        "california_test_df = pd.DataFrame(data=X_test, columns=california.feature_names)\r\n",
        "california_test_df['Target'] = y_test\r\n",
        "california_test_df"
      ],
      "execution_count": null,
      "outputs": [
        {
          "output_type": "execute_result",
          "data": {
            "text/html": [
              "<div>\n",
              "<style scoped>\n",
              "    .dataframe tbody tr th:only-of-type {\n",
              "        vertical-align: middle;\n",
              "    }\n",
              "\n",
              "    .dataframe tbody tr th {\n",
              "        vertical-align: top;\n",
              "    }\n",
              "\n",
              "    .dataframe thead th {\n",
              "        text-align: right;\n",
              "    }\n",
              "</style>\n",
              "<table border=\"1\" class=\"dataframe\">\n",
              "  <thead>\n",
              "    <tr style=\"text-align: right;\">\n",
              "      <th></th>\n",
              "      <th>MedInc</th>\n",
              "      <th>HouseAge</th>\n",
              "      <th>AveRooms</th>\n",
              "      <th>AveBedrms</th>\n",
              "      <th>Population</th>\n",
              "      <th>AveOccup</th>\n",
              "      <th>Latitude</th>\n",
              "      <th>Longitude</th>\n",
              "      <th>Target</th>\n",
              "    </tr>\n",
              "  </thead>\n",
              "  <tbody>\n",
              "    <tr>\n",
              "      <th>0</th>\n",
              "      <td>1.6221</td>\n",
              "      <td>41.0</td>\n",
              "      <td>3.825607</td>\n",
              "      <td>1.086093</td>\n",
              "      <td>1776.0</td>\n",
              "      <td>3.920530</td>\n",
              "      <td>34.00</td>\n",
              "      <td>-118.26</td>\n",
              "      <td>1.042</td>\n",
              "    </tr>\n",
              "    <tr>\n",
              "      <th>1</th>\n",
              "      <td>6.2045</td>\n",
              "      <td>29.0</td>\n",
              "      <td>5.951923</td>\n",
              "      <td>1.043269</td>\n",
              "      <td>1217.0</td>\n",
              "      <td>2.925481</td>\n",
              "      <td>37.31</td>\n",
              "      <td>-122.04</td>\n",
              "      <td>3.938</td>\n",
              "    </tr>\n",
              "    <tr>\n",
              "      <th>2</th>\n",
              "      <td>3.6681</td>\n",
              "      <td>34.0</td>\n",
              "      <td>5.326761</td>\n",
              "      <td>0.909859</td>\n",
              "      <td>966.0</td>\n",
              "      <td>2.721127</td>\n",
              "      <td>36.79</td>\n",
              "      <td>-119.71</td>\n",
              "      <td>0.820</td>\n",
              "    </tr>\n",
              "    <tr>\n",
              "      <th>3</th>\n",
              "      <td>2.4408</td>\n",
              "      <td>32.0</td>\n",
              "      <td>4.457207</td>\n",
              "      <td>1.105856</td>\n",
              "      <td>954.0</td>\n",
              "      <td>2.148649</td>\n",
              "      <td>33.95</td>\n",
              "      <td>-117.40</td>\n",
              "      <td>1.173</td>\n",
              "    </tr>\n",
              "    <tr>\n",
              "      <th>4</th>\n",
              "      <td>3.0927</td>\n",
              "      <td>40.0</td>\n",
              "      <td>4.818182</td>\n",
              "      <td>1.012987</td>\n",
              "      <td>584.0</td>\n",
              "      <td>2.528139</td>\n",
              "      <td>33.98</td>\n",
              "      <td>-118.36</td>\n",
              "      <td>3.160</td>\n",
              "    </tr>\n",
              "    <tr>\n",
              "      <th>...</th>\n",
              "      <td>...</td>\n",
              "      <td>...</td>\n",
              "      <td>...</td>\n",
              "      <td>...</td>\n",
              "      <td>...</td>\n",
              "      <td>...</td>\n",
              "      <td>...</td>\n",
              "      <td>...</td>\n",
              "      <td>...</td>\n",
              "    </tr>\n",
              "    <tr>\n",
              "      <th>4123</th>\n",
              "      <td>3.0645</td>\n",
              "      <td>20.0</td>\n",
              "      <td>5.215789</td>\n",
              "      <td>1.087719</td>\n",
              "      <td>1996.0</td>\n",
              "      <td>3.501754</td>\n",
              "      <td>37.65</td>\n",
              "      <td>-121.02</td>\n",
              "      <td>1.060</td>\n",
              "    </tr>\n",
              "    <tr>\n",
              "      <th>4124</th>\n",
              "      <td>2.9821</td>\n",
              "      <td>45.0</td>\n",
              "      <td>4.481481</td>\n",
              "      <td>0.925926</td>\n",
              "      <td>67.0</td>\n",
              "      <td>2.481481</td>\n",
              "      <td>34.33</td>\n",
              "      <td>-118.68</td>\n",
              "      <td>3.250</td>\n",
              "    </tr>\n",
              "    <tr>\n",
              "      <th>4125</th>\n",
              "      <td>3.8000</td>\n",
              "      <td>41.0</td>\n",
              "      <td>4.773893</td>\n",
              "      <td>1.023310</td>\n",
              "      <td>1191.0</td>\n",
              "      <td>2.776224</td>\n",
              "      <td>33.91</td>\n",
              "      <td>-118.36</td>\n",
              "      <td>2.225</td>\n",
              "    </tr>\n",
              "    <tr>\n",
              "      <th>4126</th>\n",
              "      <td>2.3000</td>\n",
              "      <td>40.0</td>\n",
              "      <td>3.818841</td>\n",
              "      <td>0.909420</td>\n",
              "      <td>1056.0</td>\n",
              "      <td>3.826087</td>\n",
              "      <td>34.17</td>\n",
              "      <td>-118.14</td>\n",
              "      <td>1.467</td>\n",
              "    </tr>\n",
              "    <tr>\n",
              "      <th>4127</th>\n",
              "      <td>4.3851</td>\n",
              "      <td>16.0</td>\n",
              "      <td>5.531365</td>\n",
              "      <td>0.922509</td>\n",
              "      <td>1292.0</td>\n",
              "      <td>4.767528</td>\n",
              "      <td>37.67</td>\n",
              "      <td>-120.97</td>\n",
              "      <td>1.173</td>\n",
              "    </tr>\n",
              "  </tbody>\n",
              "</table>\n",
              "<p>4128 rows × 9 columns</p>\n",
              "</div>"
            ],
            "text/plain": [
              "      MedInc  HouseAge  AveRooms  ...  Latitude  Longitude  Target\n",
              "0     1.6221      41.0  3.825607  ...     34.00    -118.26   1.042\n",
              "1     6.2045      29.0  5.951923  ...     37.31    -122.04   3.938\n",
              "2     3.6681      34.0  5.326761  ...     36.79    -119.71   0.820\n",
              "3     2.4408      32.0  4.457207  ...     33.95    -117.40   1.173\n",
              "4     3.0927      40.0  4.818182  ...     33.98    -118.36   3.160\n",
              "...      ...       ...       ...  ...       ...        ...     ...\n",
              "4123  3.0645      20.0  5.215789  ...     37.65    -121.02   1.060\n",
              "4124  2.9821      45.0  4.481481  ...     34.33    -118.68   3.250\n",
              "4125  3.8000      41.0  4.773893  ...     33.91    -118.36   2.225\n",
              "4126  2.3000      40.0  3.818841  ...     34.17    -118.14   1.467\n",
              "4127  4.3851      16.0  5.531365  ...     37.67    -120.97   1.173\n",
              "\n",
              "[4128 rows x 9 columns]"
            ]
          },
          "metadata": {
            "tags": []
          },
          "execution_count": 190
        }
      ]
    },
    {
      "cell_type": "code",
      "metadata": {
        "id": "sJSkH_8KO_eN"
      },
      "source": [
        "scaler = StandardScaler()\r\n",
        "X_train_scale = scaler.fit_transform(X_train)\r\n",
        "X_test_scale = scaler.transform(X_test)"
      ],
      "execution_count": null,
      "outputs": []
    },
    {
      "cell_type": "code",
      "metadata": {
        "colab": {
          "base_uri": "https://localhost:8080/"
        },
        "id": "g9yMz9YHO_eO",
        "outputId": "9f98febc-6b4c-4bc8-d41a-0d8615018ec9"
      },
      "source": [
        "model = KNeighborsRegressor()\r\n",
        "model.fit(X_train, y_train)"
      ],
      "execution_count": null,
      "outputs": [
        {
          "output_type": "execute_result",
          "data": {
            "text/plain": [
              "KNeighborsRegressor(algorithm='auto', leaf_size=30, metric='minkowski',\n",
              "                    metric_params=None, n_jobs=None, n_neighbors=5, p=2,\n",
              "                    weights='uniform')"
            ]
          },
          "metadata": {
            "tags": []
          },
          "execution_count": 192
        }
      ]
    },
    {
      "cell_type": "code",
      "metadata": {
        "colab": {
          "base_uri": "https://localhost:8080/"
        },
        "id": "OEJoYJ8zO_eP",
        "outputId": "99bf9ec0-3ad9-4780-f5f1-f7575444b707"
      },
      "source": [
        "print(\"learning data score:{}\".format(model.score(X_train, y_train)))\r\n",
        "print(\"evaluate data score:{}\".format(model.score(X_test, y_test)))"
      ],
      "execution_count": null,
      "outputs": [
        {
          "output_type": "stream",
          "text": [
            "learning data score:0.4512521160459112\n",
            "evaluate data score:0.16709351030765784\n"
          ],
          "name": "stdout"
        }
      ]
    },
    {
      "cell_type": "code",
      "metadata": {
        "colab": {
          "base_uri": "https://localhost:8080/"
        },
        "id": "9KtGOFSuO_eQ",
        "outputId": "aefd4a3f-da78-4ada-ed8b-57a848a9fb5b"
      },
      "source": [
        "model = KNeighborsRegressor()\r\n",
        "model.fit(X_train_scale, y_train)"
      ],
      "execution_count": null,
      "outputs": [
        {
          "output_type": "execute_result",
          "data": {
            "text/plain": [
              "KNeighborsRegressor(algorithm='auto', leaf_size=30, metric='minkowski',\n",
              "                    metric_params=None, n_jobs=None, n_neighbors=5, p=2,\n",
              "                    weights='uniform')"
            ]
          },
          "metadata": {
            "tags": []
          },
          "execution_count": 194
        }
      ]
    },
    {
      "cell_type": "code",
      "metadata": {
        "colab": {
          "base_uri": "https://localhost:8080/"
        },
        "id": "jTeIOOYdO_eR",
        "outputId": "f65ec92c-c8db-450a-8172-c3fa549db69f"
      },
      "source": [
        "print(\"learning data score:{}\".format(model.score(X_train_scale, y_train)))\r\n",
        "print(\"evaluate data score:{}\".format(model.score(X_test_scale, y_test)))"
      ],
      "execution_count": null,
      "outputs": [
        {
          "output_type": "stream",
          "text": [
            "learning data score:0.7923535356574403\n",
            "evaluate data score:0.6793625884624944\n"
          ],
          "name": "stdout"
        }
      ]
    },
    {
      "cell_type": "code",
      "metadata": {
        "id": "uxZUqok8O_eR"
      },
      "source": [
        "estimator = make_pipeline(\r\n",
        "    StandardScaler(),\r\n",
        "    KNeighborsRegressor()\r\n",
        ")"
      ],
      "execution_count": null,
      "outputs": []
    },
    {
      "cell_type": "code",
      "metadata": {
        "colab": {
          "base_uri": "https://localhost:8080/"
        },
        "id": "AYF1e_QSO_eS",
        "outputId": "ec2c9ea5-cd12-4a34-f343-4dd0c3a0ed17"
      },
      "source": [
        "cross_validate(\r\n",
        "    estimator=estimator,\r\n",
        "    X=X, y=y,\r\n",
        "    cv=5,\r\n",
        "    n_jobs=multiprocessing.cpu_count(),\r\n",
        "    verbose=True\r\n",
        ")"
      ],
      "execution_count": null,
      "outputs": [
        {
          "output_type": "stream",
          "text": [
            "[Parallel(n_jobs=2)]: Using backend LokyBackend with 2 concurrent workers.\n",
            "[Parallel(n_jobs=2)]: Done   5 out of   5 | elapsed:    2.6s finished\n"
          ],
          "name": "stderr"
        },
        {
          "output_type": "execute_result",
          "data": {
            "text/plain": [
              "{'fit_time': array([0.04386306, 0.04428744, 0.04025698, 0.03683329, 0.03698945]),\n",
              " 'score_time': array([0.60397434, 0.50756764, 0.52380371, 0.62822342, 0.41102409]),\n",
              " 'test_score': array([0.47879396, 0.4760079 , 0.57624554, 0.50259828, 0.57228584])}"
            ]
          },
          "metadata": {
            "tags": []
          },
          "execution_count": 197
        }
      ]
    },
    {
      "cell_type": "code",
      "metadata": {
        "id": "D8ul0JdiO_eS"
      },
      "source": [
        "pipe = Pipeline(\r\n",
        "    [('scaler', StandardScaler()),\r\n",
        "    ('model',KNeighborsRegressor())]\r\n",
        ")"
      ],
      "execution_count": null,
      "outputs": []
    },
    {
      "cell_type": "code",
      "metadata": {
        "id": "lbQ8FHnvO_eT"
      },
      "source": [
        "param_grid = [{'model__n_neighbors':[3,5,7],\r\n",
        "               'model__weights': ['uniform','distance'],\r\n",
        "               'model__algorithm':['ball_tree','kd_tree','brute']}]"
      ],
      "execution_count": null,
      "outputs": []
    },
    {
      "cell_type": "code",
      "metadata": {
        "id": "yDBUJbkMO_eT"
      },
      "source": [
        "gs = GridSearchCV(\r\n",
        "    estimator=pipe,\r\n",
        "    param_grid=param_grid,\r\n",
        "    n_jobs=multiprocessing.cpu_count(),\r\n",
        "    verbose=True\r\n",
        ")"
      ],
      "execution_count": null,
      "outputs": []
    },
    {
      "cell_type": "code",
      "metadata": {
        "colab": {
          "base_uri": "https://localhost:8080/"
        },
        "id": "kIyJaqYFO_eU",
        "outputId": "4f0ff327-7ea7-43d7-d4da-fb473080ad95"
      },
      "source": [
        "gs.fit(X, y)"
      ],
      "execution_count": null,
      "outputs": [
        {
          "output_type": "stream",
          "text": [
            "Fitting 5 folds for each of 18 candidates, totalling 90 fits\n"
          ],
          "name": "stdout"
        },
        {
          "output_type": "stream",
          "text": [
            "[Parallel(n_jobs=2)]: Using backend LokyBackend with 2 concurrent workers.\n",
            "[Parallel(n_jobs=2)]: Done  46 tasks      | elapsed:   24.7s\n",
            "/usr/local/lib/python3.6/dist-packages/joblib/externals/loky/process_executor.py:691: UserWarning: A worker stopped while some jobs were given to the executor. This can be caused by a too short worker timeout or by a memory leak.\n",
            "  \"timeout or by a memory leak.\", UserWarning\n",
            "[Parallel(n_jobs=2)]: Done  90 out of  90 | elapsed:  1.2min finished\n"
          ],
          "name": "stderr"
        },
        {
          "output_type": "execute_result",
          "data": {
            "text/plain": [
              "GridSearchCV(cv=None, error_score=nan,\n",
              "             estimator=Pipeline(memory=None,\n",
              "                                steps=[('scaler',\n",
              "                                        StandardScaler(copy=True,\n",
              "                                                       with_mean=True,\n",
              "                                                       with_std=True)),\n",
              "                                       ('model',\n",
              "                                        KNeighborsRegressor(algorithm='auto',\n",
              "                                                            leaf_size=30,\n",
              "                                                            metric='minkowski',\n",
              "                                                            metric_params=None,\n",
              "                                                            n_jobs=None,\n",
              "                                                            n_neighbors=5, p=2,\n",
              "                                                            weights='uniform'))],\n",
              "                                verbose=False),\n",
              "             iid='deprecated', n_jobs=2,\n",
              "             param_grid=[{'model__algorithm': ['ball_tree', 'kd_tree', 'brute'],\n",
              "                          'model__n_neighbors': [3, 5, 7],\n",
              "                          'model__weights': ['uniform', 'distance']}],\n",
              "             pre_dispatch='2*n_jobs', refit=True, return_train_score=False,\n",
              "             scoring=None, verbose=True)"
            ]
          },
          "metadata": {
            "tags": []
          },
          "execution_count": 202
        }
      ]
    },
    {
      "cell_type": "code",
      "metadata": {
        "colab": {
          "base_uri": "https://localhost:8080/"
        },
        "id": "c7jLSIEuO_eU",
        "outputId": "796180c0-f969-43da-9f79-f92319c8778c"
      },
      "source": [
        "gs.best_estimator_"
      ],
      "execution_count": null,
      "outputs": [
        {
          "output_type": "execute_result",
          "data": {
            "text/plain": [
              "Pipeline(memory=None,\n",
              "         steps=[('scaler',\n",
              "                 StandardScaler(copy=True, with_mean=True, with_std=True)),\n",
              "                ('model',\n",
              "                 KNeighborsRegressor(algorithm='ball_tree', leaf_size=30,\n",
              "                                     metric='minkowski', metric_params=None,\n",
              "                                     n_jobs=None, n_neighbors=7, p=2,\n",
              "                                     weights='distance'))],\n",
              "         verbose=False)"
            ]
          },
          "metadata": {
            "tags": []
          },
          "execution_count": 203
        }
      ]
    },
    {
      "cell_type": "code",
      "metadata": {
        "colab": {
          "base_uri": "https://localhost:8080/"
        },
        "id": "Opr_nwCnO_eV",
        "outputId": "d541fcc9-5010-4fb4-ec70-d55c1fa3df96"
      },
      "source": [
        "print(\"GS best score:{}\".format(gs.best_score_))"
      ],
      "execution_count": null,
      "outputs": [
        {
          "output_type": "stream",
          "text": [
            "GS best score:0.5376515274379832\n"
          ],
          "name": "stdout"
        }
      ]
    },
    {
      "cell_type": "code",
      "metadata": {
        "colab": {
          "base_uri": "https://localhost:8080/",
          "height": 368
        },
        "id": "bmEnYOlgO_eV",
        "outputId": "943bfd1d-b1a0-41b8-bac4-8d062fe8d8a0"
      },
      "source": [
        "tsne = TSNE(n_components=1)\r\n",
        "X_comp = tsne.fit_transform(X)"
      ],
      "execution_count": null,
      "outputs": [
        {
          "output_type": "error",
          "ename": "KeyboardInterrupt",
          "evalue": "ignored",
          "traceback": [
            "\u001b[0;31m---------------------------------------------------------------------------\u001b[0m",
            "\u001b[0;31mKeyboardInterrupt\u001b[0m                         Traceback (most recent call last)",
            "\u001b[0;32m<ipython-input-205-51089ca0247d>\u001b[0m in \u001b[0;36m<module>\u001b[0;34m()\u001b[0m\n\u001b[1;32m      1\u001b[0m \u001b[0mtsne\u001b[0m \u001b[0;34m=\u001b[0m \u001b[0mTSNE\u001b[0m\u001b[0;34m(\u001b[0m\u001b[0mn_components\u001b[0m\u001b[0;34m=\u001b[0m\u001b[0;36m1\u001b[0m\u001b[0;34m)\u001b[0m\u001b[0;34m\u001b[0m\u001b[0;34m\u001b[0m\u001b[0m\n\u001b[0;32m----> 2\u001b[0;31m \u001b[0mX_comp\u001b[0m \u001b[0;34m=\u001b[0m \u001b[0mtsne\u001b[0m\u001b[0;34m.\u001b[0m\u001b[0mfit_transform\u001b[0m\u001b[0;34m(\u001b[0m\u001b[0mX\u001b[0m\u001b[0;34m)\u001b[0m\u001b[0;34m\u001b[0m\u001b[0;34m\u001b[0m\u001b[0m\n\u001b[0m",
            "\u001b[0;32m/usr/local/lib/python3.6/dist-packages/sklearn/manifold/_t_sne.py\u001b[0m in \u001b[0;36mfit_transform\u001b[0;34m(self, X, y)\u001b[0m\n\u001b[1;32m    884\u001b[0m             \u001b[0mEmbedding\u001b[0m \u001b[0mof\u001b[0m \u001b[0mthe\u001b[0m \u001b[0mtraining\u001b[0m \u001b[0mdata\u001b[0m \u001b[0;32min\u001b[0m \u001b[0mlow\u001b[0m\u001b[0;34m-\u001b[0m\u001b[0mdimensional\u001b[0m \u001b[0mspace\u001b[0m\u001b[0;34m.\u001b[0m\u001b[0;34m\u001b[0m\u001b[0;34m\u001b[0m\u001b[0m\n\u001b[1;32m    885\u001b[0m         \"\"\"\n\u001b[0;32m--> 886\u001b[0;31m         \u001b[0membedding\u001b[0m \u001b[0;34m=\u001b[0m \u001b[0mself\u001b[0m\u001b[0;34m.\u001b[0m\u001b[0m_fit\u001b[0m\u001b[0;34m(\u001b[0m\u001b[0mX\u001b[0m\u001b[0;34m)\u001b[0m\u001b[0;34m\u001b[0m\u001b[0;34m\u001b[0m\u001b[0m\n\u001b[0m\u001b[1;32m    887\u001b[0m         \u001b[0mself\u001b[0m\u001b[0;34m.\u001b[0m\u001b[0membedding_\u001b[0m \u001b[0;34m=\u001b[0m \u001b[0membedding\u001b[0m\u001b[0;34m\u001b[0m\u001b[0;34m\u001b[0m\u001b[0m\n\u001b[1;32m    888\u001b[0m         \u001b[0;32mreturn\u001b[0m \u001b[0mself\u001b[0m\u001b[0;34m.\u001b[0m\u001b[0membedding_\u001b[0m\u001b[0;34m\u001b[0m\u001b[0;34m\u001b[0m\u001b[0m\n",
            "\u001b[0;32m/usr/local/lib/python3.6/dist-packages/sklearn/manifold/_t_sne.py\u001b[0m in \u001b[0;36m_fit\u001b[0;34m(self, X, skip_num_points)\u001b[0m\n\u001b[1;32m    796\u001b[0m                           \u001b[0mX_embedded\u001b[0m\u001b[0;34m=\u001b[0m\u001b[0mX_embedded\u001b[0m\u001b[0;34m,\u001b[0m\u001b[0;34m\u001b[0m\u001b[0;34m\u001b[0m\u001b[0m\n\u001b[1;32m    797\u001b[0m                           \u001b[0mneighbors\u001b[0m\u001b[0;34m=\u001b[0m\u001b[0mneighbors_nn\u001b[0m\u001b[0;34m,\u001b[0m\u001b[0;34m\u001b[0m\u001b[0;34m\u001b[0m\u001b[0m\n\u001b[0;32m--> 798\u001b[0;31m                           skip_num_points=skip_num_points)\n\u001b[0m\u001b[1;32m    799\u001b[0m \u001b[0;34m\u001b[0m\u001b[0m\n\u001b[1;32m    800\u001b[0m     def _tsne(self, P, degrees_of_freedom, n_samples, X_embedded,\n",
            "\u001b[0;32m/usr/local/lib/python3.6/dist-packages/sklearn/manifold/_t_sne.py\u001b[0m in \u001b[0;36m_tsne\u001b[0;34m(self, P, degrees_of_freedom, n_samples, X_embedded, neighbors, skip_num_points)\u001b[0m\n\u001b[1;32m    850\u001b[0m             \u001b[0mopt_args\u001b[0m\u001b[0;34m[\u001b[0m\u001b[0;34m'n_iter_without_progress'\u001b[0m\u001b[0;34m]\u001b[0m \u001b[0;34m=\u001b[0m \u001b[0mself\u001b[0m\u001b[0;34m.\u001b[0m\u001b[0mn_iter_without_progress\u001b[0m\u001b[0;34m\u001b[0m\u001b[0;34m\u001b[0m\u001b[0m\n\u001b[1;32m    851\u001b[0m             params, kl_divergence, it = _gradient_descent(obj_func, params,\n\u001b[0;32m--> 852\u001b[0;31m                                                           **opt_args)\n\u001b[0m\u001b[1;32m    853\u001b[0m \u001b[0;34m\u001b[0m\u001b[0m\n\u001b[1;32m    854\u001b[0m         \u001b[0;31m# Save the final number of iterations\u001b[0m\u001b[0;34m\u001b[0m\u001b[0;34m\u001b[0m\u001b[0;34m\u001b[0m\u001b[0m\n",
            "\u001b[0;32m/usr/local/lib/python3.6/dist-packages/sklearn/manifold/_t_sne.py\u001b[0m in \u001b[0;36m_gradient_descent\u001b[0;34m(objective, p0, it, n_iter, n_iter_check, n_iter_without_progress, momentum, learning_rate, min_gain, min_grad_norm, verbose, args, kwargs)\u001b[0m\n\u001b[1;32m    356\u001b[0m         \u001b[0mkwargs\u001b[0m\u001b[0;34m[\u001b[0m\u001b[0;34m'compute_error'\u001b[0m\u001b[0;34m]\u001b[0m \u001b[0;34m=\u001b[0m \u001b[0mcheck_convergence\u001b[0m \u001b[0;32mor\u001b[0m \u001b[0mi\u001b[0m \u001b[0;34m==\u001b[0m \u001b[0mn_iter\u001b[0m \u001b[0;34m-\u001b[0m \u001b[0;36m1\u001b[0m\u001b[0;34m\u001b[0m\u001b[0;34m\u001b[0m\u001b[0m\n\u001b[1;32m    357\u001b[0m \u001b[0;34m\u001b[0m\u001b[0m\n\u001b[0;32m--> 358\u001b[0;31m         \u001b[0merror\u001b[0m\u001b[0;34m,\u001b[0m \u001b[0mgrad\u001b[0m \u001b[0;34m=\u001b[0m \u001b[0mobjective\u001b[0m\u001b[0;34m(\u001b[0m\u001b[0mp\u001b[0m\u001b[0;34m,\u001b[0m \u001b[0;34m*\u001b[0m\u001b[0margs\u001b[0m\u001b[0;34m,\u001b[0m \u001b[0;34m**\u001b[0m\u001b[0mkwargs\u001b[0m\u001b[0;34m)\u001b[0m\u001b[0;34m\u001b[0m\u001b[0;34m\u001b[0m\u001b[0m\n\u001b[0m\u001b[1;32m    359\u001b[0m         \u001b[0mgrad_norm\u001b[0m \u001b[0;34m=\u001b[0m \u001b[0mlinalg\u001b[0m\u001b[0;34m.\u001b[0m\u001b[0mnorm\u001b[0m\u001b[0;34m(\u001b[0m\u001b[0mgrad\u001b[0m\u001b[0;34m)\u001b[0m\u001b[0;34m\u001b[0m\u001b[0;34m\u001b[0m\u001b[0m\n\u001b[1;32m    360\u001b[0m \u001b[0;34m\u001b[0m\u001b[0m\n",
            "\u001b[0;32m/usr/local/lib/python3.6/dist-packages/sklearn/manifold/_t_sne.py\u001b[0m in \u001b[0;36m_kl_divergence_bh\u001b[0;34m(params, P, degrees_of_freedom, n_samples, n_components, angle, skip_num_points, verbose, compute_error, num_threads)\u001b[0m\n\u001b[1;32m    260\u001b[0m                                       \u001b[0mdof\u001b[0m\u001b[0;34m=\u001b[0m\u001b[0mdegrees_of_freedom\u001b[0m\u001b[0;34m,\u001b[0m\u001b[0;34m\u001b[0m\u001b[0;34m\u001b[0m\u001b[0m\n\u001b[1;32m    261\u001b[0m                                       \u001b[0mcompute_error\u001b[0m\u001b[0;34m=\u001b[0m\u001b[0mcompute_error\u001b[0m\u001b[0;34m,\u001b[0m\u001b[0;34m\u001b[0m\u001b[0;34m\u001b[0m\u001b[0m\n\u001b[0;32m--> 262\u001b[0;31m                                       num_threads=num_threads)\n\u001b[0m\u001b[1;32m    263\u001b[0m     \u001b[0mc\u001b[0m \u001b[0;34m=\u001b[0m \u001b[0;36m2.0\u001b[0m \u001b[0;34m*\u001b[0m \u001b[0;34m(\u001b[0m\u001b[0mdegrees_of_freedom\u001b[0m \u001b[0;34m+\u001b[0m \u001b[0;36m1.0\u001b[0m\u001b[0;34m)\u001b[0m \u001b[0;34m/\u001b[0m \u001b[0mdegrees_of_freedom\u001b[0m\u001b[0;34m\u001b[0m\u001b[0;34m\u001b[0m\u001b[0m\n\u001b[1;32m    264\u001b[0m     \u001b[0mgrad\u001b[0m \u001b[0;34m=\u001b[0m \u001b[0mgrad\u001b[0m\u001b[0;34m.\u001b[0m\u001b[0mravel\u001b[0m\u001b[0;34m(\u001b[0m\u001b[0;34m)\u001b[0m\u001b[0;34m\u001b[0m\u001b[0;34m\u001b[0m\u001b[0m\n",
            "\u001b[0;31mKeyboardInterrupt\u001b[0m: "
          ]
        }
      ]
    },
    {
      "cell_type": "code",
      "metadata": {
        "colab": {
          "base_uri": "https://localhost:8080/",
          "height": 415
        },
        "id": "SyutQGoLO_eW",
        "outputId": "983c4431-a9fd-4fd5-a3f7-159466740b5f"
      },
      "source": [
        "boston_comp_df = pd.DataFrame(data=X_comp)\r\n",
        "boston_comp_df['Target'] = y\r\n",
        "boston_comp_df"
      ],
      "execution_count": null,
      "outputs": [
        {
          "output_type": "execute_result",
          "data": {
            "text/html": [
              "<div>\n",
              "<style scoped>\n",
              "    .dataframe tbody tr th:only-of-type {\n",
              "        vertical-align: middle;\n",
              "    }\n",
              "\n",
              "    .dataframe tbody tr th {\n",
              "        vertical-align: top;\n",
              "    }\n",
              "\n",
              "    .dataframe thead th {\n",
              "        text-align: right;\n",
              "    }\n",
              "</style>\n",
              "<table border=\"1\" class=\"dataframe\">\n",
              "  <thead>\n",
              "    <tr style=\"text-align: right;\">\n",
              "      <th></th>\n",
              "      <th>0</th>\n",
              "      <th>Target</th>\n",
              "    </tr>\n",
              "  </thead>\n",
              "  <tbody>\n",
              "    <tr>\n",
              "      <th>0</th>\n",
              "      <td>-8.759900</td>\n",
              "      <td>24.0</td>\n",
              "    </tr>\n",
              "    <tr>\n",
              "      <th>1</th>\n",
              "      <td>11.479210</td>\n",
              "      <td>21.6</td>\n",
              "    </tr>\n",
              "    <tr>\n",
              "      <th>2</th>\n",
              "      <td>12.234463</td>\n",
              "      <td>34.7</td>\n",
              "    </tr>\n",
              "    <tr>\n",
              "      <th>3</th>\n",
              "      <td>13.657113</td>\n",
              "      <td>33.4</td>\n",
              "    </tr>\n",
              "    <tr>\n",
              "      <th>4</th>\n",
              "      <td>13.805850</td>\n",
              "      <td>36.2</td>\n",
              "    </tr>\n",
              "    <tr>\n",
              "      <th>...</th>\n",
              "      <td>...</td>\n",
              "      <td>...</td>\n",
              "    </tr>\n",
              "    <tr>\n",
              "      <th>501</th>\n",
              "      <td>-1.399494</td>\n",
              "      <td>22.4</td>\n",
              "    </tr>\n",
              "    <tr>\n",
              "      <th>502</th>\n",
              "      <td>-0.758505</td>\n",
              "      <td>20.6</td>\n",
              "    </tr>\n",
              "    <tr>\n",
              "      <th>503</th>\n",
              "      <td>0.027934</td>\n",
              "      <td>23.9</td>\n",
              "    </tr>\n",
              "    <tr>\n",
              "      <th>504</th>\n",
              "      <td>-0.016379</td>\n",
              "      <td>22.0</td>\n",
              "    </tr>\n",
              "    <tr>\n",
              "      <th>505</th>\n",
              "      <td>-0.474010</td>\n",
              "      <td>11.9</td>\n",
              "    </tr>\n",
              "  </tbody>\n",
              "</table>\n",
              "<p>506 rows × 2 columns</p>\n",
              "</div>"
            ],
            "text/plain": [
              "             0  Target\n",
              "0    -8.759900    24.0\n",
              "1    11.479210    21.6\n",
              "2    12.234463    34.7\n",
              "3    13.657113    33.4\n",
              "4    13.805850    36.2\n",
              "..         ...     ...\n",
              "501  -1.399494    22.4\n",
              "502  -0.758505    20.6\n",
              "503   0.027934    23.9\n",
              "504  -0.016379    22.0\n",
              "505  -0.474010    11.9\n",
              "\n",
              "[506 rows x 2 columns]"
            ]
          },
          "metadata": {
            "tags": []
          },
          "execution_count": 179
        }
      ]
    },
    {
      "cell_type": "code",
      "metadata": {
        "colab": {
          "base_uri": "https://localhost:8080/",
          "height": 262
        },
        "id": "osY_ayVbO_eW",
        "outputId": "97b4bc77-b9aa-4391-aea4-58ef4790b046"
      },
      "source": [
        "plt.scatter(X_comp, y, c='b', cmap=plt.cm.coolwarm, s=20, edgecolors='k');\r\n"
      ],
      "execution_count": null,
      "outputs": [
        {
          "output_type": "display_data",
          "data": {
            "image/png": "[encoded data removed]",
            "text/plain": [
              "<Figure size 432x288 with 1 Axes>"
            ]
          },
          "metadata": {
            "tags": []
          }
        }
      ]
    },
    {
      "cell_type": "code",
      "metadata": {
        "id": "LkvbAeJVO_eX"
      },
      "source": [
        "model = KNeighborsRegressor()\r\n",
        "model.fit(X_comp, y)\r\n",
        "predict = model.predict(X_comp)"
      ],
      "execution_count": null,
      "outputs": []
    },
    {
      "cell_type": "code",
      "metadata": {
        "colab": {
          "base_uri": "https://localhost:8080/",
          "height": 262
        },
        "id": "wCNroMQZO_eX",
        "outputId": "f48d37be-5be5-43b7-850f-91fe11877034"
      },
      "source": [
        "plt.scatter(X_comp, y, c='b', cmap=plt.cm.coolwarm, s=20, edgecolors='k');\r\n",
        "plt.scatter(X_comp, predict, c='r', cmap=plt.cm.coolwarm, s=20, edgecolors='k');"
      ],
      "execution_count": null,
      "outputs": [
        {
          "output_type": "display_data",
          "data": {
            "image/png": "[encoded data removed]",
            "text/plain": [
              "<Figure size 432x288 with 1 Axes>"
            ]
          },
          "metadata": {
            "tags": []
          }
        }
      ]
    },
    {
      "cell_type": "code",
      "metadata": {
        "id": "MaaUE2u3NPRD"
      },
      "source": [
        ""
      ],
      "execution_count": null,
      "outputs": []
    },
    {
      "cell_type": "code",
      "metadata": {
        "id": "08hEaj2SMzvF"
      },
      "source": [
        ""
      ],
      "execution_count": null,
      "outputs": []
    }
  ]
}